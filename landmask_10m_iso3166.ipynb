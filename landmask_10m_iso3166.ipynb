{
 "cells": [
  {
   "cell_type": "code",
   "execution_count": 1,
   "id": "798cea6b-44b0-472d-a346-f2363e8cecc7",
   "metadata": {},
   "outputs": [],
   "source": [
    "from eumap.misc import find_files, nan_percentile\n",
    "from eumap.raster import read_rasters, save_rasters, write_new_raster\n",
    "from eumap.parallel import TilingProcessing\n",
    "\n",
    "import time as tm\n",
    "import numpy as np\n",
    "import os\n",
    "# import ee\n",
    "# import geemap\n",
    "import multiprocessing\n",
    "from eumap.raster import read_rasters\n",
    "import rasterio\n",
    "from rasterio import features\n",
    "import geopandas as gpd\n",
    "from osgeo import ogr, gdal\n",
    "from multiprocessing import Pool\n",
    "import warnings\n",
    "from os.path import exists\n",
    "import pandas as pd\n",
    "from rasterio.features import rasterize\n",
    "\n",
    "# Suppress all warnings\n",
    "warnings.filterwarnings(\"ignore\")"
   ]
  },
  {
   "cell_type": "code",
   "execution_count": 12,
   "id": "69999858-989c-40c3-ae16-cf9a1f63e053",
   "metadata": {},
   "outputs": [],
   "source": [
    "li = ['RU', 'GL0000', 'AZ', 'BY', 'GE', 'PM', 'AM', 'SX', 'BL97700', 'MF', None]\n",
    "poly1 = gpd.read_file('/mnt/inca/EU_landmask/EuroGlobalMap_shapefile/PolbndA_optionRS.shp')\n",
    "poly2 = gpd.read_file('/mnt/inca/EU_landmask/EuroGlobalMap_shapefile/PolbndA.shp')\n",
    "ineu = [i for i in poly2['SHN0'].unique() if i not in li]\n",
    "poly3 = poly2.loc[poly2['SHN0'].isin(ineu)]\n",
    "geo = pd.concat([poly1, poly3])\n",
    "geo.dropna(subset=['SHN0'], inplace=True)\n",
    "geo['code'] = geo['SHN0'].str[0:2]\n",
    "\n",
    "code = pd.read_csv('/mnt/inca/EU_landmask/iso_3366_1_country_code.csv')\n",
    "# code.loc[code['alpha-2']=='GR','alpha-2']='EL'\n",
    "# code.loc[code['alpha-2']=='GB','alpha-2']='UK'\n",
    "geo['indexx'] = 0\n",
    "for i in geo['code'].unique().tolist():\n",
    "    temp = code.loc[code['alpha-2']==i]['country-code']\n",
    "    if len(temp)==0:\n",
    "        continue\n",
    "    geo.loc[geo['code']==i,'indexx'] = temp.values[0]\n",
    "    \n",
    "input_files = find_files('/mnt/inca/EU_landmask/landmask3','*.tif')\n",
    "input_files = [str(i) for i in input_files]\n",
    "shapes = [(geometry, indexx) for geometry, indexx in zip(geo.geometry, geo.indexx)]\n",
    "files = [(shapes,i) for i in input_files]\n",
    "# files = [(geo,code,i) for i in input_files]"
   ]
  },
  {
   "cell_type": "code",
   "execution_count": 15,
   "id": "9151db98-3272-4e3a-a0a6-52c298db5927",
   "metadata": {},
   "outputs": [],
   "source": [
    "def worker_iso(shapes,ref):\n",
    "#     start = tm.time()\n",
    "    mask_ds = rasterio.open(ref)\n",
    "    mask = np.zeros(mask_ds.shape)\n",
    "    refim = mask_ds.read()\n",
    "    refim = np.squeeze(refim)\n",
    "    out_f = '/mnt/inca/EU_landmask/landmask_euroworld2/iso_EU' + ref[43::]\n",
    "    \n",
    "    rasterize(shapes, out=mask, transform=mask_ds.transform)\n",
    "    mask[refim==3]=0\n",
    "    save_rasters(ref, [out_f], mask, dtype='float32' ,n_jobs=30)\n",
    "#     end = tm.time()\n",
    "#     print(f'{round((end-start)/60)} mins used')\n",
    "    return"
   ]
  },
  {
   "cell_type": "code",
   "execution_count": 16,
   "id": "8a77c6bc-bf61-4b00-867a-273e4cfed336",
   "metadata": {},
   "outputs": [],
   "source": [
    "# test = ['/mnt/inca/EU_landmask/landmask3/landmask_EU_10m_2021_v200_N45E012_Map.tif']\n",
    "# #        '/mnt/inca/EU_landmask/landmask2/landmask_EU_10m_2021_v200_N51E006_Map.tif',\n",
    "# #        '/mnt/inca/EU_landmask/landmask2/landmask_EU_10m_2021_v200_N48E000_Map.tif']\n",
    "\n",
    "# for i in test:\n",
    "#     result = worker_iso(shapes,i)\n",
    "    \n",
    "with Pool(20) as p:\n",
    "    result = p.starmap(worker_iso, files)"
   ]
  },
  {
   "cell_type": "code",
   "execution_count": 5,
   "id": "d96019ab-6c1b-41b9-9bb6-1b5ab6219239",
   "metadata": {},
   "outputs": [],
   "source": [
    "def worker_country(geo,code,f):\n",
    "    mask_ds = rasterio.open(f)\n",
    "    out_f = '/mnt/inca/EU_landmask/landmask_euroworld2/countrymap_EU' + f[43::]\n",
    "#     nut = nut.to_crs(mask_ds.crs)\n",
    "#     if exists(out_f):\n",
    "#         return None\n",
    "    \n",
    "    # Create mask\n",
    "    mask = np.zeros(mask_ds.shape)\n",
    "    mask_im = mask_ds.read()\n",
    "    mask_im = np.squeeze(mask_im)\n",
    "    mask[mask_im==3.0] = 3\n",
    "    \n",
    "    for cntr in geo['SHN0'].unique().tolist():\n",
    "        cnt = cntr[0:2]\n",
    "        temp = code.loc[code['alpha-2']==cnt]['country-code']\n",
    "        if len(temp)==0:\n",
    "            continue\n",
    "        value = temp.values[0]\n",
    "        inut = geo.loc[geo['SHN0']==cntr]\n",
    "        isnut = features.geometry_mask(inut['geometry'].tolist(), out_shape=np.squeeze(mask).shape, transform=mask_ds.transform)\n",
    "        isnut = ~isnut\n",
    "        if np.any(isnut):\n",
    "            mask[isnut] = value\n",
    "        \n",
    "#     if ~np.any(is_inland):\n",
    "#         a = f.split('_')[-2]\n",
    "#         print(f'{a} out of scope')\n",
    "#         return a\n",
    "#     out_t = '/mnt/inca/EU_landmask/landmask/test_inland' + f[55::]\n",
    "#     save_rasters(f, [out_t], is_inland, n_jobs=30)\n",
    "#     print(np.unique(mask))\n",
    "    save_rasters(f, [out_f], mask, dtype='float32' ,n_jobs=30)\n",
    "    return None"
   ]
  },
  {
   "cell_type": "code",
   "execution_count": 6,
   "id": "e63a64dd-d1f6-47a4-a35b-7823bd168946",
   "metadata": {},
   "outputs": [],
   "source": [
    "test = ['/mnt/inca/EU_landmask/landmask3/landmask_EU_10m_2021_v200_N45E012_Map.tif']\n",
    "#        '/mnt/inca/EU_landmask/landmask2/landmask_EU_10m_2021_v200_N51E006_Map.tif',\n",
    "#        '/mnt/inca/EU_landmask/landmask2/landmask_EU_10m_2021_v200_N48E000_Map.tif']\n",
    "\n",
    "for i in test:\n",
    "    result = worker_country(geo,code,i)\n",
    "\n",
    "# with Pool(12) as p:\n",
    "#     result = p.starmap(worker_country, files)"
   ]
  },
  {
   "cell_type": "code",
   "execution_count": 9,
   "id": "68f68f2e-d239-4226-8fa7-95cd88d3ed10",
   "metadata": {},
   "outputs": [],
   "source": [
    "vrt_file = '/mnt/inca/EU_landmask/landmask_euroworld/euroworld_landmask.vrt'\n",
    "# input_files = find_files('/mnt/inca/EU_landmask/landmask_euroworld/','countrymap*.tif')\n",
    "# input_files = [str(i) for i in input_files]\n",
    "# vrt_dataset = gdal.BuildVRT(vrt_file, input_files)\n",
    "# vrt_dataset.FlushCache()"
   ]
  },
  {
   "cell_type": "code",
   "execution_count": 8,
   "id": "cbea6cd8-a7f1-4e9c-a6e5-45aaeb3b4066",
   "metadata": {},
   "outputs": [],
   "source": [
    "tif_file = '/mnt/inca/EU_landmask/euroworld_landmask.tif'\n",
    "ref_file = '/mnt/inca/EU_landmask/U2018_CHA1218_12_V2020_20u1.tif'\n",
    "with rasterio.open(ref_file) as src:\n",
    "    projection = src.crs\n",
    "    transform = src.bounds\n",
    "\n",
    "# gdal.SetConfigOption('CHECK_DISK_FREE_SPACE', 'FALSE')\n",
    "# gdal.Warp(tif_file, vrt_file, format='GTiff', outputBounds=transform, dstSRS=projection, xRes=10, yRes=-10)"
   ]
  },
  {
   "cell_type": "code",
   "execution_count": 17,
   "id": "9dc26e42-89b9-4fb6-8b8a-6dc743359446",
   "metadata": {},
   "outputs": [],
   "source": [
    "input_files = find_files('/mnt/inca/EU_landmask/landmask_euroworld2','*.tif')\n",
    "input_files = [str(i) for i in input_files]\n",
    "output_vrt = '/mnt/inca/EU_landmask/landmask_euroworld2/iso_landmask.vrt'\n",
    "ds = gdal.BuildVRT(output_vrt, input_files)\n",
    "ds.FlushCache()"
   ]
  },
  {
   "cell_type": "code",
   "execution_count": 9,
   "id": "3c407f09-9c8d-43af-9194-054a0d3080bb",
   "metadata": {},
   "outputs": [
    {
     "data": {
      "text/plain": [
       "BoundingBox(left=900000.0, bottom=900000.0, right=7400000.0, top=5500000.0)"
      ]
     },
     "execution_count": 9,
     "metadata": {},
     "output_type": "execute_result"
    }
   ],
   "source": [
    "src.bounds"
   ]
  },
  {
   "cell_type": "code",
   "execution_count": null,
   "id": "3f5927b9-254c-4f24-b111-a196698b1eb0",
   "metadata": {},
   "outputs": [],
   "source": []
  }
 ],
 "metadata": {
  "kernelspec": {
   "display_name": "Python 3 (ipykernel)",
   "language": "python",
   "name": "python3"
  },
  "language_info": {
   "codemirror_mode": {
    "name": "ipython",
    "version": 3
   },
   "file_extension": ".py",
   "mimetype": "text/x-python",
   "name": "python",
   "nbconvert_exporter": "python",
   "pygments_lexer": "ipython3",
   "version": "3.8.10"
  }
 },
 "nbformat": 4,
 "nbformat_minor": 5
}
