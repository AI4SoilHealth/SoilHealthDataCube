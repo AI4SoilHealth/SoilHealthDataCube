{
 "cells": [
  {
   "cell_type": "markdown",
   "id": "6fcc9bf0-4f83-4ce9-8256-a1aa383534b3",
   "metadata": {},
   "source": [
    "## for esa world cover 10m\n",
    "- 10  Tree cover\n",
    "- 20  Shrubland\n",
    "- 30  Grassland\n",
    "- 40  Cropland\n",
    "- 50  Built-up\n",
    "- 60  Bare/sparse vegetation\n",
    "- 70  Snow and ice\n",
    "- 80  Permanent water bodies\n",
    "- 90  Herbaceous wetland\n",
    "- 95  Mangroves\n",
    "- 100 Moss and lichen"
   ]
  },
  {
   "cell_type": "code",
   "execution_count": 1,
   "id": "798cea6b-44b0-472d-a346-f2363e8cecc7",
   "metadata": {},
   "outputs": [],
   "source": [
    "from eumap.misc import find_files, nan_percentile\n",
    "from eumap.raster import read_rasters, save_rasters, write_new_raster\n",
    "import time as tm\n",
    "import numpy as np\n",
    "import os\n",
    "# import ee\n",
    "# import geemap\n",
    "import multiprocessing\n",
    "from eumap.raster import read_rasters\n",
    "import rasterio\n",
    "from rasterio import features\n",
    "import geopandas as gpd\n",
    "from osgeo import ogr, gdal\n",
    "from multiprocessing import Pool\n",
    "import warnings\n",
    "from os.path import exists\n",
    "\n",
    "# Suppress all warnings\n",
    "warnings.filterwarnings(\"ignore\")\n",
    "# Restore warning behavior (optional)\n",
    "# warnings.filterwarnings(\"default\")"
   ]
  },
  {
   "cell_type": "markdown",
   "id": "e13745e3-e5a9-4dc0-b2a9-24c21a8a14bd",
   "metadata": {},
   "source": [
    "### read in necessary shapefiles"
   ]
  },
  {
   "cell_type": "code",
   "execution_count": 2,
   "id": "d96019ab-6c1b-41b9-9bb6-1b5ab6219239",
   "metadata": {},
   "outputs": [],
   "source": [
    "# shape file from: EuroWorldMap, https://www.mapsforeurope.org/datasets/euro-global-map\n",
    "# vec = gpd.read_file('/mnt/inca/EU_landmask/EuroGlobalMap_shapefile/LandmaskA.shp')\n",
    "vec1 = gpd.read_file('/mnt/inca/EU_landmask/EuroGlobalMap_shapefile/LakeresA.shp')\n",
    "vec2 = gpd.read_file('/mnt/inca/EU_landmask/EuroGlobalMap_shapefile/rivers3.shp')\n",
    "# vec3 = gpd.read_file('/mnt/inca/EU_landmask/EuroGlobalMap_shapefile/SeaA.shp')\n",
    "geo1 = vec1['geometry'].tolist()\n",
    "geo2 = vec2['geometry'].tolist()\n",
    "# sea = vec3['geometry'].tolist()\n",
    "inwater = geo1+geo2\n",
    "# inland = vec['geometry'].tolist()  # Convert geometries to a list\n",
    "\n",
    "# exclude countries out of mapping scope\n",
    "land = gpd.read_file('/mnt/inca/EU_landmask/EuroGlobalMap_shapefile/LandmaskA.shp')\n",
    "ex = ['RU', 'GL', 'AZ', 'BY', 'GE', 'PM', 'AM', 'SX', 'BL', 'MF']\n",
    "for i in ex:\n",
    "    if i in land['ICC'].unique():\n",
    "        land = land.drop(land.loc[land['ICC']==i].index)\n",
    "\n",
    "gland = land['geometry'].tolist()\n",
    "\n",
    "sea = gpd.read_file('/mnt/inca/EU_landmask/EuroGlobalMap_shapefile/SeaA.shp')\n",
    "gsea = sea['geometry'].tolist()"
   ]
  },
  {
   "cell_type": "markdown",
   "id": "a74dcea6-5260-4805-a7e5-904af0a2e9fa",
   "metadata": {},
   "source": [
    "### create a landmask base, with land (1), ocean (3) and inland water (2)"
   ]
  },
  {
   "cell_type": "code",
   "execution_count": 7,
   "id": "b59b4b1e-49b5-4e83-8b1e-5754d885a239",
   "metadata": {},
   "outputs": [],
   "source": [
    "def worker_mask(inwater,gsea,gland,f):\n",
    "    start = tm.time()\n",
    "    mask_ds = rasterio.open(f)\n",
    "    land_mask, _ = read_rasters(raster_files=[f], dtype='float32',n_jobs=40)\n",
    "    out_f = '/mnt/inca/EU_landmask/landmask3/landmask_EU' + f[55::]\n",
    "    if exists(out_f):\n",
    "        return None\n",
    "    # Create empty mask\n",
    "    mask = np.zeros(mask_ds.shape)\n",
    "    land_mask = np.squeeze(land_mask)\n",
    "    land_mask[land_mask==80]=2\n",
    "    land_mask[(land_mask!=2) & ~np.isnan(land_mask)]=1\n",
    "    # assign land = 1\n",
    "    island = features.geometry_mask(gland, out_shape=np.squeeze(mask).shape, transform=mask_ds.transform)\n",
    "    island = ~island\n",
    "    mask[island] = 1\n",
    "    # assign sea = 3\n",
    "    issea = features.geometry_mask(gsea, out_shape=np.squeeze(mask).shape, transform=mask_ds.transform)\n",
    "    issea = ~issea\n",
    "    mask[issea] = 3\n",
    "    # assign inland water = 2\n",
    "    isinwater = features.geometry_mask(inwater, out_shape=np.squeeze(mask).shape, transform=mask_ds.transform)\n",
    "    isinwater = ~isinwater\n",
    "    mask[(land_mask==2) & (isinwater) & (mask==1)] = 2\n",
    "    # assign possible land, according to world cover\n",
    "    mask[(land_mask==1) & (mask==3)] = 1\n",
    "    \n",
    "#     if ~np.any(is_inland):\n",
    "#         a = f.split('_')[-2]\n",
    "#         print(f'{a} out of scope')\n",
    "#         return a\n",
    "#     out_t = '/mnt/inca/EU_landmask/landmask/test_inland' + f[55::]\n",
    "#     save_rasters(f, [out_t], is_inland, n_jobs=30)\n",
    "    \n",
    "    save_rasters(f, [out_f], mask, n_jobs=30)\n",
    "    end = tm.time()\n",
    "    print(f'{round((end-start)/60,2)} mins used for {f[70:-8]}')\n",
    "    return None"
   ]
  },
  {
   "cell_type": "code",
   "execution_count": 10,
   "id": "6ac44072-a3a1-4e01-a53b-c53b50b2d373",
   "metadata": {},
   "outputs": [],
   "source": [
    "# base raster: World Cover, https://esa-worldcover.org/en\n",
    "raster_files = find_files('/mnt/inca/EU_landmask/landmask2','*.tif')\n",
    "coor = [str(i).split('_')[-2] for i in raster_files]\n",
    "files = [f'/mnt/inca/EU_landmask/esa_worldcover_10m/ESA_WorldCover_10m_2021_v200_{i}_Map.tif' for i in coor]\n",
    "inputs = [(inwater,gsea,gland,i) for i in files]\n",
    "\n",
    "# test = ['/mnt/inca/EU_landmask/esa_worldcover_10m/ESA_WorldCover_10m_2021_v200_N39E042_Map.tif']\n",
    "# #        '/mnt/inca/EU_landmask/esa_worldcover_10m/ESA_WorldCover_10m_2021_v200_N33E033_Map.tif',\n",
    "# #         '/mnt/inca/EU_landmask/esa_worldcover_10m/ESA_WorldCover_10m_2021_v200_N36E036_Map.tif',\n",
    "# #         '/mnt/inca/EU_landmask/esa_worldcover_10m/ESA_WorldCover_10m_2021_v200_N33E036_Map.tif']\n",
    "# for i in test:\n",
    "#     worker_mask(inwater,gsea,gland,i)\n",
    "\n",
    "with Pool(20) as p:\n",
    "    result = p.starmap(worker_mask, inputs)"
   ]
  },
  {
   "cell_type": "markdown",
   "id": "d2488895-36ad-472a-bba3-201e0da8d890",
   "metadata": {},
   "source": [
    "### Mend tiles with incomplete land mask"
   ]
  },
  {
   "cell_type": "code",
   "execution_count": 15,
   "id": "ab4e1bf4-80e3-4feb-a554-3125a792db3a",
   "metadata": {},
   "outputs": [],
   "source": [
    "def worker_mend(inwater,gsea,gland,f):\n",
    "    start = tm.time()\n",
    "    mask_ds = rasterio.open(f)\n",
    "    land_mask, _ = read_rasters(raster_files=[f], dtype='float32',n_jobs=40)\n",
    "    out_f = '/mnt/inca/EU_landmask/landmask3/landmask_EU' + f[55::]\n",
    "#     if exists(out_f):\n",
    "#         return None\n",
    "    # Create empty mask\n",
    "    mask = np.zeros(mask_ds.shape)\n",
    "    land_mask = np.squeeze(land_mask)\n",
    "    land_mask[land_mask==80]=2\n",
    "    land_mask[(land_mask!=2) & ~np.isnan(land_mask)]=1\n",
    "    # assign land = 1\n",
    "#     island = features.geometry_mask(gland, out_shape=np.squeeze(mask).shape, transform=mask_ds.transform)\n",
    "#     island = ~island\n",
    "    mask[land_mask==1] = 1\n",
    "    # assign sea = 3\n",
    "    issea = features.geometry_mask(gsea, out_shape=np.squeeze(mask).shape, transform=mask_ds.transform)\n",
    "    issea = ~issea\n",
    "    mask[issea] = 3\n",
    "    # assign inland water = 2\n",
    "#     isinwater = features.geometry_mask(inwater, out_shape=np.squeeze(mask).shape, transform=mask_ds.transform)\n",
    "#     isinwater = ~isinwater\n",
    "    mask[(land_mask==2)] = 2\n",
    "    # assign possible land, according to world cover\n",
    "    mask[(land_mask==1) & (mask==3)] = 1\n",
    "    \n",
    "#     if ~np.any(is_inland):\n",
    "#         a = f.split('_')[-2]\n",
    "#         print(f'{a} out of scope')\n",
    "#         return a\n",
    "#     out_t = '/mnt/inca/EU_landmask/landmask/test_inland' + f[55::]\n",
    "#     save_rasters(f, [out_t], is_inland, n_jobs=30)\n",
    "    \n",
    "    save_rasters(f, [out_f], mask, n_jobs=30)\n",
    "    end = tm.time()\n",
    "    print(f'{round((end-start)/60,2)} mins used for {f[70:-8]}')\n",
    "    return None"
   ]
  },
  {
   "cell_type": "code",
   "execution_count": 16,
   "id": "37521704-3144-4a83-bcad-21b1a3ddd08a",
   "metadata": {},
   "outputs": [
    {
     "name": "stdout",
     "output_type": "stream",
     "text": [
      "1.63 mins used for N45E018\n"
     ]
    }
   ],
   "source": [
    "test = ['/mnt/inca/EU_landmask/esa_worldcover_10m/ESA_WorldCover_10m_2021_v200_N45E018_Map.tif']\n",
    "#        '/mnt/inca/EU_landmask/esa_worldcover_10m/ESA_WorldCover_10m_2021_v200_N33E033_Map.tif',\n",
    "#         '/mnt/inca/EU_landmask/esa_worldcover_10m/ESA_WorldCover_10m_2021_v200_N36E036_Map.tif',\n",
    "#         '/mnt/inca/EU_landmask/esa_worldcover_10m/ESA_WorldCover_10m_2021_v200_N33E036_Map.tif']\n",
    "for i in test:\n",
    "    worker_mend(inwater,gsea,gland,i)"
   ]
  },
  {
   "cell_type": "markdown",
   "id": "f49e9cfe-74a4-4db7-9b1c-ce16812d5ee3",
   "metadata": {},
   "source": [
    "### build vrt to do visual check"
   ]
  },
  {
   "cell_type": "code",
   "execution_count": 18,
   "id": "f2fa439b-dcf0-4311-b2de-e78513a0b94e",
   "metadata": {},
   "outputs": [],
   "source": [
    "input_files = find_files('/mnt/inca/EU_landmask/landmask3','*.tif')\n",
    "input_files = [str(i) for i in input_files]\n",
    "output_vrt = '/mnt/inca/EU_landmask/landmask3/eu_landmask.vrt'\n",
    "ds = gdal.BuildVRT(output_vrt, input_files)\n",
    "ds.FlushCache()"
   ]
  },
  {
   "cell_type": "code",
   "execution_count": 1,
   "id": "3f5594a2-d3a7-4afe-9c63-a5d10d9adb2a",
   "metadata": {},
   "outputs": [],
   "source": [
    "vrt_file = '/mnt/inca/EU_landmask/landmask2/eu_landmask.vrt'\n",
    "tif_file = '/mnt/inca/Xuemeng_testing/eu_landmask2.tif'\n",
    "ref_file = '/mnt/inca/EU_landmask/U2018_CHA1218_12_V2020_20u1.tif'\n",
    "with rasterio.open(ref_file) as src:\n",
    "    projection = src.crs\n",
    "    transform = src.bounds\n",
    "\n",
    "gdal.SetConfigOption('CHECK_DISK_FREE_SPACE', 'FALSE')\n",
    "gdal.Warp(tif_file, vrt_file, format='GTiff', outputBounds=transform, dstSRS=projection, xRes=10, yRes=-10)\n"
   ]
  },
  {
   "cell_type": "code",
   "execution_count": null,
   "id": "12fd38bd-dbb4-4735-874a-3bfd4958a83e",
   "metadata": {},
   "outputs": [],
   "source": []
  }
 ],
 "metadata": {
  "kernelspec": {
   "display_name": "Python 3 (ipykernel)",
   "language": "python",
   "name": "python3"
  },
  "language_info": {
   "codemirror_mode": {
    "name": "ipython",
    "version": 3
   },
   "file_extension": ".py",
   "mimetype": "text/x-python",
   "name": "python",
   "nbconvert_exporter": "python",
   "pygments_lexer": "ipython3",
   "version": "3.8.10"
  }
 },
 "nbformat": 4,
 "nbformat_minor": 5
}
