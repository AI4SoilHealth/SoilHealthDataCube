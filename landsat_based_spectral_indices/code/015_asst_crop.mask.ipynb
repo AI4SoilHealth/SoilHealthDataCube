{
 "cells": [
  {
   "cell_type": "code",
   "execution_count": 1,
   "id": "6a2891c1-7561-4023-9d1c-1685318ae119",
   "metadata": {},
   "outputs": [],
   "source": [
    "from rasterstats import zonal_stats\n",
    "from multiprocessing import Pool\n",
    "import pandas as pd\n",
    "import numpy as np\n",
    "import rasterio\n",
    "import geopandas as gpd"
   ]
  },
  {
   "cell_type": "markdown",
   "id": "ba96aa8f-d2d3-47e3-aaa9-8f5294ba0bed",
   "metadata": {},
   "source": [
    "### mask out the non-arable area"
   ]
  },
  {
   "cell_type": "code",
   "execution_count": 2,
   "id": "ef942653-d92b-4b26-97e7-157e8730090e",
   "metadata": {},
   "outputs": [],
   "source": [
    "# remove the non-arable pixels\n",
    "from eumap.misc import find_files, nan_percentile, ttprint\n",
    "from eumap.raster import read_rasters, save_rasters\n",
    "from eumap.parallel import TilingProcessing\n",
    "\n",
    "src = ['http://192.168.1.30:8333/ai4sh/ndti.min.slopes/ndti.min.slopes_glad.landsat.ard2.seasconv.yearly.min.theilslopes_m_30m_s_20000101_20221231_eu_epsg.3035_v20231218.tif',\n",
    "       'http://192.168.1.30:8333/ai4sh/trend/ndwi_glad.landsat.ard2.seasconv.yearly.m.theilslopes_m_30m_s_20000101_20221231_eu_epsg.3035_v20231218.tif',\n",
    "       'http://192.168.1.30:8333/ai4sh/trend/bs_glad.landsat.ard2.seasconv.yearly.m.theilslopes_m_30m_s_20000101_20221231_eu_epsg.3035_v20231218.tif',\n",
    "       'http://192.168.1.30:8333/ai4sh/trend/ndvi_glad.landsat.ard2.seasconv.yearly.m.theilslopes_m_30m_s_20000101_20221231_eu_epsg.3035_v20231218.tif']\n",
    "tgt = ['/mnt/inca/tillage_index/validate_data/ndti.min_cropland_trend.tif',\n",
    "       '/mnt/inca/tillage_index/validate_data/ndwi_cropland_trend.tif',\n",
    "       '/mnt/inca/tillage_index/validate_data/bs_cropland_trend.tif',\n",
    "       '/mnt/inca/tillage_index/validate_data/ndvi_cropland_trend.tif']\n",
    "\n",
    "# mask_file = '/mnt/inca/tillage_index/validate_data/EUROSTATS/EUCROPMAP_2018_crop.mask.tif'\n",
    "# mask, _ = read_rasters(raster_files=[mask_file], n_jobs=60)\n",
    "\n",
    "# i = 3\n",
    "# data, _ = read_rasters(raster_files=[src[i]], n_jobs=60)\n",
    "# data[(np.squeeze(mask)//100)!=2, :] = 255\n",
    "# save_rasters(src[i], [tgt[i]], data, n_jobs=60)"
   ]
  },
  {
   "cell_type": "markdown",
   "id": "48936232-0f61-4b3c-9a62-8d5919a43eee",
   "metadata": {},
   "source": [
    "### hotspot identification"
   ]
  },
  {
   "cell_type": "code",
   "execution_count": 2,
   "id": "94bbaaa3-3b37-47a7-bf58-587ce688021a",
   "metadata": {},
   "outputs": [],
   "source": [
    "# after several trials, found that the nuts2 code used by EUROSTAT is 2013 version\n",
    "nuts = gpd.read_file('/mnt/inca/tillage_index/data/EUROSTATS/nuts2/NUTS_RG_20M_2013_3035.shp')\n",
    "nuts = nuts.loc[nuts['LEVL_CODE'].isin([0])]\n",
    "\n",
    "stats = ['count', 'mean', 'std', 'median', 'percentile_90', 'percentile_10']\n",
    "tgt = ['/mnt/inca/tillage_index/data/tif_files/ndti.min_cropland_trend.tif',\n",
    "       '/mnt/inca/tillage_index/data/tif_files/min.ndti_2016.tif',\n",
    "       '/mnt/inca/tillage_index/data/tif_files/min.ndti_2010.tif']\n",
    "\n",
    "# '/mnt/inca/tillage_index/data/tif_files/ndwi_cropland_trend.tif',\n",
    "#        '/mnt/inca/tillage_index/data/tif_files/bs_cropland_trend.tif',\n",
    "#        '/mnt/inca/tillage_index/data/tif_files/ndvi_cropland_trend.tif',\n",
    "\n",
    "def calculate_zonal_stats(args):\n",
    "    index, geometry, stats, raster_path = args\n",
    "    result = {stat: np.nan for stat in stats}\n",
    "    result['count_zero'] = np.nan  # Include count_zero in the initialized results\n",
    "\n",
    "    try:\n",
    "        # Calculate the standard zonal statistics\n",
    "        zonal_result = zonal_stats(geometry, raster_path, stats=stats)\n",
    "        if zonal_result:\n",
    "            result.update(zonal_result[0])\n",
    "\n",
    "        # Open the raster file and read the values for the specified geometry\n",
    "        with rasterio.open(raster_path) as src:\n",
    "            # Convert geometry into a format that rasterio can use (from GeoJSON-like dict to a shape)\n",
    "            if isinstance(geometry, gpd.GeoDataFrame):\n",
    "                geometry = geometry.__geo_interface__\n",
    "            elif isinstance(geometry, gpd.GeoSeries):\n",
    "                geometry = geometry.values[0].__geo_interface__\n",
    "\n",
    "            # Create a mask for the geometry\n",
    "            out_image, out_transform = rasterio.mask.mask(src, [geometry], crop=True)\n",
    "            count_zero = (out_image == 0).sum()\n",
    "\n",
    "            result['count_zero'] = count_zero\n",
    "\n",
    "    except ValueError as e:\n",
    "        print(f\"Error for index {index}: {e}\")\n",
    "\n",
    "    return index, result\n",
    "\n",
    "name = ['trend','2016','2010']\n"
   ]
  },
  {
   "cell_type": "code",
   "execution_count": null,
   "id": "13d89980-c8aa-4627-8e0b-f454a3950e7a",
   "metadata": {},
   "outputs": [
    {
     "name": "stdout",
     "output_type": "stream",
     "text": [
      "/mnt/inca/tillage_index/data/tif_files/ndti.min_cropland_trend.tif\n"
     ]
    }
   ],
   "source": [
    "from rasterio.mask import mask\n",
    "\n",
    "for idd in [0, 1, 2]:\n",
    "    print(tgt[idd])\n",
    "    args = [(index, row.geometry, stats, tgt[idd]) for index, row in nuts.iterrows()]\n",
    "    \n",
    "    results = []\n",
    "    for arg in args:\n",
    "        result = calculate_zonal_stats(arg)\n",
    "        results.append(result)\n",
    "        \n",
    "    sorted_results = sorted(results, key=lambda x: x[0])\n",
    "    sorted_results = [result for index, result in sorted_results]\n",
    "    results_df = pd.DataFrame(sorted_results, index=nuts.index)\n",
    "    \n",
    "    name_map = {stat: f'{name[idd]}_{stat}' for stat in stats}\n",
    "    results_df = results_df.rename(columns=name_map)\n",
    "    \n",
    "    # The condition if idd==4 seems to be a mistake since the loop goes through indices 0, 1, 2.\n",
    "    # Assuming there's no specific action required for index 4, we can remove that condition.\n",
    "    # Instead, we merge the results directly into the nuts DataFrame.\n",
    "    nuts = nuts.merge(results_df, left_index=True, right_index=True)\n"
   ]
  },
  {
   "cell_type": "code",
   "execution_count": null,
   "id": "c458950d-85bc-42c7-9eb7-fdafdec0fb16",
   "metadata": {},
   "outputs": [],
   "source": [
    "# for idd in [0,1,2]:\n",
    "#     print(tgt[idd])\n",
    "#     args = [(index, row.geometry, stats, tgt[idd]) for index, row in nuts.iterrows()]\n",
    "    \n",
    "#     with Pool(50) as pool:\n",
    "#         results = pool.map(calculate_zonal_stats, args)\n",
    "        \n",
    "#     sorted_results = sorted(results, key=lambda x: x[0])\n",
    "#     sorted_results = [result for index, result in sorted_results]\n",
    "#     results_df = pd.DataFrame(sorted_results, index=nuts.index)\n",
    "    \n",
    "#     name_map =  {stat:f'{name[idd]}_{stat}' for stat in stats}\n",
    "#     results_df = results_df.rename(columns=name_map)\n",
    "#     if idd==4:\n",
    "#         nuts = nuts.drop(columns=['count_zero_y','count_zero_x','count_zero'])\n",
    "#         nuts = nuts.merge(results_df, left_index=True, right_index=True)\n",
    "#     else:\n",
    "#         nuts = nuts.merge(results_df, left_index=True, right_index=True)"
   ]
  },
  {
   "cell_type": "code",
   "execution_count": null,
   "id": "b1f48690-972b-4d41-b51d-7111e4eb182b",
   "metadata": {},
   "outputs": [],
   "source": []
  }
 ],
 "metadata": {
  "kernelspec": {
   "display_name": "Python 3 (ipykernel)",
   "language": "python",
   "name": "python3"
  },
  "language_info": {
   "codemirror_mode": {
    "name": "ipython",
    "version": 3
   },
   "file_extension": ".py",
   "mimetype": "text/x-python",
   "name": "python",
   "nbconvert_exporter": "python",
   "pygments_lexer": "ipython3",
   "version": "3.8.10"
  }
 },
 "nbformat": 4,
 "nbformat_minor": 5
}
