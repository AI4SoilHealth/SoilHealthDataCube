{
 "cells": [
  {
   "cell_type": "code",
   "execution_count": 1,
   "id": "eed8a059-a6fd-4d28-a91e-379f7f3f9f92",
   "metadata": {},
   "outputs": [],
   "source": [
    "from eumap.datasets.eo import GLADLandsat\n",
    "import sys\n",
    "import os\n",
    "import traceback\n",
    "from pathlib import Path\n",
    "from urllib3.exceptions import MaxRetryError\n",
    "import numpy as np\n",
    "\n",
    "#sys.path.append('./eumap/')\n",
    "\n",
    "from eumap.raster import save_rasters\n",
    "from eumap.misc import ttprint\n",
    "from eumap import parallel\n",
    "import pandas as pd \n",
    "from multiprocessing import Pool\n",
    "from eumap.misc import find_files, nan_percentile\n",
    "import shutil\n"
   ]
  },
  {
   "cell_type": "code",
   "execution_count": 2,
   "id": "08822d74-7df2-4785-bc2d-0e50d080ad9f",
   "metadata": {},
   "outputs": [],
   "source": [
    "tile_ids = ['014E_59N','006W_37N','008E_45N','005E_52N','024E_43N']\n",
    "year_list = list(range(2000,2022,1))\n",
    "bands = ['blue','green','red','NIR','SWIR1','SWIR2','thermal','QA']"
   ]
  },
  {
   "cell_type": "code",
   "execution_count": 4,
   "id": "15a9e0a4-e52e-4b27-8dd7-f6def605a151",
   "metadata": {},
   "outputs": [],
   "source": [
    "def worker_download(year,tile):\n",
    "    idl = list(range(1,24))\n",
    "    bands = ['blue','green','red','NIR','SWIR1','SWIR2','thermal','QA']\n",
    "    username = 'lealparente'\n",
    "    password = '8IaXGlGEvvlFCA+a'\n",
    "    glad_landsat = GLADLandsat(username, password, verbose=True)\n",
    "    data, urls, base_raster = glad_landsat.read(tile, f'{year}-1', f'{year}-23',clear_sky=False)\n",
    "    \n",
    "    for i in range(8):\n",
    "        band = bands[i]\n",
    "        out_path = [f'/mnt/tupi/Xuemeng_testing/{band}/{year}/{iid}/landsat_{tile}.tif' for iid in idl]\n",
    "        save_rasters(base_raster, out_path, data[i,:,:,:], n_jobs=20)\n",
    "    \n",
    "    return None"
   ]
  },
  {
   "cell_type": "code",
   "execution_count": 6,
   "id": "99878b87-7e5a-458a-a129-34012c26faa6",
   "metadata": {},
   "outputs": [],
   "source": [
    "for year in year_list:\n",
    "    inputs = [(year,idd) for idd in tile_ids]\n",
    "    with Pool(5) as p:\n",
    "        p.starmap(worker_download, inputs)"
   ]
  },
  {
   "cell_type": "code",
   "execution_count": 3,
   "id": "17e1cda2-a71d-4066-a7fb-06b66bf23f93",
   "metadata": {},
   "outputs": [],
   "source": [
    "# rename\n",
    "\n",
    "doyc = ['001','017','033','049','065','081','097']\n",
    "doyo = [1,17,33,49,65,81,97]\n",
    "doyo = [str(i) for i in doyo]\n",
    "fndic = dict(zip(doyo,doyc))\n",
    "\n",
    "# os.rename(old_name, new_name)"
   ]
  },
  {
   "cell_type": "code",
   "execution_count": 4,
   "id": "ee9a1025-7f5d-40f4-abf0-7b9afa256a6b",
   "metadata": {},
   "outputs": [],
   "source": [
    "files = []\n",
    "for bs in bands:\n",
    "    for ys in year_list:\n",
    "        for ds in doyo:\n",
    "            # ii = fndic.get(ds)\n",
    "            # ff = f'/mnt/tupi/Xuemeng_testing/original/{bs}/{ys}/{ii}'\n",
    "            # if os.path.exists(ff):\n",
    "            #     continue\n",
    "            # else:\n",
    "            #     os.makedirs(ff)\n",
    "                for ts in tile_ids:\n",
    "                    files.append(f'/mnt/tupi/Xuemeng_testing/original/{bs}/{ys}/{ds}/landsat_{ts}.tif')\n",
    "                    \n",
    "news = [i.replace('/'+i.split('/')[-2]+'/', '/'+ fndic.get(i.split('/')[-2])+'/') for i in files]"
   ]
  },
  {
   "cell_type": "code",
   "execution_count": 6,
   "id": "9c75318b-835c-475e-ad50-daab47cb1c20",
   "metadata": {},
   "outputs": [],
   "source": [
    "for i in range(len(files)):\n",
    "    if os.path.exists(news[i]):\n",
    "        continue\n",
    "    else:\n",
    "        shutil.copy(files[i],news[i])\n",
    "        os.remove(files[i])"
   ]
  },
  {
   "cell_type": "code",
   "execution_count": 8,
   "id": "533119e6-9156-4fdf-8cf8-d4a5870bff55",
   "metadata": {},
   "outputs": [],
   "source": [
    "dirs = []\n",
    "for bs in bands:\n",
    "    for ys in year_list:\n",
    "        for ds in doyo:\n",
    "            dirs.append(f'/mnt/tupi/Xuemeng_testing/original/{bs}/{ys}/{ds}')"
   ]
  },
  {
   "cell_type": "code",
   "execution_count": 13,
   "id": "7527ebba-3278-4533-8e1c-8f5a0c6a9ead",
   "metadata": {},
   "outputs": [],
   "source": [
    "for i in range(len(dirs)):\n",
    "    if os.path.exists(dirs[i]):\n",
    "        os.rmdir(dirs[i])"
   ]
  },
  {
   "cell_type": "code",
   "execution_count": 27,
   "id": "efcbec24-fa79-48ab-9e3c-6d2d0d7e4e68",
   "metadata": {},
   "outputs": [],
   "source": [
    "rm = find_files('/mnt/tupi/Xuemeng_testing/original','*landsat*.tif')\n",
    "for i in rm:\n",
    "    os.remove(str(i))"
   ]
  },
  {
   "cell_type": "code",
   "execution_count": 8,
   "id": "75d1549e-54bf-4494-91d9-a7e718bcb0f7",
   "metadata": {},
   "outputs": [],
   "source": [
    "rmf = ['/mnt/tupi/Xuemeng_testing/'+i for i in bands]\n",
    "for i in rmf:\n",
    "    shutil.rmtree(i)"
   ]
  },
  {
   "cell_type": "code",
   "execution_count": 14,
   "id": "fe042784-998f-44eb-8813-b80b27093f03",
   "metadata": {},
   "outputs": [],
   "source": [
    "files = find_files('/mnt/tupi/Xuemeng_testing/original','landsat_*.tif')"
   ]
  },
  {
   "cell_type": "code",
   "execution_count": 16,
   "id": "3736d040-c31d-4950-873d-aa51a245dc68",
   "metadata": {},
   "outputs": [
    {
     "data": {
      "text/plain": [
       "0"
      ]
     },
     "execution_count": 16,
     "metadata": {},
     "output_type": "execute_result"
    }
   ],
   "source": [
    "len(files)-22*8*5*23"
   ]
  },
  {
   "cell_type": "code",
   "execution_count": null,
   "id": "2888d813-c196-4edb-9c18-6e02f6b1c571",
   "metadata": {},
   "outputs": [],
   "source": []
  }
 ],
 "metadata": {
  "kernelspec": {
   "display_name": "Python 3 (ipykernel)",
   "language": "python",
   "name": "python3"
  },
  "language_info": {
   "codemirror_mode": {
    "name": "ipython",
    "version": 3
   },
   "file_extension": ".py",
   "mimetype": "text/x-python",
   "name": "python",
   "nbconvert_exporter": "python",
   "pygments_lexer": "ipython3",
   "version": "3.8.13"
  }
 },
 "nbformat": 4,
 "nbformat_minor": 5
}
