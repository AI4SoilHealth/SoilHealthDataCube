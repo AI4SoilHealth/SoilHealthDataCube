{
 "cells": [
  {
   "cell_type": "code",
   "execution_count": 1,
   "id": "210aa10e-8773-4839-8de9-16e78da8a392",
   "metadata": {},
   "outputs": [],
   "source": [
    "from skmap.io import RasterData\n",
    "from skmap.io import process\n",
    "import os\n",
    "\n",
    "from pathlib import Path\n",
    "from minio import Minio\n",
    "from eumap.misc import find_files, nan_percentile\n",
    "import numpy as np\n",
    "from minio.commonconfig import REPLACE, CopySource\n",
    "import time as tm\n",
    "import multiprocess as mp\n",
    "\n",
    "tile_ids = ['014E_59N','006W_37N','008E_45N','005E_52N','024E_43N']\n",
    "year_list = list(range(2000,2022,1))\n",
    "bands = ['blue','green','red','NIR','SWIR1','SWIR2','thermal']\n"
   ]
  },
  {
   "cell_type": "code",
   "execution_count": 3,
   "id": "54350068-4e2d-4486-b04a-3be5c233f30d",
   "metadata": {},
   "outputs": [],
   "source": [
    "def worker_move(src_f):\n",
    "    # start = tm.time()\n",
    "    # configuration\n",
    "    s3_config = {\n",
    "    'access_key': 'iwum9G1fEQ920lYV4ol9',\n",
    "    'secret_access_key': 'GMBME3Wsm8S7mBXw3U4CNWurkzWMqGZ0n2rXHggS0',\n",
    "    'host': '192.168.1.30:8333',\n",
    "    'bucket': 'tmp-bare-soil'}\n",
    "    \n",
    "    fn = src_f.split('/')[-1]\n",
    "    client = Minio(s3_config['host'], s3_config['access_key'], s3_config['secret_access_key'], secure=False)\n",
    "    s3_path = src_f[26::]\n",
    "\n",
    "    \n",
    "    client.fput_object(s3_config['bucket'], s3_path, src_f)\n",
    "    # end = tm.time()\n",
    "    \n",
    "    # print(f'{fn} finished in {round((end-start)/60)} mins')\n",
    "    return None"
   ]
  },
  {
   "cell_type": "code",
   "execution_count": 4,
   "id": "c9ec8922-7f1c-4399-8e1b-921d98447720",
   "metadata": {},
   "outputs": [],
   "source": [
    "files = find_files('/mnt/tupi/Xuemeng_testing/original','landsat_*.tif')\n",
    "files = [str(i) for i in files]"
   ]
  },
  {
   "cell_type": "code",
   "execution_count": 8,
   "id": "e4064ba5-d003-4617-9220-654c20eec6b3",
   "metadata": {},
   "outputs": [],
   "source": [
    "with mp.Pool(processes=50) as pool:\n",
    "    result = pool.map(worker_move, files)"
   ]
  },
  {
   "cell_type": "code",
   "execution_count": 14,
   "id": "a7586a87-f1a5-423e-9870-a137d5320c27",
   "metadata": {},
   "outputs": [],
   "source": [
    "def worker_aggregate(year,band,tile,period):\n",
    "    \n",
    "    ff = f'/mnt/tupi/Xuemeng_testing/landsat_{period}/{band}_landsat.{tile}_p50_{str(year+1)}001.tif'\n",
    "\n",
    "    # if os.path.exists(ff):\n",
    "    #     print(f'{ff} exists!')\n",
    "    #     return None\n",
    "    # else:\n",
    "    #     print(f'{ff} generating')\n",
    "                    \n",
    "    \n",
    "    ks = f'http://192.168.1.30:8333/tmp-bare-soil/original/{band}/'\n",
    "    ke = f'/landsat_{tile}.tif'\n",
    "    rdata = RasterData({\n",
    "        f'{band}': ks + '{dt}' + ke\n",
    "    }, verbose=True).timespan(f'{str(year)}/001', f'{str(year+1)}/001', date_step=16, date_unit='days', date_format='%Y/%j', date_style='start_date') \\\n",
    "    .read()\n",
    "    \n",
    "    base_raster_path = rdata._base_raster()\n",
    "    \n",
    "    outf = '{gr}_landsat.' + f'{tile}' + '_{op}_{dt}'\n",
    "    \n",
    "    if period == 'monthly':\n",
    "        processor = process.TimeEnum.MONTHLY_15P\n",
    "    elif period == 'bimonthly':\n",
    "        processor = process.TimeEnum.BIMONTHLY_15P\n",
    "        \n",
    "    rdata = rdata.run(\n",
    "        process.TimeAggregate(\n",
    "            time=[processor], operations = ['p50'], verbose=True\n",
    "        ), outname=outf, drop_input=True\n",
    "    ).rename(groups= {f'{band}..p50': f'{band}'}\n",
    "            )\n",
    "    \n",
    "    rdata.info['name'] = rdata.info['name'].apply(lambda x: x.replace('/',''))\n",
    "    rdata.info['input_path'] = base_raster_path\n",
    "    \n",
    "    rdata.to_dir(f'landsat_{period}')\n",
    "    return None"
   ]
  },
  {
   "cell_type": "code",
   "execution_count": 15,
   "id": "13346d46-201c-4e99-9534-e04d387946be",
   "metadata": {},
   "outputs": [
    {
     "name": "stdout",
     "output_type": "stream",
     "text": [
      "[16:36:04] RasterData with 23 rasters and 1 groups\n",
      "[16:36:04] Reading 23 raster file(s) using 4 workers\n",
      "[16:36:13] Read array shape: (4004, 4004, 23)\n",
      "[16:36:16] Running TimeAggregate on (4004, 4004, 23) for thermal group\n",
      "[16:36:20] Computing 13 time aggregates from 2004 to 2005\n",
      "[16:36:27] Dropping data and info for thermal group\n",
      "[16:36:27] Execution time for TimeAggregate: 14.53 segs\n",
      "[16:36:27] Saving rasters in landsat_monthly\n",
      "[16:36:29] Saving 13 raster files using 4 workers\n"
     ]
    }
   ],
   "source": [
    "worker_aggregate(2004,'thermal','014E_59N','monthly')"
   ]
  },
  {
   "cell_type": "code",
   "execution_count": 2,
   "id": "9c8b8026-47c1-4349-a0c7-b599c8498763",
   "metadata": {},
   "outputs": [
    {
     "data": {
      "text/plain": [
       "34"
      ]
     },
     "execution_count": 2,
     "metadata": {},
     "output_type": "execute_result"
    }
   ],
   "source": [
    "tem = find_files('/mnt/tupi/Xuemeng_testing/landsat_monthly/','*landsat*.tif')\n",
    "tem = [str(i) for i in tem]\n",
    "len(tem)-22*5*12*7"
   ]
  },
  {
   "cell_type": "code",
   "execution_count": 7,
   "id": "c0e075d5-e96f-4a65-8694-c9de3736d5d4",
   "metadata": {},
   "outputs": [
    {
     "data": {
      "text/plain": [
       "'2000001.tif'"
      ]
     },
     "execution_count": 7,
     "metadata": {},
     "output_type": "execute_result"
    }
   ],
   "source": [
    "tem[0].split('_')[-1]"
   ]
  },
  {
   "cell_type": "code",
   "execution_count": 4,
   "id": "551eb6dd-b46e-4d52-b7eb-1c75cbdfe915",
   "metadata": {},
   "outputs": [],
   "source": [
    "date = []\n",
    "for i in tem:\n",
    "    date.append(i.split('_')[-1])\n",
    "    \n",
    "date = list(set(date))"
   ]
  },
  {
   "cell_type": "code",
   "execution_count": 5,
   "id": "36f0ed2e-9ae5-4806-aa67-a8f7a754e2ef",
   "metadata": {},
   "outputs": [],
   "source": [
    "temf = []\n",
    "for period in ['monthly']:\n",
    "    for ts in tile_ids:\n",
    "        for bs in bands:\n",
    "            for ys in date:\n",
    "                temf.append(f'/mnt/tupi/Xuemeng_testing/landsat_{period}/{bs}_landsat.{ts}_p50_{ys}')"
   ]
  },
  {
   "cell_type": "code",
   "execution_count": 11,
   "id": "c339ca96-15f3-4eb8-8895-907a7f0bd3a6",
   "metadata": {},
   "outputs": [],
   "source": [
    "# rm = ['/mnt/tupi/Xuemeng_testing/landsat_monthly/SWIR1_landsat.006W_37N_p50_2018001.tif',\n",
    "#       '/mnt/tupi/Xuemeng_testing/landsat_monthly/blue_landsat.008E_45N_p50_2017001.tif',\n",
    "#       '/mnt/tupi/Xuemeng_testing/landsat_monthly/NIR_landsat.008E_45N_p50_2016001.tif',\n",
    "#       '/mnt/tupi/Xuemeng_testing/landsat_monthly/thermal_landsat.008E_45N_p50_2015001.tif',\n",
    "#       '/mnt/tupi/Xuemeng_testing/landsat_monthly/red_landsat.005E_52N_p50_2014001.tif',\n",
    "#       '/mnt/tupi/Xuemeng_testing/landsat_monthly/SWIR2_landsat.005E_52N_p50_2013001.tif',\n",
    "#       '/mnt/tupi/Xuemeng_testing/landsat_monthly/green_landsat.024E_43N_p50_2012001.tif',\n",
    "#       '/mnt/tupi/Xuemeng_testing/landsat_monthly/SWIR1_landsat.024E_43N_p50_2011001.tif']\n",
    "   \n",
    "# for i in rm:\n",
    "#     os.remove(i)\n",
    "      \n",
    "      \n",
    "      "
   ]
  },
  {
   "cell_type": "code",
   "execution_count": 6,
   "id": "29bec2d5-c52c-457f-90f7-4d8cb44f467d",
   "metadata": {},
   "outputs": [
    {
     "name": "stdout",
     "output_type": "stream",
     "text": [
      "/mnt/tupi/Xuemeng_testing/landsat_monthly/thermal_landsat.014E_59N_p50_2004182.tif\n"
     ]
    }
   ],
   "source": [
    "omit = []\n",
    "for i in temf:\n",
    "    if i not in tem:\n",
    "        omit.append(i)\n",
    "        print(i)"
   ]
  },
  {
   "cell_type": "code",
   "execution_count": 31,
   "id": "e62ebbef-c83e-44ec-b368-58192601932e",
   "metadata": {},
   "outputs": [
    {
     "data": {
      "text/plain": [
       "9187"
      ]
     },
     "execution_count": 31,
     "metadata": {},
     "output_type": "execute_result"
    }
   ],
   "source": [
    "len(tem)"
   ]
  },
  {
   "cell_type": "code",
   "execution_count": 32,
   "id": "2d2de906-7cf3-4d8d-a5d3-de2debaced71",
   "metadata": {},
   "outputs": [],
   "source": [
    "# inputs =[]\n",
    "# for period in ['monthly','bimonthly']:\n",
    "#     for ts in tile_ids:\n",
    "#         for bs in bands:\n",
    "#             for ys in year_list:\n",
    "#                 inputs.append((ys,bs,ts,period))\n",
    "                \n",
    "# with mp.Pool(processes=6) as pool:\n",
    "#     result = pool.starmap(worker_aggregate, inputs)"
   ]
  },
  {
   "cell_type": "code",
   "execution_count": 6,
   "id": "5cf37c09-a4a9-4729-ad5e-2e0625007546",
   "metadata": {},
   "outputs": [
    {
     "name": "stdout",
     "output_type": "stream",
     "text": [
      "/mnt/tupi/Xuemeng_testing/landsat_monthly/SWIR1_landsat.006W_37N_p50_2018001.tif generating\n",
      "[19:36:15] RasterData with 23 rasters and 1 groups\n",
      "[19:36:15] Reading 23 raster file(s) using 4 workers\n",
      "[19:36:26] Read array shape: (4004, 4004, 23)\n",
      "[19:36:29] Running TimeAggregate on (4004, 4004, 23) for SWIR1 group\n",
      "[19:36:33] Computing 13 time aggregates from 2017 to 2018\n",
      "[19:36:40] Dropping data and info for SWIR1 group\n",
      "[19:36:40] Execution time for TimeAggregate: 14.46 segs\n",
      "[19:36:40] Saving rasters in landsat_monthly\n",
      "[19:36:42] Saving 13 raster files using 4 workers\n",
      "SWIR1_landsat.006W_37N_p50_2018001.tif generated\n",
      "\n",
      "/mnt/tupi/Xuemeng_testing/landsat_monthly/blue_landsat.008E_45N_p50_2017001.tif generating\n",
      "[19:36:45] RasterData with 23 rasters and 1 groups\n",
      "[19:36:45] Reading 23 raster file(s) using 4 workers\n",
      "[19:36:55] Read array shape: (4004, 4004, 23)\n",
      "[19:36:58] Running TimeAggregate on (4004, 4004, 23) for blue group\n",
      "[19:37:02] Computing 13 time aggregates from 2016 to 2017\n",
      "[19:37:09] Dropping data and info for blue group\n",
      "[19:37:09] Execution time for TimeAggregate: 14.67 segs\n",
      "[19:37:09] Saving rasters in landsat_monthly\n",
      "[19:37:11] Saving 13 raster files using 4 workers\n",
      "blue_landsat.008E_45N_p50_2017001.tif generated\n",
      "\n",
      "/mnt/tupi/Xuemeng_testing/landsat_monthly/NIR_landsat.008E_45N_p50_2016001.tif generating\n",
      "[19:37:14] RasterData with 23 rasters and 1 groups\n",
      "[19:37:14] Reading 23 raster file(s) using 4 workers\n",
      "[19:37:23] Read array shape: (4004, 4004, 23)\n",
      "[19:37:25] Running TimeAggregate on (4004, 4004, 23) for NIR group\n",
      "[19:37:30] Computing 13 time aggregates from 2015 to 2016\n",
      "[19:37:36] Dropping data and info for NIR group\n",
      "[19:37:37] Execution time for TimeAggregate: 14.56 segs\n",
      "[19:37:37] Saving rasters in landsat_monthly\n",
      "[19:37:39] Saving 13 raster files using 4 workers\n",
      "NIR_landsat.008E_45N_p50_2016001.tif generated\n",
      "\n",
      "/mnt/tupi/Xuemeng_testing/landsat_monthly/thermal_landsat.008E_45N_p50_2015001.tif generating\n",
      "[19:37:42] RasterData with 23 rasters and 1 groups\n",
      "[19:37:42] Reading 23 raster file(s) using 4 workers\n",
      "[19:37:50] Read array shape: (4004, 4004, 23)\n",
      "[19:37:53] Running TimeAggregate on (4004, 4004, 23) for thermal group\n",
      "[19:37:57] Computing 13 time aggregates from 2014 to 2015\n",
      "[19:38:04] Dropping data and info for thermal group\n",
      "[19:38:05] Execution time for TimeAggregate: 14.34 segs\n",
      "[19:38:05] Saving rasters in landsat_monthly\n",
      "[19:38:07] Saving 13 raster files using 4 workers\n",
      "thermal_landsat.008E_45N_p50_2015001.tif generated\n",
      "\n",
      "/mnt/tupi/Xuemeng_testing/landsat_monthly/red_landsat.005E_52N_p50_2014001.tif generating\n",
      "[19:38:09] RasterData with 23 rasters and 1 groups\n",
      "[19:38:09] Reading 23 raster file(s) using 4 workers\n",
      "[19:38:17] Read array shape: (4004, 4004, 23)\n",
      "[19:38:20] Running TimeAggregate on (4004, 4004, 23) for red group\n",
      "[19:38:24] Computing 13 time aggregates from 2013 to 2014\n",
      "[19:38:31] Dropping data and info for red group\n",
      "[19:38:32] Execution time for TimeAggregate: 14.41 segs\n",
      "[19:38:32] Saving rasters in landsat_monthly\n",
      "[19:38:34] Saving 13 raster files using 4 workers\n",
      "red_landsat.005E_52N_p50_2014001.tif generated\n",
      "\n",
      "/mnt/tupi/Xuemeng_testing/landsat_monthly/SWIR2_landsat.005E_52N_p50_2013001.tif generating\n",
      "[19:38:36] RasterData with 23 rasters and 1 groups\n",
      "[19:38:36] Reading 23 raster file(s) using 4 workers\n",
      "[19:38:45] Read array shape: (4004, 4004, 23)\n",
      "[19:38:48] Running TimeAggregate on (4004, 4004, 23) for SWIR2 group\n",
      "[19:38:52] Computing 13 time aggregates from 2012 to 2013\n",
      "[19:38:58] Dropping data and info for SWIR2 group\n",
      "[19:38:59] Execution time for TimeAggregate: 14.37 segs\n",
      "[19:38:59] Saving rasters in landsat_monthly\n",
      "[19:39:01] Saving 13 raster files using 4 workers\n",
      "SWIR2_landsat.005E_52N_p50_2013001.tif generated\n",
      "\n",
      "/mnt/tupi/Xuemeng_testing/landsat_monthly/green_landsat.024E_43N_p50_2012001.tif generating\n",
      "[19:39:03] RasterData with 23 rasters and 1 groups\n",
      "[19:39:03] Reading 23 raster file(s) using 4 workers\n",
      "[19:39:12] Read array shape: (4004, 4004, 23)\n",
      "[19:39:14] Running TimeAggregate on (4004, 4004, 23) for green group\n",
      "[19:39:19] Computing 13 time aggregates from 2011 to 2012\n",
      "[19:39:25] Dropping data and info for green group\n",
      "[19:39:26] Execution time for TimeAggregate: 14.47 segs\n",
      "[19:39:26] Saving rasters in landsat_monthly\n",
      "[19:39:28] Saving 13 raster files using 4 workers\n",
      "green_landsat.024E_43N_p50_2012001.tif generated\n",
      "\n",
      "/mnt/tupi/Xuemeng_testing/landsat_monthly/SWIR1_landsat.024E_43N_p50_2011001.tif generating\n",
      "[19:39:30] RasterData with 23 rasters and 1 groups\n",
      "[19:39:30] Reading 23 raster file(s) using 4 workers\n",
      "[19:39:39] Read array shape: (4004, 4004, 23)\n",
      "[19:39:42] Running TimeAggregate on (4004, 4004, 23) for SWIR1 group\n",
      "[19:39:46] Computing 13 time aggregates from 2010 to 2011\n",
      "[19:39:52] Dropping data and info for SWIR1 group\n",
      "[19:39:53] Execution time for TimeAggregate: 14.29 segs\n",
      "[19:39:53] Saving rasters in landsat_monthly\n",
      "[19:39:55] Saving 13 raster files using 4 workers\n",
      "SWIR1_landsat.024E_43N_p50_2011001.tif generated\n",
      "\n"
     ]
    }
   ],
   "source": [
    "for period in ['monthly','bimonthly']:\n",
    "    for ts in tile_ids:\n",
    "        for bs in bands:\n",
    "            for ys in year_list:\n",
    "                # inputs.append((ys,bs,ts,period))\n",
    "                ff = f'/mnt/tupi/Xuemeng_testing/landsat_{period}/{bs}_landsat.{ts}_p50_{str(ys+1)}001.tif'\n",
    "                fn = ff.split('/')[-1]\n",
    "                \n",
    "                if os.path.exists(ff):\n",
    "                    continue\n",
    "                else:\n",
    "                    worker_aggregate(ys,bs,ts,period)\n",
    "                    print(f'{fn} generated')\n",
    "                    print()"
   ]
  },
  {
   "cell_type": "code",
   "execution_count": 5,
   "id": "a2a45cd3-d150-40bb-8bc3-b1939cd2fc71",
   "metadata": {},
   "outputs": [],
   "source": [
    "files = find_files('/mnt/tupi/Xuemeng_testing/monthly_gapfilled','*_landsat*.tif')\n",
    "ff = []\n",
    "for i in files:\n",
    "    # ii = str(i).split('_')[-1]\n",
    "    # if ii == '2022001.tif':\n",
    "    os.remove(str(i))"
   ]
  },
  {
   "cell_type": "code",
   "execution_count": 4,
   "id": "9c2f4b67-a658-458d-b2ec-fcf54b75f3e8",
   "metadata": {},
   "outputs": [],
   "source": [
    "def worker_gapfill(ts,bs,period):\n",
    "    \n",
    "    # bands = ['blue','green','red','NIR','SWIR1','SWIR2','thermal']\n",
    "    # fgroups = [f'/mnt/tupi/Xuemeng_testing/landsat_monthly/{bs}_landsat.{ts}_p50_'+'{dt}.tif' for bs in bands]\n",
    "    # group = dict(zip(bands, fgroups))\n",
    "    group = {f'{bs}': f'/mnt/tupi/Xuemeng_testing/landsat_monthly/{bs}_landsat.{ts}_p50_'+'{dt}.tif'}\n",
    "    if period == 'monthly':\n",
    "        ks = 1\n",
    "    else:\n",
    "        ks = 2\n",
    "        \n",
    "    rdata = RasterData(group,verbose=True) \\\n",
    "    .timespan('2000001', '2021353', date_step=ks, date_unit='months', date_format='%Y%j', date_style='start_date') \\\n",
    "    .read()\n",
    "    \n",
    "    outn = 'landsat_{gr}_'+f'{ts}' + '_{dt}'\n",
    "    base_raster_path = rdata._base_raster()\n",
    "    rdata = rdata.run(process.SeasConvFill(season_size=4), outname=outn, drop_input=True).rename(groups= {'{gr}..p50': '{gr}'})\n",
    "    rdata.info['input_path'] = base_raster_path\n",
    "    rdata.to_dir(f'{period}_gapfilled')\n",
    "    \n",
    "    return None"
   ]
  },
  {
   "cell_type": "code",
   "execution_count": 3,
   "id": "43e78c37-a737-45f9-92bf-be5c7d3e24a1",
   "metadata": {},
   "outputs": [
    {
     "name": "stdout",
     "output_type": "stream",
     "text": [
      "/mnt/tupi/Xuemeng_testing/monthly_gapfilled/landsat_blue_014E.59N_2021335.tif\n",
      "[13:14:14] RasterData with 264 rasters and 1 groups\n",
      "[13:14:14] Reading 264 raster file(s) using 4 workers\n"
     ]
    },
    {
     "ename": "KeyboardInterrupt",
     "evalue": "",
     "output_type": "error",
     "traceback": [
      "\u001b[0;31m---------------------------------------------------------------------------\u001b[0m",
      "\u001b[0;31mKeyboardInterrupt\u001b[0m                         Traceback (most recent call last)",
      "Input \u001b[0;32mIn [3]\u001b[0m, in \u001b[0;36m<cell line: 1>\u001b[0;34m()\u001b[0m\n\u001b[1;32m      9\u001b[0m     \u001b[38;5;28mprint\u001b[39m()\n\u001b[1;32m     10\u001b[0m \u001b[38;5;28;01melse\u001b[39;00m:\n\u001b[0;32m---> 11\u001b[0m     \u001b[43mworker_gapfill\u001b[49m\u001b[43m(\u001b[49m\u001b[43mts\u001b[49m\u001b[43m,\u001b[49m\u001b[43mbs\u001b[49m\u001b[43m,\u001b[49m\u001b[43mperiod\u001b[49m\u001b[43m)\u001b[49m\n",
      "Input \u001b[0;32mIn [2]\u001b[0m, in \u001b[0;36mworker_gapfill\u001b[0;34m(ts, bs, period)\u001b[0m\n\u001b[1;32m      9\u001b[0m \u001b[38;5;28;01melse\u001b[39;00m:\n\u001b[1;32m     10\u001b[0m     ks \u001b[38;5;241m=\u001b[39m \u001b[38;5;241m2\u001b[39m\n\u001b[0;32m---> 12\u001b[0m rdata \u001b[38;5;241m=\u001b[39m \u001b[43mRasterData\u001b[49m\u001b[43m(\u001b[49m\u001b[43mgroup\u001b[49m\u001b[43m,\u001b[49m\u001b[43mverbose\u001b[49m\u001b[38;5;241;43m=\u001b[39;49m\u001b[38;5;28;43;01mTrue\u001b[39;49;00m\u001b[43m)\u001b[49m\u001b[43m \u001b[49m\u001b[43m\\\u001b[49m\n\u001b[1;32m     13\u001b[0m \u001b[43m\u001b[49m\u001b[38;5;241;43m.\u001b[39;49m\u001b[43mtimespan\u001b[49m\u001b[43m(\u001b[49m\u001b[38;5;124;43m'\u001b[39;49m\u001b[38;5;124;43m2000001\u001b[39;49m\u001b[38;5;124;43m'\u001b[39;49m\u001b[43m,\u001b[49m\u001b[43m \u001b[49m\u001b[38;5;124;43m'\u001b[39;49m\u001b[38;5;124;43m2021353\u001b[39;49m\u001b[38;5;124;43m'\u001b[39;49m\u001b[43m,\u001b[49m\u001b[43m \u001b[49m\u001b[43mdate_step\u001b[49m\u001b[38;5;241;43m=\u001b[39;49m\u001b[43mks\u001b[49m\u001b[43m,\u001b[49m\u001b[43m \u001b[49m\u001b[43mdate_unit\u001b[49m\u001b[38;5;241;43m=\u001b[39;49m\u001b[38;5;124;43m'\u001b[39;49m\u001b[38;5;124;43mmonths\u001b[39;49m\u001b[38;5;124;43m'\u001b[39;49m\u001b[43m,\u001b[49m\u001b[43m \u001b[49m\u001b[43mdate_format\u001b[49m\u001b[38;5;241;43m=\u001b[39;49m\u001b[38;5;124;43m'\u001b[39;49m\u001b[38;5;124;43m%\u001b[39;49m\u001b[38;5;124;43mY\u001b[39;49m\u001b[38;5;124;43m%\u001b[39;49m\u001b[38;5;124;43mj\u001b[39;49m\u001b[38;5;124;43m'\u001b[39;49m\u001b[43m,\u001b[49m\u001b[43m \u001b[49m\u001b[43mdate_style\u001b[49m\u001b[38;5;241;43m=\u001b[39;49m\u001b[38;5;124;43m'\u001b[39;49m\u001b[38;5;124;43mstart_date\u001b[39;49m\u001b[38;5;124;43m'\u001b[39;49m\u001b[43m)\u001b[49m\u001b[43m \u001b[49m\u001b[43m\\\u001b[49m\n\u001b[1;32m     14\u001b[0m \u001b[43m\u001b[49m\u001b[38;5;241;43m.\u001b[39;49m\u001b[43mread\u001b[49m\u001b[43m(\u001b[49m\u001b[43m)\u001b[49m\n\u001b[1;32m     16\u001b[0m base_raster_path \u001b[38;5;241m=\u001b[39m rdata\u001b[38;5;241m.\u001b[39m_base_raster()\n\u001b[1;32m     17\u001b[0m rdata \u001b[38;5;241m=\u001b[39m rdata\u001b[38;5;241m.\u001b[39mrun(process\u001b[38;5;241m.\u001b[39mSeasConvFill(season_size\u001b[38;5;241m=\u001b[39m\u001b[38;5;241m4\u001b[39m), outname\u001b[38;5;241m=\u001b[39m\u001b[38;5;124m'\u001b[39m\u001b[38;5;124mlandsat_\u001b[39m\u001b[38;5;132;01m{gr}\u001b[39;00m\u001b[38;5;124m_005E.52N_\u001b[39m\u001b[38;5;132;01m{dt}\u001b[39;00m\u001b[38;5;124m'\u001b[39m, drop_input\u001b[38;5;241m=\u001b[39m\u001b[38;5;28;01mTrue\u001b[39;00m)\u001b[38;5;241m.\u001b[39mrename(groups\u001b[38;5;241m=\u001b[39m {\u001b[38;5;124m'\u001b[39m\u001b[38;5;132;01m{gr}\u001b[39;00m\u001b[38;5;124m..p50\u001b[39m\u001b[38;5;124m'\u001b[39m: \u001b[38;5;124m'\u001b[39m\u001b[38;5;132;01m{gr}\u001b[39;00m\u001b[38;5;124m'\u001b[39m})\n",
      "File \u001b[0;32m/mnt/tupi/Xuemeng_testing/src/scikit-map/skmap/io/base.py:730\u001b[0m, in \u001b[0;36mRasterData.read\u001b[0;34m(self, window, dtype, expected_shape, overview, n_jobs)\u001b[0m\n\u001b[1;32m    724\u001b[0m raster_files \u001b[38;5;241m=\u001b[39m [ Path(r) \u001b[38;5;28;01mfor\u001b[39;00m r \u001b[38;5;129;01min\u001b[39;00m \u001b[38;5;28mself\u001b[39m\u001b[38;5;241m.\u001b[39minfo[RasterData\u001b[38;5;241m.\u001b[39mPATH_COL] ]\n\u001b[1;32m    726\u001b[0m \u001b[38;5;28mself\u001b[39m\u001b[38;5;241m.\u001b[39m_verbose(\n\u001b[1;32m    727\u001b[0m     \u001b[38;5;124mf\u001b[39m\u001b[38;5;124m\"\u001b[39m\u001b[38;5;124mRasterData with \u001b[39m\u001b[38;5;132;01m{\u001b[39;00m\u001b[38;5;28mlen\u001b[39m(raster_files)\u001b[38;5;132;01m}\u001b[39;00m\u001b[38;5;124m rasters\u001b[39m\u001b[38;5;124m\"\u001b[39m \n\u001b[1;32m    728\u001b[0m   \u001b[38;5;241m+\u001b[39m \u001b[38;5;124mf\u001b[39m\u001b[38;5;124m\"\u001b[39m\u001b[38;5;124m and \u001b[39m\u001b[38;5;132;01m{\u001b[39;00m\u001b[38;5;28mlen\u001b[39m(\u001b[38;5;28mself\u001b[39m\u001b[38;5;241m.\u001b[39minfo[RasterData\u001b[38;5;241m.\u001b[39mGROUP_COL]\u001b[38;5;241m.\u001b[39munique())\u001b[38;5;132;01m}\u001b[39;00m\u001b[38;5;124m groups\u001b[39m\u001b[38;5;124m\"\u001b[39m \n\u001b[1;32m    729\u001b[0m )\n\u001b[0;32m--> 730\u001b[0m \u001b[38;5;28mself\u001b[39m\u001b[38;5;241m.\u001b[39marray \u001b[38;5;241m=\u001b[39m \u001b[43mread_rasters\u001b[49m\u001b[43m(\u001b[49m\n\u001b[1;32m    731\u001b[0m \u001b[43m  \u001b[49m\u001b[43mraster_files\u001b[49m\u001b[43m,\u001b[49m\n\u001b[1;32m    732\u001b[0m \u001b[43m  \u001b[49m\u001b[43mwindow\u001b[49m\u001b[38;5;241;43m=\u001b[39;49m\u001b[38;5;28;43mself\u001b[39;49m\u001b[38;5;241;43m.\u001b[39;49m\u001b[43mwindow\u001b[49m\u001b[43m,\u001b[49m\u001b[43m \u001b[49m\u001b[43mdata_mask\u001b[49m\u001b[38;5;241;43m=\u001b[39;49m\u001b[43mdata_mask\u001b[49m\u001b[43m,\u001b[49m\n\u001b[1;32m    733\u001b[0m \u001b[43m  \u001b[49m\u001b[43mdtype\u001b[49m\u001b[38;5;241;43m=\u001b[39;49m\u001b[43mdtype\u001b[49m\u001b[43m,\u001b[49m\u001b[43m \u001b[49m\u001b[43mexpected_shape\u001b[49m\u001b[38;5;241;43m=\u001b[39;49m\u001b[43mexpected_shape\u001b[49m\u001b[43m,\u001b[49m\n\u001b[1;32m    734\u001b[0m \u001b[43m  \u001b[49m\u001b[43mn_jobs\u001b[49m\u001b[38;5;241;43m=\u001b[39;49m\u001b[43mn_jobs\u001b[49m\u001b[43m,\u001b[49m\u001b[43m \u001b[49m\u001b[43moverview\u001b[49m\u001b[38;5;241;43m=\u001b[39;49m\u001b[43moverview\u001b[49m\u001b[43m,\u001b[49m\u001b[43m \u001b[49m\u001b[43mverbose\u001b[49m\u001b[38;5;241;43m=\u001b[39;49m\u001b[38;5;28;43mself\u001b[39;49m\u001b[38;5;241;43m.\u001b[39;49m\u001b[43mverbose\u001b[49m\n\u001b[1;32m    735\u001b[0m \u001b[43m\u001b[49m\u001b[43m)\u001b[49m\n\u001b[1;32m    737\u001b[0m \u001b[38;5;28mself\u001b[39m\u001b[38;5;241m.\u001b[39m_verbose(\u001b[38;5;124mf\u001b[39m\u001b[38;5;124m\"\u001b[39m\u001b[38;5;124mRead array shape: \u001b[39m\u001b[38;5;132;01m{\u001b[39;00m\u001b[38;5;28mself\u001b[39m\u001b[38;5;241m.\u001b[39marray\u001b[38;5;241m.\u001b[39mshape\u001b[38;5;132;01m}\u001b[39;00m\u001b[38;5;124m\"\u001b[39m)\n\u001b[1;32m    739\u001b[0m \u001b[38;5;28;01mreturn\u001b[39;00m \u001b[38;5;28mself\u001b[39m\n",
      "File \u001b[0;32m/mnt/tupi/Xuemeng_testing/src/scikit-map/skmap/io/base.py:338\u001b[0m, in \u001b[0;36mread_rasters\u001b[0;34m(raster_files, window, dtype, n_jobs, data_mask, expected_shape, try_without_window, overview, verbose)\u001b[0m\n\u001b[1;32m    335\u001b[0m   raster_data[raster_idx] \u001b[38;5;241m=\u001b[39m band_data\n\u001b[1;32m    337\u001b[0m raster_data \u001b[38;5;241m=\u001b[39m [raster_data[i] \u001b[38;5;28;01mfor\u001b[39;00m i \u001b[38;5;129;01min\u001b[39;00m \u001b[38;5;28mrange\u001b[39m(\u001b[38;5;241m0\u001b[39m,\u001b[38;5;28mlen\u001b[39m(raster_files))]\n\u001b[0;32m--> 338\u001b[0m raster_data \u001b[38;5;241m=\u001b[39m np\u001b[38;5;241m.\u001b[39mascontiguousarray(\u001b[43mnp\u001b[49m\u001b[38;5;241;43m.\u001b[39;49m\u001b[43mstack\u001b[49m\u001b[43m(\u001b[49m\u001b[43mraster_data\u001b[49m\u001b[43m,\u001b[49m\u001b[43m \u001b[49m\u001b[43maxis\u001b[49m\u001b[38;5;241;43m=\u001b[39;49m\u001b[38;5;241;43m2\u001b[39;49m\u001b[43m)\u001b[49m)\n\u001b[1;32m    339\u001b[0m \u001b[38;5;28;01mreturn\u001b[39;00m raster_data\n",
      "File \u001b[0;32m<__array_function__ internals>:180\u001b[0m, in \u001b[0;36mstack\u001b[0;34m(*args, **kwargs)\u001b[0m\n",
      "File \u001b[0;32m/opt/conda/lib/python3.8/site-packages/numpy/core/shape_base.py:433\u001b[0m, in \u001b[0;36mstack\u001b[0;34m(arrays, axis, out)\u001b[0m\n\u001b[1;32m    431\u001b[0m sl \u001b[38;5;241m=\u001b[39m (\u001b[38;5;28mslice\u001b[39m(\u001b[38;5;28;01mNone\u001b[39;00m),) \u001b[38;5;241m*\u001b[39m axis \u001b[38;5;241m+\u001b[39m (_nx\u001b[38;5;241m.\u001b[39mnewaxis,)\n\u001b[1;32m    432\u001b[0m expanded_arrays \u001b[38;5;241m=\u001b[39m [arr[sl] \u001b[38;5;28;01mfor\u001b[39;00m arr \u001b[38;5;129;01min\u001b[39;00m arrays]\n\u001b[0;32m--> 433\u001b[0m \u001b[38;5;28;01mreturn\u001b[39;00m \u001b[43m_nx\u001b[49m\u001b[38;5;241;43m.\u001b[39;49m\u001b[43mconcatenate\u001b[49m\u001b[43m(\u001b[49m\u001b[43mexpanded_arrays\u001b[49m\u001b[43m,\u001b[49m\u001b[43m \u001b[49m\u001b[43maxis\u001b[49m\u001b[38;5;241;43m=\u001b[39;49m\u001b[43maxis\u001b[49m\u001b[43m,\u001b[49m\u001b[43m \u001b[49m\u001b[43mout\u001b[49m\u001b[38;5;241;43m=\u001b[39;49m\u001b[43mout\u001b[49m\u001b[43m)\u001b[49m\n",
      "File \u001b[0;32m<__array_function__ internals>:180\u001b[0m, in \u001b[0;36mconcatenate\u001b[0;34m(*args, **kwargs)\u001b[0m\n",
      "\u001b[0;31mKeyboardInterrupt\u001b[0m: "
     ]
    }
   ],
   "source": [
    "for period in ['monthly','bimonthly']:\n",
    "    for bs in bands:\n",
    "        for ts in tile_ids:\n",
    "            ff = f'/mnt/tupi/Xuemeng_testing/{period}_gapfilled/landsat_{bs}_{ts[0:4]}.{ts[5::]}_2021335.tif'\n",
    "            print(ff)\n",
    "            fn = ff.split('/')[-1]\n",
    "            if os.path.exists(ff):\n",
    "                print(f'it exists!')\n",
    "                print()\n",
    "            else:\n",
    "                worker_gapfill(ts,bs,period)"
   ]
  },
  {
   "cell_type": "code",
   "execution_count": 42,
   "id": "4ddb49b9-e073-4c17-8c84-0449a5dab88e",
   "metadata": {},
   "outputs": [],
   "source": [
    "from skmap.data import toy\n",
    "from skmap.io import process\n",
    "\n",
    "# Loading NDVI quarterly time-series with gaps\n",
    "toy.ndvi_rdata(gappy=True \n",
    "    # Gapfilling time-series by seasonal convolution \n",
    "    ).run(process.SeasConvFill(season_size=4), drop_input=True\n",
    "    # Smoothing time-series by Whittaker\n",
    "    ).run(process.WhittakerSmooth(), group='ndvi.seasconv', drop_input=True\n",
    "    # Setting smoothed time-series as main input\n",
    "    ).rename(groups={'ndvi.seasconv.whittaker': 'ndvi'}\n",
    "    # Running yearly aggregation by std. and percentile 50th\n",
    "    ).run(process.TimeAggregate(time=[process.TimeEnum.YEARLY], operations = ['p50', 'std']), group=['ndvi']\n",
    "    # Running trend analysis using per-pixel linear regression  \n",
    "    ).run(process.TrendAnalysis(season_size=4), group='ndvi'\n",
    "    # Ploting all raster data\n",
    "    ).plot(v_minmax=[0,100])"
   ]
  },
  {
   "cell_type": "code",
   "execution_count": 10,
   "id": "d3c03af6-5c5f-4e86-b78c-df259f974305",
   "metadata": {},
   "outputs": [
    {
     "data": {
      "text/plain": [
       "True"
      ]
     },
     "execution_count": 10,
     "metadata": {},
     "output_type": "execute_result"
    }
   ],
   "source": [
    "os.path.exists('/mnt/tupi/Xuemeng_testing/landsat_test/'+ff)"
   ]
  },
  {
   "cell_type": "code",
   "execution_count": 10,
   "id": "cb72f1b2-1160-40e1-8ab5-e016891a4f60",
   "metadata": {},
   "outputs": [
    {
     "name": "stdout",
     "output_type": "stream",
     "text": [
      "[08:40:59] RasterData with 23 rasters and 1 groups\n",
      "[08:40:59] Reading 23 raster file(s) using 4 workers\n",
      "[08:41:08] Read array shape: (4004, 4004, 23)\n",
      "[08:41:11] Running TimeAggregate on (4004, 4004, 23) for blue group\n",
      "[08:41:16] Computing 13 time aggregates from 2000 to 2001\n",
      "[08:41:22] Dropping data and info for blue group\n",
      "[08:41:23] Execution time for TimeAggregate: 14.80 segs\n",
      "[08:41:23] Saving rasters in landsat_test\n",
      "[08:41:25] Saving 13 raster files using 4 workers\n"
     ]
    }
   ],
   "source": [
    "mnt/tupi/Xuemeng_testing/landsat_test/blue_landsat.008E_45N_p50_2000001.tif"
   ]
  },
  {
   "cell_type": "code",
   "execution_count": null,
   "id": "43a378b4-b7f9-455f-93e4-60a551dbad6e",
   "metadata": {},
   "outputs": [],
   "source": []
  }
 ],
 "metadata": {
  "kernelspec": {
   "display_name": "Python 3 (ipykernel)",
   "language": "python",
   "name": "python3"
  },
  "language_info": {
   "codemirror_mode": {
    "name": "ipython",
    "version": 3
   },
   "file_extension": ".py",
   "mimetype": "text/x-python",
   "name": "python",
   "nbconvert_exporter": "python",
   "pygments_lexer": "ipython3",
   "version": "3.8.13"
  }
 },
 "nbformat": 4,
 "nbformat_minor": 5
}
