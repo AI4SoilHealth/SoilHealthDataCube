{
 "cells": [
  {
   "cell_type": "code",
   "execution_count": 1,
   "id": "2430353b-d31d-475b-9c0d-cb57c82dc8f2",
   "metadata": {},
   "outputs": [],
   "source": [
    "from rasterstats import zonal_stats\n",
    "from multiprocessing import Pool\n",
    "import pandas as pd\n",
    "import numpy as np\n",
    "import geopandas as gpd\n",
    "import matplotlib.pyplot as plt\n",
    "import seaborn as sns\n",
    "from shapely.geometry import Point\n",
    "\n",
    "from sklearn.cluster import KMeans\n",
    "from sklearn.preprocessing import StandardScaler\n",
    "import matplotlib.pyplot as plt\n",
    "\n",
    "df = pd.read_csv('/mnt/inca/tillage_index/validate_data/LUCAS_lulc/004_vld_lucas.lulc.csv', low_memory=False)\n",
    "df_ag = df.loc[df['lc1_class']=='B']\n",
    "df_ag['lc1_level2'] = df_ag['lc1'].str[0:2]"
   ]
  },
  {
   "cell_type": "code",
   "execution_count": 14,
   "id": "3b189526-5a3e-4303-85a2-d601d6777b81",
   "metadata": {},
   "outputs": [
    {
     "name": "stdout",
     "output_type": "stream",
     "text": [
      "    Feature  Importance\n",
      "0  ndvi.p50    0.445153\n",
      "1  ndwi.p50    0.442097\n",
      "2        bs    0.052031\n",
      "3       csr    0.037408\n",
      "4       nos    0.023311\n",
      "Accuracy: 0.65\n",
      "Precision: 0.54\n",
      "Recall: 0.65\n",
      "F1-Score: 0.57\n",
      "\n",
      "Confusion Matrix:\n",
      "[[31325   242   890   187   878     7    20    45]\n",
      " [ 1900    24    69     6    45     0     0     4]\n",
      " [ 5752    55   305    48   130     1     6    11]\n",
      " [ 1591    11    57    15    46     0     1     3]\n",
      " [ 3992    28    94    20   939     2     8     7]\n",
      " [  194     0     0     1    24     0     1     0]\n",
      " [  280     0     6     4    19     0     0     0]\n",
      " [  741     2    19     5    41     0     2     1]]\n",
      "\n",
      "Classification Report:\n",
      "               precision    recall  f1-score   support\n",
      "\n",
      "          B1       0.68      0.93      0.79     33594\n",
      "          B2       0.07      0.01      0.02      2048\n",
      "          B3       0.21      0.05      0.08      6308\n",
      "          B4       0.05      0.01      0.01      1724\n",
      "          B5       0.44      0.18      0.26      5090\n",
      "          B7       0.00      0.00      0.00       220\n",
      "          B8       0.00      0.00      0.00       309\n",
      "          BX       0.01      0.00      0.00       811\n",
      "\n",
      "    accuracy                           0.65     50104\n",
      "   macro avg       0.18      0.15      0.15     50104\n",
      "weighted avg       0.54      0.65      0.57     50104\n",
      "\n"
     ]
    }
   ],
   "source": [
    "\n",
    "from sklearn.ensemble import RandomForestClassifier\n",
    "from sklearn.model_selection import train_test_split\n",
    "from sklearn.metrics import accuracy_score, precision_score, recall_score, f1_score, confusion_matrix, classification_report\n",
    "\n",
    "selected_predictors = ['ndvi.p50', 'ndwi.p50', 'bs', 'csr','nos'] #'ndwi.p25', 'ndwi.p75', 'ndvi.p75', 'ndvi.p25','nos', 'bs', 'csr',  \n",
    "target_variable = 'lc1_level2'\n",
    "X = df_ag[selected_predictors]\n",
    "y = df_ag[target_variable]\n",
    "\n",
    "X_train, X_test, y_train, y_test = train_test_split(X, y, test_size=0.2, random_state=42)\n",
    "\n",
    "rf_classifier = RandomForestClassifier(n_estimators=100, random_state=42)\n",
    "rf_classifier.fit(X_train, y_train)\n",
    "feature_importances = rf_classifier.feature_importances_\n",
    "feature_importance_df = pd.DataFrame({'Feature': selected_predictors, 'Importance': feature_importances})\n",
    "feature_importance_df = feature_importance_df.sort_values(by='Importance', ascending=False)\n",
    "print(feature_importance_df)\n",
    "\n",
    "# Calculate and print evaluation metrics\n",
    "y_pred = rf_classifier.predict(X_test)\n",
    "accuracy = accuracy_score(y_test, y_pred)\n",
    "precision = precision_score(y_test, y_pred, average='weighted')\n",
    "recall = recall_score(y_test, y_pred, average='weighted')\n",
    "f1 = f1_score(y_test, y_pred, average='weighted')\n",
    "conf_matrix = confusion_matrix(y_test, y_pred)\n",
    "\n",
    "print(f\"Accuracy: {accuracy:.2f}\")\n",
    "print(f\"Precision: {precision:.2f}\")\n",
    "print(f\"Recall: {recall:.2f}\")\n",
    "print(f\"F1-Score: {f1:.2f}\")\n",
    "print(\"\\nConfusion Matrix:\")\n",
    "print(conf_matrix)\n",
    "\n",
    "# Print classification report for detailed metrics\n",
    "class_report = classification_report(y_test, y_pred)\n",
    "print(\"\\nClassification Report:\\n\", class_report)\n"
   ]
  },
  {
   "cell_type": "code",
   "execution_count": 13,
   "id": "07f0b938-ced2-44bd-8b77-858f72e976cf",
   "metadata": {},
   "outputs": [
    {
     "data": {
      "image/png": "[encoded data removed]",
      "text/plain": [
       "<Figure size 576x432 with 1 Axes>"
      ]
     },
     "metadata": {
      "needs_background": "light"
     },
     "output_type": "display_data"
    }
   ],
   "source": [
    "plt.figure(figsize=(8, 6))\n",
    "for cluster in df_ag['lc1_level2'].unique():\n",
    "    plt.scatter(df_ag[df_ag['lc1_level2'] == cluster]['bs'],df_ag[df_ag['lc1_level2'] == cluster]['ndvi.p50'], label=cluster,alpha=0.5)\n",
    "\n",
    "plt.xlabel('bs')\n",
    "plt.ylabel('ndvi')\n",
    "plt.title('RF classfication')\n",
    "plt.legend()\n",
    "plt.show()"
   ]
  },
  {
   "cell_type": "code",
   "execution_count": 6,
   "id": "8dbe5d9c-2b77-4857-bc8c-7da5b2585f29",
   "metadata": {},
   "outputs": [
    {
     "name": "stderr",
     "output_type": "stream",
     "text": [
      "/home/opengeohub/.local/lib/python3.8/site-packages/sklearn/cluster/_kmeans.py:1412: FutureWarning: The default value of `n_init` will change from 10 to 'auto' in 1.4. Set the value of `n_init` explicitly to suppress the warning\n",
      "  super()._check_params_vs_input(X, default_n_init=10)\n",
      "/home/opengeohub/.local/lib/python3.8/site-packages/sklearn/cluster/_kmeans.py:1412: FutureWarning: The default value of `n_init` will change from 10 to 'auto' in 1.4. Set the value of `n_init` explicitly to suppress the warning\n",
      "  super()._check_params_vs_input(X, default_n_init=10)\n",
      "/home/opengeohub/.local/lib/python3.8/site-packages/sklearn/cluster/_kmeans.py:1412: FutureWarning: The default value of `n_init` will change from 10 to 'auto' in 1.4. Set the value of `n_init` explicitly to suppress the warning\n",
      "  super()._check_params_vs_input(X, default_n_init=10)\n",
      "/home/opengeohub/.local/lib/python3.8/site-packages/sklearn/cluster/_kmeans.py:1412: FutureWarning: The default value of `n_init` will change from 10 to 'auto' in 1.4. Set the value of `n_init` explicitly to suppress the warning\n",
      "  super()._check_params_vs_input(X, default_n_init=10)\n",
      "/home/opengeohub/.local/lib/python3.8/site-packages/sklearn/cluster/_kmeans.py:1412: FutureWarning: The default value of `n_init` will change from 10 to 'auto' in 1.4. Set the value of `n_init` explicitly to suppress the warning\n",
      "  super()._check_params_vs_input(X, default_n_init=10)\n",
      "/home/opengeohub/.local/lib/python3.8/site-packages/sklearn/cluster/_kmeans.py:1412: FutureWarning: The default value of `n_init` will change from 10 to 'auto' in 1.4. Set the value of `n_init` explicitly to suppress the warning\n",
      "  super()._check_params_vs_input(X, default_n_init=10)\n",
      "/home/opengeohub/.local/lib/python3.8/site-packages/sklearn/cluster/_kmeans.py:1412: FutureWarning: The default value of `n_init` will change from 10 to 'auto' in 1.4. Set the value of `n_init` explicitly to suppress the warning\n",
      "  super()._check_params_vs_input(X, default_n_init=10)\n",
      "/home/opengeohub/.local/lib/python3.8/site-packages/sklearn/cluster/_kmeans.py:1412: FutureWarning: The default value of `n_init` will change from 10 to 'auto' in 1.4. Set the value of `n_init` explicitly to suppress the warning\n",
      "  super()._check_params_vs_input(X, default_n_init=10)\n",
      "/home/opengeohub/.local/lib/python3.8/site-packages/sklearn/cluster/_kmeans.py:1412: FutureWarning: The default value of `n_init` will change from 10 to 'auto' in 1.4. Set the value of `n_init` explicitly to suppress the warning\n",
      "  super()._check_params_vs_input(X, default_n_init=10)\n",
      "/home/opengeohub/.local/lib/python3.8/site-packages/sklearn/cluster/_kmeans.py:1412: FutureWarning: The default value of `n_init` will change from 10 to 'auto' in 1.4. Set the value of `n_init` explicitly to suppress the warning\n",
      "  super()._check_params_vs_input(X, default_n_init=10)\n"
     ]
    },
    {
     "data": {
      "image/png": "[encoded data removed]",
      "text/plain": [
       "<Figure size 576x432 with 1 Axes>"
      ]
     },
     "metadata": {
      "needs_background": "light"
     },
     "output_type": "display_data"
    }
   ],
   "source": [
    "inertia_values = []\n",
    "cluster_range = np.arange(1, 21,2)  # You can adjust this range\n",
    "\n",
    "for num_clusters in cluster_range:\n",
    "    kmeans = KMeans(n_clusters=num_clusters, random_state=0)\n",
    "    kmeans.fit(cluster_data_scaled)\n",
    "    inertia_values.append(kmeans.inertia_)\n",
    "\n",
    "plt.figure(figsize=(8, 6))\n",
    "plt.plot(cluster_range, inertia_values, marker='o', linestyle='-')\n",
    "plt.xlabel('Number of Clusters')\n",
    "plt.ylabel('Inertia (Within-cluster Sum of Squares)')\n",
    "plt.title('Elbow Method for Optimal Number of Clusters')\n",
    "plt.grid(True)\n",
    "plt.show()"
   ]
  },
  {
   "cell_type": "code",
   "execution_count": 6,
   "id": "2820ffae-ed2a-4639-beaf-73b9e88047a2",
   "metadata": {},
   "outputs": [
    {
     "data": {
      "text/plain": [
       "array(['Non built-up area features', 'Temporary grasslands',\n",
       "       'Buildings with 1 to 3 floors', 'Mixed woodland',\n",
       "       'Spontaneously vegetated surfaces', 'Other fresh vegetables',\n",
       "       'Bare land', 'Broadleaved woodland', 'Barley', 'Common wheat',\n",
       "       'Grassland without tree/shrub cover',\n",
       "       'Shrubland with sparse tree cover', 'Maize',\n",
       "       'Rape and turnip rape', 'Lucerne', 'Sunflower', 'Durum wheat',\n",
       "       'Potatoes', 'Grassland with sparse tree/shrub cover', 'Oats',\n",
       "       'Rye', 'Strawberries', 'Other leguminous and mixtures for fodder',\n",
       "       'Coniferous woodland', 'Dry pulses', 'Clovers',\n",
       "       'Mixed cereals for fodder', 'Triticale', 'Olive groves',\n",
       "       'Sugar beet', 'Other fibre and oleaginous crops',\n",
       "       'Shrubland without tree cover', 'Soya',\n",
       "       'Other non-permanent industrial crops', 'Tomatoes',\n",
       "       'Non built-up linear features', 'Inland running water',\n",
       "       'Vineyards', 'Transitional water bodies', 'Inland water bodies',\n",
       "       'Peatbogs', 'Rice', 'Cotton', 'Other root crops', 'Other cereals',\n",
       "       'Inland marshes', 'Nuts trees', 'Intertidal flats', 'Salt marshes',\n",
       "       'Nurseries', 'Apple fruit', 'Other fruit trees and berries',\n",
       "       'Oranges', 'Other citrus fruit',\n",
       "       'Buildings with more than 3 floors', 'Arable land (only pi)',\n",
       "       'Greenhouses', 'Pear fruit', 'Salines and other chemical deposits',\n",
       "       'Permanent crops (only pi)', 'Cherry fruit',\n",
       "       'Floriculture and ornamental plants', 'Tobacco',\n",
       "       'Permanent industrial crops', 'Other bare soil',\n",
       "       'Pine dominated coniferous woodland',\n",
       "       'Pine dominated mixed woodland', 'Spruce dominated mixed woodland',\n",
       "       'Rocks and stones', 'Spruce dominated coniferous woodland',\n",
       "       'Other coniferous woodland', 'Other mixed woodland', 'Sand',\n",
       "       'Lichens and moss', 'Inland fresh running water',\n",
       "       'Inland fresh water bodies', 'Inland salty running water',\n",
       "       'Inland salty water bodies', 'Other artificial areas'],\n",
       "      dtype=object)"
      ]
     },
     "execution_count": 6,
     "metadata": {},
     "output_type": "execute_result"
    }
   ],
   "source": [
    "df['lc1_label'].unique()"
   ]
  },
  {
   "cell_type": "code",
   "execution_count": null,
   "id": "9978738f-a782-461f-ba7c-1d2883896c8e",
   "metadata": {},
   "outputs": [],
   "source": [
    "\n",
    "# from eumap.misc import find_files, nan_percentile, GoogleSheet\n",
    "# from eumap.raster import read_rasters, save_rasters\n",
    "# from eumap.mapper import SpaceOverlay\n",
    "\n",
    "\n",
    "# with open('/mnt/inca/tillage_index/validate_data/LUCAS_lulc/layers.txt', 'r') as file:\n",
    "#     lines = file.readlines()\n",
    "# layers = [line.strip() for line in lines]\n",
    "\n",
    "# for i in layers:\n",
    "#     print(i)\n",
    "\n",
    "# # overlay with annual covariates first\n",
    "# from pathlib import Path\n",
    "# year = gdf['year'].unique().tolist()\n",
    "# year.sort()\n",
    "# year = [int(y) for y in year]\n",
    "\n",
    "# names = ['ndvi.p25','ndwi.p25', 'ndvi.p75', 'ndwi.p75','bs','csr','ndvi.p50','ndwi.p50','nos','trend-ndvi.p50','trend-bs.p50']\n",
    "\n",
    "# for y in year:\n",
    "#     tmp_gpkg = f'/mnt/inca/tillage_index/validate_data/LUCAS_lulc/001_tmp_lulc.overlay.{y}.gpkg'\n",
    "    \n",
    "#     dfy = gdf.loc[gdf['year']==y]\n",
    "#     dfy.to_file(tmp_gpkg, driver='GPKG')\n",
    "    \n",
    "#     files = [i.replace('{year}',str(y)) for i in layers]\n",
    "#     fnames = [i.split('/')[-1][0:-4] for i in files]\n",
    "#     name_map = dict(zip(fnames,names))\n",
    "#     files = [Path(i) for i in files]\n",
    "\n",
    "#     dfo = SpaceOverlay(tmp_gpkg, fn_layers=files, max_workers=50, verbose=False)\n",
    "#     dft = dfo.run()\n",
    "#     dft = dft.rename(columns=name_map)\n",
    "#     dft.to_csv(f'/mnt/inca/tillage_index/validate_data/LUCAS_lulc/001_tmp_lulc.overlay.{y}.csv', index=False)\n",
    "    \n",
    "# gdf = []\n",
    "# for y in year:\n",
    "#     temp = pd.read_csv(f'/mnt/inca/tillage_index/validate_data/LUCAS_lulc/001_tmp_lulc.overlay.{y}.csv', low_memory=False)\n",
    "#     gdf.append(temp)\n",
    "    \n",
    "# gdf = pd.concat(gdf)\n",
    "# gdf = gdf.drop(columns=['overlay_id','geometry'])\n",
    "\n",
    "# gdf = gdf.loc[gdf['lc1']!='8']\n",
    "# gdf['lc1_class'] = gdf['lc1'].astype(str).str[0]\n",
    "\n",
    "# # # df = pd.read_csv('/mnt/inca/tillage_index/validate_data/LUCAS_lulc/004_vld_lucas.lulc.csv', low_memory=False)\n",
    "# # gdf = gdf.drop(columns=['nuts2', 'lc1_label', 'lu1_label','crop_residues','lc1_class'])\n",
    "# # df = df.merge(gdf,how='inner',on=['year','gps_lat','gps_long','lc1','lu1','survey_date'])\n",
    "\n",
    "# gdf = gdf.dropna(subset=['nos', 'bs', 'trend-bs.p50', 'csr', 'trend-ndvi.p50', 'ndvi.p50', 'ndwi.p50', 'ndwi.p25', 'ndwi.p75', 'ndvi.p75', 'ndvi.p25'])\n",
    "# gdf.to_csv(f'/mnt/inca/tillage_index/validate_data/LUCAS_lulc/004_vld_lucas.lulc.csv', index=False)"
   ]
  }
 ],
 "metadata": {
  "kernelspec": {
   "display_name": "Python 3 (ipykernel)",
   "language": "python",
   "name": "python3"
  },
  "language_info": {
   "codemirror_mode": {
    "name": "ipython",
    "version": 3
   },
   "file_extension": ".py",
   "mimetype": "text/x-python",
   "name": "python",
   "nbconvert_exporter": "python",
   "pygments_lexer": "ipython3",
   "version": "3.8.10"
  }
 },
 "nbformat": 4,
 "nbformat_minor": 5
}
