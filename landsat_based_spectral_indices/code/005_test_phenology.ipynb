{
 "cells": [
  {
   "cell_type": "code",
   "execution_count": 1,
   "id": "0729fde9-5f1b-4eb3-9fb9-325bd0864c2b",
   "metadata": {},
   "outputs": [],
   "source": [
    "import sys\n",
    "sys.path.append('/mnt/apollo/bare_soil_xuemeng/scikit-map/')\n",
    "from skmap.io import RasterData\n",
    "from skmap.io import process\n",
    "import os\n",
    "\n",
    "from pathlib import Path\n",
    "from minio import Minio\n",
    "from eumap.misc import find_files, nan_percentile, ttprint\n",
    "from eumap.raster import read_rasters, save_rasters\n",
    "import numpy as np\n",
    "from minio.commonconfig import REPLACE, CopySource\n",
    "import time as tm\n",
    "import multiprocess as mp\n",
    "from scipy.signal import savgol_filter, find_peaks\n",
    "import math\n",
    "import pandas as pd\n",
    "\n",
    "import dask.array as da\n",
    "from dask import delayed\n",
    "tiles = ['006E_51N', '023E_52N'] #['004E_51N','004W_36N','005E_52N','024E_38N']#[ '006E_51N', '023E_52N', '007E_46N','016E_63N', '006W_53N', '003E_52N']\n",
    "# tiles = ['016E_63N','017E_63N','006W_53N','006W_52N','003E_52N','004E_52N','003E_51N','004E_51N','005E_52N','006E_52N','005E_51N',\n",
    "#          '006E_51N','023E_52N','007E_46N','008E_46N','009E_44N','010E_44N','023E_38N','024E_38N','023E_37N','004W_36N']\n",
    "years = list(range(2000,2022,1))\n",
    "doy = ['001','017','033','049','065','081','097','113','129','145','161','177','193','209','225','241','257','273','289','305','321','337','353']"
   ]
  },
  {
   "cell_type": "code",
   "execution_count": 2,
   "id": "20f36773-6ed2-4e60-ba5e-802ece4d9d86",
   "metadata": {},
   "outputs": [],
   "source": [
    "from concurrent.futures import ProcessPoolExecutor, ThreadPoolExecutor\n",
    "from pathlib import Path\n",
    "            \n",
    "def process_pixel(pixel, rdata):\n",
    "    i, j = pixel\n",
    "    ndvi_series = rdata[i, j, :]\n",
    "    min_height = 0.6*10000  # NDVI higher than 0.6 could be seen as a peak\n",
    "    min_prominence = 0.2*10000  # Minimum prominence is 0.2 (peak must be at least 0.2 more than neibouring troughs)\n",
    "    min_distance = 6  # 6*16=96 days minimum between each peak\n",
    "    \n",
    "    ndvi = pd.Series(ndvi_series).interpolate()\n",
    "\n",
    "    peaks, _ = find_peaks(ndvi, height=min_height, prominence=min_prominence, distance=min_distance)\n",
    "    if peaks.size > 0:\n",
    "        mean = np.mean(ndvi[peaks])\n",
    "    else:\n",
    "        mean = 0 \n",
    "\n",
    "    # mean = np.mean(ndvi_series[peaks])\n",
    "    return i, j, len(peaks), mean\n",
    "\n",
    "def process_chunk(chunk, rdata):\n",
    "    with ThreadPoolExecutor(max_workers=10) as executor:\n",
    "        results = list(executor.map(lambda pixel: process_pixel(pixel, rdata), chunk))\n",
    "    return results\n",
    "\n",
    "def worker_phenology(tile, year):\n",
    "    tile = tile.replace('_','.')\n",
    "    url_prefix = 'http://192.168.1.30:8333/tmp-bare-soil/ndvi'\n",
    "    local_prefix = f'/mnt/apollo/bare_soil_xuemeng/tmp_files/ndvi'\n",
    "    \n",
    "    files = [local_prefix+f'/{tile}/ndvi_{tile}_{year}{dd}.tif' for dd in doy]\n",
    "    files = [Path(i) for i in files]\n",
    "    rdata,_ = read_rasters(raster_files=files, n_jobs=30, verbose=True)\n",
    "#     files = local_prefix+f'/ndvi_{tile}_' + '{dt}.tif'\n",
    "    \n",
    "#     group = {'ndvi': files}\n",
    "#     # print(group)\n",
    "#     rdata = RasterData(group, verbose=True) \\\n",
    "#     .timespan(f'{str(year)}001', f'{str(year)}354', date_step=16, date_unit='days', date_format='%Y%j', date_style='start_date', ignore_29feb=True) \\\n",
    "#     .read(n_jobs=40)\n",
    "    \n",
    "    # print(rdata.info)\n",
    "    pixels = [(i, j) for i in range(rdata.shape[0]) for j in range(rdata.shape[1])]\n",
    "    chunks = np.array_split(pixels, 50)  # Divide the pixels into 50 chunks\n",
    "    \n",
    "    nos = np.zeros((rdata.shape[0], rdata.shape[1]), dtype=int)\n",
    "    ins = np.zeros((rdata.shape[0], rdata.shape[1]), dtype=int)\n",
    "    \n",
    "    ttprint(f'processing data, size {nos.shape}, year {year}')\n",
    "    with ProcessPoolExecutor(max_workers=50) as executor:\n",
    "        for results in executor.map(process_chunk, chunks, [rdata]*50):\n",
    "            for i, j, num_peaks, peak_mean in results:\n",
    "                nos[i, j] = num_peaks\n",
    "                ins[i, j] = peak_mean\n",
    "        \n",
    "    mask = rdata > ins[:,:,np.newaxis] * 0.5\n",
    "    los = np.sum(mask, axis=2) / len(mask[0,0,:])\n",
    "    los[nos == 0] = 0    \n",
    "\n",
    "    save_rasters(files[0], [f'/mnt/apollo/bare_soil_xuemeng/tmp_files/nos/nos_{tile}_{year}.tif'], nos, nodata=-99, dtype = 'int8', n_jobs=30)\n",
    "    save_rasters(files[0], [f'/mnt/apollo/bare_soil_xuemeng/tmp_files/los/los_{tile}_{year}.tif'], los*100, nodata=-99, dtype = 'int8', n_jobs=30)\n",
    "    \n",
    "    return None\n"
   ]
  },
  {
   "cell_type": "code",
   "execution_count": 3,
   "id": "37a2f183-4642-44a7-884c-4047fe0fc8e3",
   "metadata": {},
   "outputs": [
    {
     "name": "stdout",
     "output_type": "stream",
     "text": [
      "[08:27:29] Reading 23 raster files using 30 workers\n",
      "[08:27:41] processing data, size (4004, 4004), year 2000\n",
      "[08:36:37] Reading 23 raster files using 30 workers\n",
      "[08:36:48] processing data, size (4004, 4004), year 2000\n"
     ]
    }
   ],
   "source": [
    "for tile in tiles:\n",
    "    for year in years[0:1]:\n",
    "        a = worker_phenology(tile,year)"
   ]
  },
  {
   "cell_type": "code",
   "execution_count": 34,
   "id": "273fca35-a8ef-4179-b2df-912e6e0682e6",
   "metadata": {},
   "outputs": [
    {
     "data": {
      "image/png": "[encoded data removed]",
      "text/plain": [
       "<Figure size 432x288 with 1 Axes>"
      ]
     },
     "metadata": {
      "needs_background": "light"
     },
     "output_type": "display_data"
    }
   ],
   "source": [
    "hist_values, hist_bins = np.histogram(pos_values)\n",
    "import matplotlib.pyplot as plt\n",
    "\n",
    "# Plot the histogram\n",
    "plt.hist(hist_bins[:-1], bins=hist_bins, weights=hist_values)\n",
    "plt.xlabel('Bins')\n",
    "plt.ylabel('Frequency')\n",
    "plt.title('Histogram of lop')\n",
    "plt.show()"
   ]
  }
 ],
 "metadata": {
  "kernelspec": {
   "display_name": "Python 3 (ipykernel)",
   "language": "python",
   "name": "python3"
  },
  "language_info": {
   "codemirror_mode": {
    "name": "ipython",
    "version": 3
   },
   "file_extension": ".py",
   "mimetype": "text/x-python",
   "name": "python",
   "nbconvert_exporter": "python",
   "pygments_lexer": "ipython3",
   "version": "3.8.13"
  }
 },
 "nbformat": 4,
 "nbformat_minor": 5
}
