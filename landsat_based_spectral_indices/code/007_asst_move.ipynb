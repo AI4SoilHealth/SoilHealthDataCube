{
 "cells": [
  {
   "cell_type": "code",
   "execution_count": 2,
   "id": "210aa10e-8773-4839-8de9-16e78da8a392",
   "metadata": {},
   "outputs": [],
   "source": [
    "import sys\n",
    "sys.path.append('/mnt/apollo/bare_soil_xuemeng/scikit-map/')\n",
    "\n",
    "import warnings\n",
    "# warnings.filterwarnings('ignore')\n",
    "\n",
    "from skmap.io import read_rasters, save_rasters #, RasterData\n",
    "from skmap.io import process\n",
    "from skmap.misc import date_range, ttprint , new_memmap # load_memmap, del_memmap, ref_memmap\n",
    "from eumap.misc import find_files, nan_percentile, ttprint\n",
    "# from eumap.raster import read_rasters, save_rasters\n",
    "import os\n",
    "\n",
    "from pathlib import Path\n",
    "from minio import Minio\n",
    "# from eumap.misc import find_files, nan_percentile\n",
    "import numpy as np\n",
    "import gc\n",
    "import numexpr as ne\n",
    "import bottleneck as bn\n",
    "\n",
    "from minio.commonconfig import REPLACE, CopySource\n",
    "import time as tm\n",
    "import multiprocess as mp\n",
    "import geopandas as gpd\n",
    "import matplotlib.pyplot as plt \n",
    "import fiona\n",
    "from osgeo import gdal\n",
    "\n",
    "bands = [('blue',1),('green',2),('red',3),('NIR',4),('SWIR1',5),('SWIR2',6),('thermal',7),('qa',8)]\n",
    "# tiles = ['016E_63N','017E_63N','006W_53N','006W_52N','003E_52N','004E_52N','003E_51N','004E_51N','005E_52N','006E_52N','005E_51N',\n",
    "#          '006E_51N','023E_52N','007E_46N','008E_46N','009E_44N','010E_44N','023E_38N','024E_38N','023E_37N','004W_36N']\n",
    "tiles = ['004E_51N','004W_36N','005E_52N','024E_38N'] #['016E_63N', '006W_53N', '003E_52N', '004E_51N',\n",
    "\n",
    "gdal_opts = {\n",
    "    'GDAL_HTTP_MULTIRANGE': 'YES',\n",
    "    'GDAL_HTTP_MERGE_CONSECUTIVE_RANGES': 'YES',\n",
    "    'GDAL_HTTP_VERSION': '1.0',\n",
    "    'GDAL_DISABLE_READDIR_ON_OPEN': 'EMPTY_DIR',\n",
    "    'VSI_CACHE': 'FALSE',\n",
    "    'CPL_VSIL_CURL_ALLOWED_EXTENSIONS': '.tif',\n",
    "    'GDAL_HTTP_CONNECTTIMEOUT': '320',\n",
    "    'CPL_VSIL_CURL_USE_HEAD': 'NO',\n",
    "    'GDAL_HTTP_TIMEOUT': '320',\n",
    "    'CPL_CURL_GZIP': 'NO'\n",
    "}\n",
    "\n",
    "itvls = []\n",
    "years = list(np.arange(2000,2022,1))\n",
    "for year in years:\n",
    "    for j in np.arange(1,24,1):\n",
    "        itvls.append((year,(year-1980)*23+j))\n",
    "        \n",
    "ddoy = ['001','017','033','049','065','081','097','113','129','145','161','177','193','209','225','241','257','273','289','305','321','337','353']\n",
    "dioy = list(range(1,24,1))\n",
    "doy = dict(zip(dioy,ddoy))\n"
   ]
  },
  {
   "cell_type": "code",
   "execution_count": 7,
   "id": "b63dd768-3979-45ea-85d9-6fcc6a744f4d",
   "metadata": {},
   "outputs": [],
   "source": [
    "s3_config = {\n",
    "        'access_key': 'iwum9G1fEQ920lYV4ol9',\n",
    "        'secret_access_key': 'GMBME3Wsm8S7mBXw3U4CNWurkzWMqGZ0n2rXHggS0',\n",
    "        'host': '192.168.1.30:8333',\n",
    "        'bucket': 'tmp-bare-soil'}\n",
    "    \n",
    "client = Minio(s3_config['host'], s3_config['access_key'], s3_config['secret_access_key'], secure=False)\n",
    "\n",
    "def list_files(directory):\n",
    "    ll = []\n",
    "    for root, dirs, files in os.walk(directory):\n",
    "        for file in files:\n",
    "            ll.append(files)\n",
    "    return ll\n",
    "\n",
    "def move_command(oper, tile):\n",
    "    import subprocess\n",
    "    \n",
    "    src = f'/mnt/apollo/bare_soil_xuemeng/tmp_files/{oper}/{tile}/'\n",
    "    tgt = f'gaia/tmp-bare-soil/{oper}/{tile}/'  #http://192.168.1.30:8333\n",
    "    command = f'mc cp --recursive {src} {tgt}'\n",
    "    print(command)\n",
    "    \n",
    "def check_tile(tile):\n",
    "    tile = tile.replace('_','.')\n",
    "    noo = []\n",
    "    for oper in ['gapfilled','ndti','ndvi','bsi','bsf','los','nos']:\n",
    "        folder_path = f'/mnt/apollo/bare_soil_xuemeng/tmp_files/{oper}'\n",
    "        files = find_files(folder_path,f'*{tile}*.tif')\n",
    "        print(oper,len(files))\n",
    "        if len(files)==0:\n",
    "            noo.append(oper)\n",
    "        else:\n",
    "            move_command(oper, tile)\n",
    "    print(tile,noo)\n",
    "    # for band in bands:\n",
    "    #     files = [filename for filename in os.listdir(folder_path) if f'{band[0]}' in filename]\n",
    "    #     print(f'{tile}, {band[0]}: {len(files)}')\n",
    "    \n",
    "#     if len(files) == 506:\n",
    "#         for f in files:\n",
    "#             client.fput_object(s3_config['bucket'], f'16days/gapfilled/{tile}/{f}', os.path.join(folder_path, f))\n",
    "#             os.remove(os.path.join(folder_path, f))\n",
    "        \n",
    "    return noo\n",
    "\n",
    "\n"
   ]
  },
  {
   "cell_type": "code",
   "execution_count": 8,
   "id": "d42cf06c-661f-41ee-b574-21a1d1915e84",
   "metadata": {},
   "outputs": [
    {
     "name": "stdout",
     "output_type": "stream",
     "text": [
      "gapfilled 0\n",
      "ndti 506\n",
      "mc cp --recursive /mnt/apollo/bare_soil_xuemeng/tmp_files/ndti/004E.51N/ gaia/tmp-bare-soil/ndti/004E.51N/\n",
      "ndvi 506\n",
      "mc cp --recursive /mnt/apollo/bare_soil_xuemeng/tmp_files/ndvi/004E.51N/ gaia/tmp-bare-soil/ndvi/004E.51N/\n",
      "bsi 506\n",
      "mc cp --recursive /mnt/apollo/bare_soil_xuemeng/tmp_files/bsi/004E.51N/ gaia/tmp-bare-soil/bsi/004E.51N/\n",
      "bsf 22\n",
      "mc cp --recursive /mnt/apollo/bare_soil_xuemeng/tmp_files/bsf/004E.51N/ gaia/tmp-bare-soil/bsf/004E.51N/\n",
      "los 22\n",
      "mc cp --recursive /mnt/apollo/bare_soil_xuemeng/tmp_files/los/004E.51N/ gaia/tmp-bare-soil/los/004E.51N/\n",
      "nos 22\n",
      "mc cp --recursive /mnt/apollo/bare_soil_xuemeng/tmp_files/nos/004E.51N/ gaia/tmp-bare-soil/nos/004E.51N/\n",
      "004E.51N ['gapfilled']\n",
      "gapfilled 0\n",
      "ndti 506\n",
      "mc cp --recursive /mnt/apollo/bare_soil_xuemeng/tmp_files/ndti/004W.36N/ gaia/tmp-bare-soil/ndti/004W.36N/\n",
      "ndvi 506\n",
      "mc cp --recursive /mnt/apollo/bare_soil_xuemeng/tmp_files/ndvi/004W.36N/ gaia/tmp-bare-soil/ndvi/004W.36N/\n",
      "bsi 506\n",
      "mc cp --recursive /mnt/apollo/bare_soil_xuemeng/tmp_files/bsi/004W.36N/ gaia/tmp-bare-soil/bsi/004W.36N/\n",
      "bsf 22\n",
      "mc cp --recursive /mnt/apollo/bare_soil_xuemeng/tmp_files/bsf/004W.36N/ gaia/tmp-bare-soil/bsf/004W.36N/\n",
      "los 22\n",
      "mc cp --recursive /mnt/apollo/bare_soil_xuemeng/tmp_files/los/004W.36N/ gaia/tmp-bare-soil/los/004W.36N/\n",
      "nos 22\n",
      "mc cp --recursive /mnt/apollo/bare_soil_xuemeng/tmp_files/nos/004W.36N/ gaia/tmp-bare-soil/nos/004W.36N/\n",
      "004W.36N ['gapfilled']\n",
      "gapfilled 0\n",
      "ndti 506\n",
      "mc cp --recursive /mnt/apollo/bare_soil_xuemeng/tmp_files/ndti/005E.52N/ gaia/tmp-bare-soil/ndti/005E.52N/\n",
      "ndvi 506\n",
      "mc cp --recursive /mnt/apollo/bare_soil_xuemeng/tmp_files/ndvi/005E.52N/ gaia/tmp-bare-soil/ndvi/005E.52N/\n",
      "bsi 506\n",
      "mc cp --recursive /mnt/apollo/bare_soil_xuemeng/tmp_files/bsi/005E.52N/ gaia/tmp-bare-soil/bsi/005E.52N/\n",
      "bsf 22\n",
      "mc cp --recursive /mnt/apollo/bare_soil_xuemeng/tmp_files/bsf/005E.52N/ gaia/tmp-bare-soil/bsf/005E.52N/\n",
      "los 22\n",
      "mc cp --recursive /mnt/apollo/bare_soil_xuemeng/tmp_files/los/005E.52N/ gaia/tmp-bare-soil/los/005E.52N/\n",
      "nos 22\n",
      "mc cp --recursive /mnt/apollo/bare_soil_xuemeng/tmp_files/nos/005E.52N/ gaia/tmp-bare-soil/nos/005E.52N/\n",
      "005E.52N ['gapfilled']\n",
      "gapfilled 3036\n",
      "mc cp --recursive /mnt/apollo/bare_soil_xuemeng/tmp_files/gapfilled/024E.38N/ gaia/tmp-bare-soil/gapfilled/024E.38N/\n",
      "ndti 0\n",
      "ndvi 506\n",
      "mc cp --recursive /mnt/apollo/bare_soil_xuemeng/tmp_files/ndvi/024E.38N/ gaia/tmp-bare-soil/ndvi/024E.38N/\n",
      "bsi 506\n",
      "mc cp --recursive /mnt/apollo/bare_soil_xuemeng/tmp_files/bsi/024E.38N/ gaia/tmp-bare-soil/bsi/024E.38N/\n",
      "bsf 22\n",
      "mc cp --recursive /mnt/apollo/bare_soil_xuemeng/tmp_files/bsf/024E.38N/ gaia/tmp-bare-soil/bsf/024E.38N/\n",
      "los 22\n",
      "mc cp --recursive /mnt/apollo/bare_soil_xuemeng/tmp_files/los/024E.38N/ gaia/tmp-bare-soil/los/024E.38N/\n",
      "nos 22\n",
      "mc cp --recursive /mnt/apollo/bare_soil_xuemeng/tmp_files/nos/024E.38N/ gaia/tmp-bare-soil/nos/024E.38N/\n",
      "024E.38N ['ndti']\n"
     ]
    }
   ],
   "source": [
    "for i in range(4):\n",
    "    a = check_tile(tiles[i])\n",
    "# "
   ]
  },
  {
   "cell_type": "code",
   "execution_count": 46,
   "id": "5ea5e705-ac42-4cd6-a26e-d726b0c43ae0",
   "metadata": {},
   "outputs": [
    {
     "name": "stdout",
     "output_type": "stream",
     "text": [
      "None\n"
     ]
    }
   ],
   "source": [
    "itvl = itvls[0]\n",
    "inputs = [f'http://192.168.1.30:8333/landsat-ard2/{itvl[0]}/{tile}/{itvl[1]}.tif' for tile in tiles]\n",
    "output = f'/mnt/primus/xuemeng_tmp_harbour/crop_bare_index/tmp_files/vrt/landsat_{itvl[0]}{doy.get(itvl[1]-(itvl[0]-1980)*23)}.vrt'\n",
    "\n",
    "vrt_options = gdal.BuildVRTOptions(resampleAlg='cubic', addAlpha=True)\n",
    "a = gdal.BuildVRT(output, inputs, options = vrt_options)\n",
    "# a.FlushCache()\n",
    "print(a)"
   ]
  },
  {
   "cell_type": "code",
   "execution_count": null,
   "id": "dd0c9573-bcc1-4f0e-8045-9a976af1fe2f",
   "metadata": {},
   "outputs": [],
   "source": [
    "f'mc cp --recursive gaia/landsat-ard2/{year}/{tile}/ /mnt/apollo/bare_soil_xuemeng/tmp_files/original/{tile}/'"
   ]
  },
  {
   "cell_type": "code",
   "execution_count": 24,
   "id": "25c30dce-8c9f-43cd-957c-f54eb15d1ce1",
   "metadata": {},
   "outputs": [],
   "source": [
    "import os\n",
    "os.environ[\"PATH\"] += os.pathsep + \"/home/opengeohub/minio-binaries//mc\"\n"
   ]
  },
  {
   "cell_type": "code",
   "execution_count": 25,
   "id": "d4adcdc7-d24b-46f2-9377-84e4d9cdef93",
   "metadata": {},
   "outputs": [
    {
     "name": "stdout",
     "output_type": "stream",
     "text": [
      "Executing: mc cp --recursive gaia/landsat-ard2/2000/016E_63N/ /mnt/apollo/bare_soil_xuemeng/tmp_files/original/016E_63N/\n"
     ]
    },
    {
     "name": "stderr",
     "output_type": "stream",
     "text": [
      "bash: line 13: mc: command not found\n"
     ]
    },
    {
     "name": "stdout",
     "output_type": "stream",
     "text": [
      "Executing: mc cp --recursive gaia/landsat-ard2/2000/006W_53N/ /mnt/apollo/bare_soil_xuemeng/tmp_files/original/006W_53N/\n"
     ]
    },
    {
     "name": "stderr",
     "output_type": "stream",
     "text": [
      "bash: line 13: mc: command not found\n",
      "bash: line 13: mc: command not found\n",
      "bash: line 13: mc: command not found\n"
     ]
    },
    {
     "name": "stdout",
     "output_type": "stream",
     "text": [
      "Executing: mc cp --recursive gaia/landsat-ard2/2000/003E_52N/ /mnt/apollo/bare_soil_xuemeng/tmp_files/original/003E_52N/\n",
      "Executing: mc cp --recursive gaia/landsat-ard2/2000/004E_51N/ /mnt/apollo/bare_soil_xuemeng/tmp_files/original/004E_51N/\n",
      "Executing: mc cp --recursive gaia/landsat-ard2/2000/005E_52N/ /mnt/apollo/bare_soil_xuemeng/tmp_files/original/005E_52N/\n",
      "Executing: mc cp --recursive gaia/landsat-ard2/2000/006E_51N/ /mnt/apollo/bare_soil_xuemeng/tmp_files/original/006E_51N/\n",
      "Executing: mc cp --recursive gaia/landsat-ard2/2000/023E_52N/ /mnt/apollo/bare_soil_xuemeng/tmp_files/original/023E_52N/\n",
      "Executing: mc cp --recursive gaia/landsat-ard2/2000/007E_46N/ /mnt/apollo/bare_soil_xuemeng/tmp_files/original/007E_46N/\n"
     ]
    },
    {
     "name": "stderr",
     "output_type": "stream",
     "text": [
      "bash: line 13: mc: command not found\n",
      "bash: line 13: mc: command not found\n",
      "bash: line 13: mc: command not found\n",
      "bash: line 13: mc: command not found\n"
     ]
    },
    {
     "name": "stdout",
     "output_type": "stream",
     "text": [
      "Executing: mc cp --recursive gaia/landsat-ard2/2000/024E_38N/ /mnt/apollo/bare_soil_xuemeng/tmp_files/original/024E_38N/\n",
      "Executing: mc cp --recursive gaia/landsat-ard2/2000/004W_36N/ /mnt/apollo/bare_soil_xuemeng/tmp_files/original/004W_36N/\n",
      "Executing: mc cp --recursive gaia/landsat-ard2/2001/016E_63N/ /mnt/apollo/bare_soil_xuemeng/tmp_files/original/016E_63N/\n",
      "Executing: mc cp --recursive gaia/landsat-ard2/2001/006W_53N/ /mnt/apollo/bare_soil_xuemeng/tmp_files/original/006W_53N/\n",
      "Executing: mc cp --recursive gaia/landsat-ard2/2001/003E_52N/ /mnt/apollo/bare_soil_xuemeng/tmp_files/original/003E_52N/\n",
      "Executing: mc cp --recursive gaia/landsat-ard2/2001/004E_51N/ /mnt/apollo/bare_soil_xuemeng/tmp_files/original/004E_51N/\n"
     ]
    },
    {
     "name": "stderr",
     "output_type": "stream",
     "text": [
      "bash: line 13: mc: command not found\n",
      "bash: line 13: mc: command not found\n",
      "bash: line 13: mc: command not found\n",
      "bash: line 13: mc: command not found\n",
      "bash: line 13: mc: command not found\n",
      "bash: line 13: mc: command not found\n",
      "bash: line 13: mc: command not found\n",
      "bash: line 13: mc: command not found\n",
      "bash: line 13: mc: command not found\n",
      "bash: line 13: mc: command not found\n",
      "bash: line 13: mc: command not found\n"
     ]
    },
    {
     "name": "stdout",
     "output_type": "stream",
     "text": [
      "Executing: mc cp --recursive gaia/landsat-ard2/2001/005E_52N/ /mnt/apollo/bare_soil_xuemeng/tmp_files/original/005E_52N/\n",
      "Executing: mc cp --recursive gaia/landsat-ard2/2001/006E_51N/ /mnt/apollo/bare_soil_xuemeng/tmp_files/original/006E_51N/\n",
      "Executing: mc cp --recursive gaia/landsat-ard2/2001/023E_52N/ /mnt/apollo/bare_soil_xuemeng/tmp_files/original/023E_52N/\n",
      "Executing: mc cp --recursive gaia/landsat-ard2/2001/007E_46N/ /mnt/apollo/bare_soil_xuemeng/tmp_files/original/007E_46N/\n",
      "Executing: mc cp --recursive gaia/landsat-ard2/2001/024E_38N/ /mnt/apollo/bare_soil_xuemeng/tmp_files/original/024E_38N/\n",
      "Executing: mc cp --recursive gaia/landsat-ard2/2001/004W_36N/ /mnt/apollo/bare_soil_xuemeng/tmp_files/original/004W_36N/\n",
      "Executing: mc cp --recursive gaia/landsat-ard2/2002/016E_63N/ /mnt/apollo/bare_soil_xuemeng/tmp_files/original/016E_63N/\n",
      "Executing: mc cp --recursive gaia/landsat-ard2/2002/006W_53N/ /mnt/apollo/bare_soil_xuemeng/tmp_files/original/006W_53N/\n",
      "Executing: mc cp --recursive gaia/landsat-ard2/2002/003E_52N/ /mnt/apollo/bare_soil_xuemeng/tmp_files/original/003E_52N/\n",
      "Executing: mc cp --recursive gaia/landsat-ard2/2002/004E_51N/ /mnt/apollo/bare_soil_xuemeng/tmp_files/original/004E_51N/\n",
      "Executing: mc cp --recursive gaia/landsat-ard2/2002/005E_52N/ /mnt/apollo/bare_soil_xuemeng/tmp_files/original/005E_52N/\n"
     ]
    },
    {
     "name": "stderr",
     "output_type": "stream",
     "text": [
      "bash: line 13: mc: command not found\n",
      "bash: line 13: mc: command not found\n",
      "bash: line 13: mc: command not found\n",
      "bash: line 13: mc: command not found\n",
      "bash: line 13: mc: command not found\n",
      "bash: line 13: mc: command not found\n",
      "bash: line 13: mc: command not found\n",
      "bash: line 13: mc: command not found\n"
     ]
    },
    {
     "name": "stdout",
     "output_type": "stream",
     "text": [
      "Executing: mc cp --recursive gaia/landsat-ard2/2002/006E_51N/ /mnt/apollo/bare_soil_xuemeng/tmp_files/original/006E_51N/\n",
      "Executing: mc cp --recursive gaia/landsat-ard2/2002/023E_52N/ /mnt/apollo/bare_soil_xuemeng/tmp_files/original/023E_52N/\n",
      "Executing: mc cp --recursive gaia/landsat-ard2/2002/007E_46N/ /mnt/apollo/bare_soil_xuemeng/tmp_files/original/007E_46N/\n"
     ]
    },
    {
     "name": "stderr",
     "output_type": "stream",
     "text": [
      "bash: line 13: mc: command not found\n",
      "bash: line 13: mc: command not found\n",
      "bash: line 13: mc: command not found\n",
      "bash: line 13: mc: command not found\n",
      "bash: line 13: mc: command not found\n",
      "bash: line 13: mc: command not found\n",
      "bash: line 13: mc: command not found\n"
     ]
    },
    {
     "name": "stdout",
     "output_type": "stream",
     "text": [
      "Executing: mc cp --recursive gaia/landsat-ard2/2002/024E_38N/ /mnt/apollo/bare_soil_xuemeng/tmp_files/original/024E_38N/\n",
      "Executing: mc cp --recursive gaia/landsat-ard2/2002/004W_36N/ /mnt/apollo/bare_soil_xuemeng/tmp_files/original/004W_36N/\n",
      "Executing: mc cp --recursive gaia/landsat-ard2/2003/016E_63N/ /mnt/apollo/bare_soil_xuemeng/tmp_files/original/016E_63N/\n",
      "Executing: mc cp --recursive gaia/landsat-ard2/2003/006W_53N/ /mnt/apollo/bare_soil_xuemeng/tmp_files/original/006W_53N/\n",
      "Executing: mc cp --recursive gaia/landsat-ard2/2003/003E_52N/ /mnt/apollo/bare_soil_xuemeng/tmp_files/original/003E_52N/\n",
      "Executing: mc cp --recursive gaia/landsat-ard2/2003/004E_51N/ /mnt/apollo/bare_soil_xuemeng/tmp_files/original/004E_51N/\n",
      "Executing: mc cp --recursive gaia/landsat-ard2/2003/005E_52N/ /mnt/apollo/bare_soil_xuemeng/tmp_files/original/005E_52N/\n",
      "Executing: mc cp --recursive gaia/landsat-ard2/2003/006E_51N/ /mnt/apollo/bare_soil_xuemeng/tmp_files/original/006E_51N/\n"
     ]
    },
    {
     "name": "stderr",
     "output_type": "stream",
     "text": [
      "bash: line 13: mc: command not found\n",
      "bash: line 13: mc: command not found\n"
     ]
    },
    {
     "name": "stdout",
     "output_type": "stream",
     "text": [
      "Executing: mc cp --recursive gaia/landsat-ard2/2003/023E_52N/ /mnt/apollo/bare_soil_xuemeng/tmp_files/original/023E_52N/\n",
      "Executing: mc cp --recursive gaia/landsat-ard2/2003/007E_46N/ /mnt/apollo/bare_soil_xuemeng/tmp_files/original/007E_46N/\n",
      "Executing: mc cp --recursive gaia/landsat-ard2/2003/024E_38N/ /mnt/apollo/bare_soil_xuemeng/tmp_files/original/024E_38N/\n",
      "Executing: mc cp --recursive gaia/landsat-ard2/2003/004W_36N/ /mnt/apollo/bare_soil_xuemeng/tmp_files/original/004W_36N/\n",
      "Executing: mc cp --recursive gaia/landsat-ard2/2004/016E_63N/ /mnt/apollo/bare_soil_xuemeng/tmp_files/original/016E_63N/\n",
      "Executing: mc cp --recursive gaia/landsat-ard2/2004/006W_53N/ /mnt/apollo/bare_soil_xuemeng/tmp_files/original/006W_53N/\n",
      "Executing: mc cp --recursive gaia/landsat-ard2/2004/003E_52N/ /mnt/apollo/bare_soil_xuemeng/tmp_files/original/003E_52N/\n"
     ]
    },
    {
     "name": "stderr",
     "output_type": "stream",
     "text": [
      "bash: line 13: mc: command not found\n",
      "bash: line 13: mc: command not found\n",
      "bash: line 13: mc: command not found\n",
      "bash: line 13: mc: command not found\n",
      "bash: line 13: mc: command not found\n",
      "bash: line 13: mc: command not found\n",
      "bash: line 13: mc: command not found\n"
     ]
    },
    {
     "name": "stdout",
     "output_type": "stream",
     "text": [
      "Executing: mc cp --recursive gaia/landsat-ard2/2004/004E_51N/ /mnt/apollo/bare_soil_xuemeng/tmp_files/original/004E_51N/\n"
     ]
    },
    {
     "name": "stderr",
     "output_type": "stream",
     "text": [
      "bash: line 13: mc: command not found\n",
      "bash: line 13: mc: command not found\n",
      "bash: line 13: mc: command not found\n",
      "bash: line 13: mc: command not found\n",
      "bash: line 13: mc: command not found\n",
      "bash: line 13: mc: command not found\n"
     ]
    },
    {
     "name": "stdout",
     "output_type": "stream",
     "text": [
      "Executing: mc cp --recursive gaia/landsat-ard2/2004/005E_52N/ /mnt/apollo/bare_soil_xuemeng/tmp_files/original/005E_52N/\n",
      "Executing: mc cp --recursive gaia/landsat-ard2/2004/006E_51N/ /mnt/apollo/bare_soil_xuemeng/tmp_files/original/006E_51N/\n",
      "Executing: mc cp --recursive gaia/landsat-ard2/2004/023E_52N/ /mnt/apollo/bare_soil_xuemeng/tmp_files/original/023E_52N/\n",
      "Executing: mc cp --recursive gaia/landsat-ard2/2004/007E_46N/ /mnt/apollo/bare_soil_xuemeng/tmp_files/original/007E_46N/\n",
      "Executing: mc cp --recursive gaia/landsat-ard2/2004/024E_38N/ /mnt/apollo/bare_soil_xuemeng/tmp_files/original/024E_38N/\n",
      "Executing: mc cp --recursive gaia/landsat-ard2/2004/004W_36N/ /mnt/apollo/bare_soil_xuemeng/tmp_files/original/004W_36N/\n"
     ]
    },
    {
     "name": "stderr",
     "output_type": "stream",
     "text": [
      "bash: line 13: mc: command not found\n",
      "bash: line 13: mc: command not found\n",
      "bash: line 13: mc: command not found\n",
      "bash: line 13: mc: command not found\n",
      "bash: line 13: mc: command not found\n",
      "bash: line 13: mc: command not found\n"
     ]
    },
    {
     "name": "stdout",
     "output_type": "stream",
     "text": [
      "Executing: mc cp --recursive gaia/landsat-ard2/2005/016E_63N/ /mnt/apollo/bare_soil_xuemeng/tmp_files/original/016E_63N/\n",
      "Executing: mc cp --recursive gaia/landsat-ard2/2005/006W_53N/ /mnt/apollo/bare_soil_xuemeng/tmp_files/original/006W_53N/\n",
      "Executing: mc cp --recursive gaia/landsat-ard2/2005/003E_52N/ /mnt/apollo/bare_soil_xuemeng/tmp_files/original/003E_52N/\n",
      "Executing: mc cp --recursive gaia/landsat-ard2/2005/004E_51N/ /mnt/apollo/bare_soil_xuemeng/tmp_files/original/004E_51N/\n",
      "Executing: mc cp --recursive gaia/landsat-ard2/2005/005E_52N/ /mnt/apollo/bare_soil_xuemeng/tmp_files/original/005E_52N/\n",
      "Executing: mc cp --recursive gaia/landsat-ard2/2005/006E_51N/ /mnt/apollo/bare_soil_xuemeng/tmp_files/original/006E_51N/\n"
     ]
    },
    {
     "name": "stderr",
     "output_type": "stream",
     "text": [
      "bash: line 13: mc: command not found\n",
      "bash: line 13: mc: command not found\n",
      "bash: line 13: mc: command not found\n",
      "bash: line 13: mc: command not found\n"
     ]
    },
    {
     "name": "stdout",
     "output_type": "stream",
     "text": [
      "Executing: mc cp --recursive gaia/landsat-ard2/2005/023E_52N/ /mnt/apollo/bare_soil_xuemeng/tmp_files/original/023E_52N/\n",
      "Executing: mc cp --recursive gaia/landsat-ard2/2005/007E_46N/ /mnt/apollo/bare_soil_xuemeng/tmp_files/original/007E_46N/\n",
      "Executing: mc cp --recursive gaia/landsat-ard2/2005/024E_38N/ /mnt/apollo/bare_soil_xuemeng/tmp_files/original/024E_38N/\n",
      "Executing: mc cp --recursive gaia/landsat-ard2/2005/004W_36N/ /mnt/apollo/bare_soil_xuemeng/tmp_files/original/004W_36N/\n",
      "Executing: mc cp --recursive gaia/landsat-ard2/2006/016E_63N/ /mnt/apollo/bare_soil_xuemeng/tmp_files/original/016E_63N/\n",
      "Executing: mc cp --recursive gaia/landsat-ard2/2006/006W_53N/ /mnt/apollo/bare_soil_xuemeng/tmp_files/original/006W_53N/\n"
     ]
    },
    {
     "name": "stderr",
     "output_type": "stream",
     "text": [
      "bash: line 13: mc: command not found\n",
      "bash: line 13: mc: command not found\n",
      "bash: line 13: mc: command not found\n",
      "bash: line 13: mc: command not found\n",
      "bash: line 13: mc: command not found\n",
      "bash: line 13: mc: command not found\n",
      "bash: line 13: mc: command not found\n"
     ]
    },
    {
     "name": "stdout",
     "output_type": "stream",
     "text": [
      "Executing: mc cp --recursive gaia/landsat-ard2/2006/003E_52N/ /mnt/apollo/bare_soil_xuemeng/tmp_files/original/003E_52N/\n",
      "Executing: mc cp --recursive gaia/landsat-ard2/2006/004E_51N/ /mnt/apollo/bare_soil_xuemeng/tmp_files/original/004E_51N/\n",
      "Executing: mc cp --recursive gaia/landsat-ard2/2006/005E_52N/ /mnt/apollo/bare_soil_xuemeng/tmp_files/original/005E_52N/\n",
      "Executing: mc cp --recursive gaia/landsat-ard2/2006/006E_51N/ /mnt/apollo/bare_soil_xuemeng/tmp_files/original/006E_51N/\n",
      "Executing: mc cp --recursive gaia/landsat-ard2/2006/023E_52N/ /mnt/apollo/bare_soil_xuemeng/tmp_files/original/023E_52N/\n"
     ]
    },
    {
     "name": "stderr",
     "output_type": "stream",
     "text": [
      "bash: line 13: mc: command not found\n",
      "bash: line 13: mc: command not found\n",
      "bash: line 13: mc: command not found\n"
     ]
    },
    {
     "name": "stdout",
     "output_type": "stream",
     "text": [
      "Executing: mc cp --recursive gaia/landsat-ard2/2006/007E_46N/ /mnt/apollo/bare_soil_xuemeng/tmp_files/original/007E_46N/\n",
      "Executing: mc cp --recursive gaia/landsat-ard2/2006/024E_38N/ /mnt/apollo/bare_soil_xuemeng/tmp_files/original/024E_38N/\n",
      "Executing: mc cp --recursive gaia/landsat-ard2/2006/004W_36N/ /mnt/apollo/bare_soil_xuemeng/tmp_files/original/004W_36N/\n"
     ]
    },
    {
     "name": "stderr",
     "output_type": "stream",
     "text": [
      "bash: line 13: mc: command not found\n",
      "bash: line 13: mc: command not found\n",
      "bash: line 13: mc: command not found\n"
     ]
    },
    {
     "name": "stdout",
     "output_type": "stream",
     "text": [
      "Executing: mc cp --recursive gaia/landsat-ard2/2007/016E_63N/ /mnt/apollo/bare_soil_xuemeng/tmp_files/original/016E_63N/\n",
      "Executing: mc cp --recursive gaia/landsat-ard2/2007/006W_53N/ /mnt/apollo/bare_soil_xuemeng/tmp_files/original/006W_53N/\n",
      "Executing: mc cp --recursive gaia/landsat-ard2/2007/003E_52N/ /mnt/apollo/bare_soil_xuemeng/tmp_files/original/003E_52N/\n",
      "Executing: mc cp --recursive gaia/landsat-ard2/2007/004E_51N/ /mnt/apollo/bare_soil_xuemeng/tmp_files/original/004E_51N/\n"
     ]
    },
    {
     "name": "stderr",
     "output_type": "stream",
     "text": [
      "bash: line 13: mc: command not found\n",
      "bash: line 13: mc: command not found\n"
     ]
    },
    {
     "name": "stdout",
     "output_type": "stream",
     "text": [
      "Executing: mc cp --recursive gaia/landsat-ard2/2007/005E_52N/ /mnt/apollo/bare_soil_xuemeng/tmp_files/original/005E_52N/\n",
      "Executing: mc cp --recursive gaia/landsat-ard2/2007/006E_51N/ /mnt/apollo/bare_soil_xuemeng/tmp_files/original/006E_51N/\n",
      "Executing: mc cp --recursive gaia/landsat-ard2/2007/023E_52N/ /mnt/apollo/bare_soil_xuemeng/tmp_files/original/023E_52N/\n",
      "Executing: mc cp --recursive gaia/landsat-ard2/2007/007E_46N/ /mnt/apollo/bare_soil_xuemeng/tmp_files/original/007E_46N/\n",
      "Executing: mc cp --recursive gaia/landsat-ard2/2007/024E_38N/ /mnt/apollo/bare_soil_xuemeng/tmp_files/original/024E_38N/\n"
     ]
    },
    {
     "name": "stderr",
     "output_type": "stream",
     "text": [
      "bash: line 13: mc: command not found\n",
      "bash: line 13: mc: command not found\n",
      "bash: line 13: mc: command not found\n",
      "bash: line 13: mc: command not found\n",
      "bash: line 13: mc: command not found\n",
      "bash: line 13: mc: command not found\n",
      "bash: line 13: mc: command not found\n",
      "bash: line 13: mc: command not found\n"
     ]
    },
    {
     "name": "stdout",
     "output_type": "stream",
     "text": [
      "Executing: mc cp --recursive gaia/landsat-ard2/2007/004W_36N/ /mnt/apollo/bare_soil_xuemeng/tmp_files/original/004W_36N/\n",
      "Executing: mc cp --recursive gaia/landsat-ard2/2008/016E_63N/ /mnt/apollo/bare_soil_xuemeng/tmp_files/original/016E_63N/\n",
      "Executing: mc cp --recursive gaia/landsat-ard2/2008/006W_53N/ /mnt/apollo/bare_soil_xuemeng/tmp_files/original/006W_53N/\n",
      "Executing: mc cp --recursive gaia/landsat-ard2/2008/003E_52N/ /mnt/apollo/bare_soil_xuemeng/tmp_files/original/003E_52N/\n"
     ]
    },
    {
     "name": "stderr",
     "output_type": "stream",
     "text": [
      "bash: line 13: mc: command not found\n",
      "bash: line 13: mc: command not found\n",
      "bash: line 13: mc: command not found\n",
      "bash: line 13: mc: command not found\n"
     ]
    },
    {
     "name": "stdout",
     "output_type": "stream",
     "text": [
      "Executing: mc cp --recursive gaia/landsat-ard2/2008/004E_51N/ /mnt/apollo/bare_soil_xuemeng/tmp_files/original/004E_51N/\n",
      "Executing: mc cp --recursive gaia/landsat-ard2/2008/005E_52N/ /mnt/apollo/bare_soil_xuemeng/tmp_files/original/005E_52N/\n",
      "Executing: mc cp --recursive gaia/landsat-ard2/2008/006E_51N/ /mnt/apollo/bare_soil_xuemeng/tmp_files/original/006E_51N/\n",
      "Executing: mc cp --recursive gaia/landsat-ard2/2008/023E_52N/ /mnt/apollo/bare_soil_xuemeng/tmp_files/original/023E_52N/\n",
      "Executing: mc cp --recursive gaia/landsat-ard2/2008/007E_46N/ /mnt/apollo/bare_soil_xuemeng/tmp_files/original/007E_46N/\n",
      "Executing: mc cp --recursive gaia/landsat-ard2/2008/024E_38N/ /mnt/apollo/bare_soil_xuemeng/tmp_files/original/024E_38N/\n"
     ]
    },
    {
     "name": "stderr",
     "output_type": "stream",
     "text": [
      "bash: line 13: mc: command not found\n",
      "bash: line 13: mc: command not found\n",
      "bash: line 13: mc: command not found\n",
      "bash: line 13: mc: command not found\n"
     ]
    },
    {
     "name": "stdout",
     "output_type": "stream",
     "text": [
      "Executing: mc cp --recursive gaia/landsat-ard2/2008/004W_36N/ /mnt/apollo/bare_soil_xuemeng/tmp_files/original/004W_36N/\n",
      "Executing: mc cp --recursive gaia/landsat-ard2/2009/016E_63N/ /mnt/apollo/bare_soil_xuemeng/tmp_files/original/016E_63N/\n"
     ]
    },
    {
     "name": "stderr",
     "output_type": "stream",
     "text": [
      "bash: line 13: mc: command not found\n",
      "bash: line 13: mc: command not found\n"
     ]
    },
    {
     "name": "stdout",
     "output_type": "stream",
     "text": [
      "Executing: mc cp --recursive gaia/landsat-ard2/2009/006W_53N/ /mnt/apollo/bare_soil_xuemeng/tmp_files/original/006W_53N/\n",
      "Executing: mc cp --recursive gaia/landsat-ard2/2009/003E_52N/ /mnt/apollo/bare_soil_xuemeng/tmp_files/original/003E_52N/\n",
      "Executing: mc cp --recursive gaia/landsat-ard2/2009/004E_51N/ /mnt/apollo/bare_soil_xuemeng/tmp_files/original/004E_51N/\n"
     ]
    },
    {
     "name": "stderr",
     "output_type": "stream",
     "text": [
      "bash: line 13: mc: command not found\n",
      "bash: line 13: mc: command not found\n"
     ]
    },
    {
     "name": "stdout",
     "output_type": "stream",
     "text": [
      "Executing: mc cp --recursive gaia/landsat-ard2/2009/005E_52N/ /mnt/apollo/bare_soil_xuemeng/tmp_files/original/005E_52N/\n"
     ]
    },
    {
     "name": "stderr",
     "output_type": "stream",
     "text": [
      "bash: line 13: mc: command not found\n"
     ]
    },
    {
     "name": "stdout",
     "output_type": "stream",
     "text": [
      "Executing: mc cp --recursive gaia/landsat-ard2/2009/006E_51N/ /mnt/apollo/bare_soil_xuemeng/tmp_files/original/006E_51N/\n"
     ]
    },
    {
     "name": "stderr",
     "output_type": "stream",
     "text": [
      "bash: line 13: mc: command not found\n"
     ]
    },
    {
     "name": "stdout",
     "output_type": "stream",
     "text": [
      "Executing: mc cp --recursive gaia/landsat-ard2/2009/023E_52N/ /mnt/apollo/bare_soil_xuemeng/tmp_files/original/023E_52N/\n"
     ]
    },
    {
     "name": "stderr",
     "output_type": "stream",
     "text": [
      "bash: line 13: mc: command not found\n"
     ]
    },
    {
     "name": "stdout",
     "output_type": "stream",
     "text": [
      "Executing: mc cp --recursive gaia/landsat-ard2/2009/007E_46N/ /mnt/apollo/bare_soil_xuemeng/tmp_files/original/007E_46N/\n"
     ]
    },
    {
     "name": "stderr",
     "output_type": "stream",
     "text": [
      "bash: line 13: mc: command not found\n",
      "bash: line 13: mc: command not found\n",
      "bash: line 13: mc: command not found\n",
      "bash: line 13: mc: command not found\n"
     ]
    },
    {
     "name": "stdout",
     "output_type": "stream",
     "text": [
      "Executing: mc cp --recursive gaia/landsat-ard2/2009/024E_38N/ /mnt/apollo/bare_soil_xuemeng/tmp_files/original/024E_38N/\n",
      "Executing: mc cp --recursive gaia/landsat-ard2/2009/004W_36N/ /mnt/apollo/bare_soil_xuemeng/tmp_files/original/004W_36N/\n",
      "Executing: mc cp --recursive gaia/landsat-ard2/2010/016E_63N/ /mnt/apollo/bare_soil_xuemeng/tmp_files/original/016E_63N/\n",
      "Executing: mc cp --recursive gaia/landsat-ard2/2010/006W_53N/ /mnt/apollo/bare_soil_xuemeng/tmp_files/original/006W_53N/\n",
      "Executing: mc cp --recursive gaia/landsat-ard2/2010/003E_52N/ /mnt/apollo/bare_soil_xuemeng/tmp_files/original/003E_52N/\n",
      "Executing: mc cp --recursive gaia/landsat-ard2/2010/004E_51N/ /mnt/apollo/bare_soil_xuemeng/tmp_files/original/004E_51N/\n"
     ]
    },
    {
     "name": "stderr",
     "output_type": "stream",
     "text": [
      "bash: line 13: mc: command not found\n",
      "bash: line 13: mc: command not found\n",
      "bash: line 13: mc: command not found\n",
      "bash: line 13: mc: command not found\n"
     ]
    },
    {
     "name": "stdout",
     "output_type": "stream",
     "text": [
      "Executing: mc cp --recursive gaia/landsat-ard2/2010/005E_52N/ /mnt/apollo/bare_soil_xuemeng/tmp_files/original/005E_52N/\n",
      "Executing: mc cp --recursive gaia/landsat-ard2/2010/006E_51N/ /mnt/apollo/bare_soil_xuemeng/tmp_files/original/006E_51N/\n",
      "Executing: mc cp --recursive gaia/landsat-ard2/2010/023E_52N/ /mnt/apollo/bare_soil_xuemeng/tmp_files/original/023E_52N/\n"
     ]
    },
    {
     "name": "stderr",
     "output_type": "stream",
     "text": [
      "bash: line 13: mc: command not found\n",
      "bash: line 13: mc: command not found\n",
      "bash: line 13: mc: command not found\n"
     ]
    },
    {
     "name": "stdout",
     "output_type": "stream",
     "text": [
      "Executing: mc cp --recursive gaia/landsat-ard2/2010/007E_46N/ /mnt/apollo/bare_soil_xuemeng/tmp_files/original/007E_46N/\n",
      "Executing: mc cp --recursive gaia/landsat-ard2/2010/024E_38N/ /mnt/apollo/bare_soil_xuemeng/tmp_files/original/024E_38N/\n"
     ]
    },
    {
     "name": "stderr",
     "output_type": "stream",
     "text": [
      "bash: line 13: mc: command not found\n",
      "bash: line 13: mc: command not found\n"
     ]
    },
    {
     "name": "stdout",
     "output_type": "stream",
     "text": [
      "Executing: mc cp --recursive gaia/landsat-ard2/2010/004W_36N/ /mnt/apollo/bare_soil_xuemeng/tmp_files/original/004W_36N/\n",
      "Executing: mc cp --recursive gaia/landsat-ard2/2011/016E_63N/ /mnt/apollo/bare_soil_xuemeng/tmp_files/original/016E_63N/\n"
     ]
    },
    {
     "name": "stderr",
     "output_type": "stream",
     "text": [
      "bash: line 13: mc: command not found\n"
     ]
    },
    {
     "name": "stdout",
     "output_type": "stream",
     "text": [
      "Executing: mc cp --recursive gaia/landsat-ard2/2011/006W_53N/ /mnt/apollo/bare_soil_xuemeng/tmp_files/original/006W_53N/\n"
     ]
    },
    {
     "name": "stderr",
     "output_type": "stream",
     "text": [
      "bash: line 13: mc: command not found\n"
     ]
    },
    {
     "name": "stdout",
     "output_type": "stream",
     "text": [
      "Executing: mc cp --recursive gaia/landsat-ard2/2011/003E_52N/ /mnt/apollo/bare_soil_xuemeng/tmp_files/original/003E_52N/\n"
     ]
    },
    {
     "name": "stderr",
     "output_type": "stream",
     "text": [
      "bash: line 13: mc: command not found\n"
     ]
    },
    {
     "name": "stdout",
     "output_type": "stream",
     "text": [
      "Executing: mc cp --recursive gaia/landsat-ard2/2011/004E_51N/ /mnt/apollo/bare_soil_xuemeng/tmp_files/original/004E_51N/\n"
     ]
    },
    {
     "name": "stderr",
     "output_type": "stream",
     "text": [
      "bash: line 13: mc: command not found\n"
     ]
    },
    {
     "name": "stdout",
     "output_type": "stream",
     "text": [
      "Executing: mc cp --recursive gaia/landsat-ard2/2011/005E_52N/ /mnt/apollo/bare_soil_xuemeng/tmp_files/original/005E_52N/\n"
     ]
    },
    {
     "name": "stderr",
     "output_type": "stream",
     "text": [
      "bash: line 13: mc: command not found\n"
     ]
    },
    {
     "name": "stdout",
     "output_type": "stream",
     "text": [
      "Executing: mc cp --recursive gaia/landsat-ard2/2011/006E_51N/ /mnt/apollo/bare_soil_xuemeng/tmp_files/original/006E_51N/\n"
     ]
    },
    {
     "name": "stderr",
     "output_type": "stream",
     "text": [
      "bash: line 13: mc: command not found\n",
      "bash: line 13: mc: command not found\n"
     ]
    },
    {
     "name": "stdout",
     "output_type": "stream",
     "text": [
      "Executing: mc cp --recursive gaia/landsat-ard2/2011/023E_52N/ /mnt/apollo/bare_soil_xuemeng/tmp_files/original/023E_52N/\n",
      "Executing: mc cp --recursive gaia/landsat-ard2/2011/007E_46N/ /mnt/apollo/bare_soil_xuemeng/tmp_files/original/007E_46N/\n"
     ]
    },
    {
     "name": "stderr",
     "output_type": "stream",
     "text": [
      "bash: line 13: mc: command not found\n",
      "bash: line 13: mc: command not found\n"
     ]
    },
    {
     "name": "stdout",
     "output_type": "stream",
     "text": [
      "Executing: mc cp --recursive gaia/landsat-ard2/2011/024E_38N/ /mnt/apollo/bare_soil_xuemeng/tmp_files/original/024E_38N/\n",
      "Executing: mc cp --recursive gaia/landsat-ard2/2011/004W_36N/ /mnt/apollo/bare_soil_xuemeng/tmp_files/original/004W_36N/\n"
     ]
    },
    {
     "name": "stderr",
     "output_type": "stream",
     "text": [
      "bash: line 13: mc: command not found\n",
      "bash: line 13: mc: command not found\n"
     ]
    },
    {
     "name": "stdout",
     "output_type": "stream",
     "text": [
      "Executing: mc cp --recursive gaia/landsat-ard2/2012/016E_63N/ /mnt/apollo/bare_soil_xuemeng/tmp_files/original/016E_63N/\n",
      "Executing: mc cp --recursive gaia/landsat-ard2/2012/006W_53N/ /mnt/apollo/bare_soil_xuemeng/tmp_files/original/006W_53N/\n"
     ]
    },
    {
     "name": "stderr",
     "output_type": "stream",
     "text": [
      "bash: line 13: mc: command not found\n"
     ]
    },
    {
     "name": "stdout",
     "output_type": "stream",
     "text": [
      "Executing: mc cp --recursive gaia/landsat-ard2/2012/003E_52N/ /mnt/apollo/bare_soil_xuemeng/tmp_files/original/003E_52N/\n",
      "Executing: mc cp --recursive gaia/landsat-ard2/2012/004E_51N/ /mnt/apollo/bare_soil_xuemeng/tmp_files/original/004E_51N/\n"
     ]
    },
    {
     "name": "stderr",
     "output_type": "stream",
     "text": [
      "bash: line 13: mc: command not found\n",
      "bash: line 13: mc: command not found\n"
     ]
    },
    {
     "name": "stdout",
     "output_type": "stream",
     "text": [
      "Executing: mc cp --recursive gaia/landsat-ard2/2012/005E_52N/ /mnt/apollo/bare_soil_xuemeng/tmp_files/original/005E_52N/\n",
      "Executing: mc cp --recursive gaia/landsat-ard2/2012/006E_51N/ /mnt/apollo/bare_soil_xuemeng/tmp_files/original/006E_51N/\n"
     ]
    },
    {
     "name": "stderr",
     "output_type": "stream",
     "text": [
      "bash: line 13: mc: command not found\n",
      "bash: line 13: mc: command not found\n"
     ]
    },
    {
     "name": "stdout",
     "output_type": "stream",
     "text": [
      "Executing: mc cp --recursive gaia/landsat-ard2/2012/023E_52N/ /mnt/apollo/bare_soil_xuemeng/tmp_files/original/023E_52N/\n"
     ]
    },
    {
     "name": "stderr",
     "output_type": "stream",
     "text": [
      "bash: line 13: mc: command not found\n"
     ]
    },
    {
     "name": "stdout",
     "output_type": "stream",
     "text": [
      "Executing: mc cp --recursive gaia/landsat-ard2/2012/007E_46N/ /mnt/apollo/bare_soil_xuemeng/tmp_files/original/007E_46N/\n"
     ]
    },
    {
     "name": "stderr",
     "output_type": "stream",
     "text": [
      "bash: line 13: mc: command not found\n"
     ]
    },
    {
     "name": "stdout",
     "output_type": "stream",
     "text": [
      "Executing: mc cp --recursive gaia/landsat-ard2/2012/024E_38N/ /mnt/apollo/bare_soil_xuemeng/tmp_files/original/024E_38N/\n"
     ]
    },
    {
     "name": "stderr",
     "output_type": "stream",
     "text": [
      "bash: line 13: mc: command not found\n"
     ]
    },
    {
     "name": "stdout",
     "output_type": "stream",
     "text": [
      "Executing: mc cp --recursive gaia/landsat-ard2/2012/004W_36N/ /mnt/apollo/bare_soil_xuemeng/tmp_files/original/004W_36N/\n"
     ]
    },
    {
     "name": "stderr",
     "output_type": "stream",
     "text": [
      "bash: line 13: mc: command not found\n",
      "bash: line 13: mc: command not found\n"
     ]
    },
    {
     "name": "stdout",
     "output_type": "stream",
     "text": [
      "Executing: mc cp --recursive gaia/landsat-ard2/2013/016E_63N/ /mnt/apollo/bare_soil_xuemeng/tmp_files/original/016E_63N/\n",
      "Executing: mc cp --recursive gaia/landsat-ard2/2013/006W_53N/ /mnt/apollo/bare_soil_xuemeng/tmp_files/original/006W_53N/\n"
     ]
    },
    {
     "name": "stderr",
     "output_type": "stream",
     "text": [
      "bash: line 13: mc: command not found\n"
     ]
    },
    {
     "name": "stdout",
     "output_type": "stream",
     "text": [
      "Executing: mc cp --recursive gaia/landsat-ard2/2013/003E_52N/ /mnt/apollo/bare_soil_xuemeng/tmp_files/original/003E_52N/\n"
     ]
    },
    {
     "name": "stderr",
     "output_type": "stream",
     "text": [
      "bash: line 13: mc: command not found\n"
     ]
    },
    {
     "name": "stdout",
     "output_type": "stream",
     "text": [
      "Executing: mc cp --recursive gaia/landsat-ard2/2013/004E_51N/ /mnt/apollo/bare_soil_xuemeng/tmp_files/original/004E_51N/\n"
     ]
    },
    {
     "name": "stderr",
     "output_type": "stream",
     "text": [
      "bash: line 13: mc: command not found\n"
     ]
    },
    {
     "name": "stdout",
     "output_type": "stream",
     "text": [
      "Executing: mc cp --recursive gaia/landsat-ard2/2013/005E_52N/ /mnt/apollo/bare_soil_xuemeng/tmp_files/original/005E_52N/\n"
     ]
    },
    {
     "name": "stderr",
     "output_type": "stream",
     "text": [
      "bash: line 13: mc: command not found\n"
     ]
    },
    {
     "name": "stdout",
     "output_type": "stream",
     "text": [
      "Executing: mc cp --recursive gaia/landsat-ard2/2013/006E_51N/ /mnt/apollo/bare_soil_xuemeng/tmp_files/original/006E_51N/\n",
      "Executing: mc cp --recursive gaia/landsat-ard2/2013/023E_52N/ /mnt/apollo/bare_soil_xuemeng/tmp_files/original/023E_52N/\n"
     ]
    },
    {
     "name": "stderr",
     "output_type": "stream",
     "text": [
      "bash: line 13: mc: command not found\n",
      "bash: line 13: mc: command not found\n"
     ]
    },
    {
     "name": "stdout",
     "output_type": "stream",
     "text": [
      "Executing: mc cp --recursive gaia/landsat-ard2/2013/007E_46N/ /mnt/apollo/bare_soil_xuemeng/tmp_files/original/007E_46N/\n"
     ]
    },
    {
     "name": "stderr",
     "output_type": "stream",
     "text": [
      "bash: line 13: mc: command not found\n"
     ]
    },
    {
     "name": "stdout",
     "output_type": "stream",
     "text": [
      "Executing: mc cp --recursive gaia/landsat-ard2/2013/024E_38N/ /mnt/apollo/bare_soil_xuemeng/tmp_files/original/024E_38N/\n"
     ]
    },
    {
     "name": "stderr",
     "output_type": "stream",
     "text": [
      "bash: line 13: mc: command not found\n"
     ]
    },
    {
     "name": "stdout",
     "output_type": "stream",
     "text": [
      "Executing: mc cp --recursive gaia/landsat-ard2/2013/004W_36N/ /mnt/apollo/bare_soil_xuemeng/tmp_files/original/004W_36N/\n"
     ]
    },
    {
     "name": "stderr",
     "output_type": "stream",
     "text": [
      "bash: line 13: mc: command not found\n"
     ]
    },
    {
     "name": "stdout",
     "output_type": "stream",
     "text": [
      "Executing: mc cp --recursive gaia/landsat-ard2/2014/016E_63N/ /mnt/apollo/bare_soil_xuemeng/tmp_files/original/016E_63N/\n"
     ]
    },
    {
     "name": "stderr",
     "output_type": "stream",
     "text": [
      "bash: line 13: mc: command not found\n"
     ]
    },
    {
     "name": "stdout",
     "output_type": "stream",
     "text": [
      "Executing: mc cp --recursive gaia/landsat-ard2/2014/006W_53N/ /mnt/apollo/bare_soil_xuemeng/tmp_files/original/006W_53N/\n"
     ]
    },
    {
     "name": "stderr",
     "output_type": "stream",
     "text": [
      "bash: line 13: mc: command not found\n"
     ]
    },
    {
     "name": "stdout",
     "output_type": "stream",
     "text": [
      "Executing: mc cp --recursive gaia/landsat-ard2/2014/003E_52N/ /mnt/apollo/bare_soil_xuemeng/tmp_files/original/003E_52N/\n"
     ]
    },
    {
     "name": "stderr",
     "output_type": "stream",
     "text": [
      "bash: line 13: mc: command not found\n"
     ]
    },
    {
     "name": "stdout",
     "output_type": "stream",
     "text": [
      "Executing: mc cp --recursive gaia/landsat-ard2/2014/004E_51N/ /mnt/apollo/bare_soil_xuemeng/tmp_files/original/004E_51N/\n"
     ]
    },
    {
     "name": "stderr",
     "output_type": "stream",
     "text": [
      "bash: line 13: mc: command not found\n"
     ]
    },
    {
     "name": "stdout",
     "output_type": "stream",
     "text": [
      "Executing: mc cp --recursive gaia/landsat-ard2/2014/005E_52N/ /mnt/apollo/bare_soil_xuemeng/tmp_files/original/005E_52N/\n"
     ]
    },
    {
     "name": "stderr",
     "output_type": "stream",
     "text": [
      "bash: line 13: mc: command not found\n"
     ]
    },
    {
     "name": "stdout",
     "output_type": "stream",
     "text": [
      "Executing: mc cp --recursive gaia/landsat-ard2/2014/006E_51N/ /mnt/apollo/bare_soil_xuemeng/tmp_files/original/006E_51N/\n"
     ]
    },
    {
     "name": "stderr",
     "output_type": "stream",
     "text": [
      "bash: line 13: mc: command not found\n"
     ]
    },
    {
     "name": "stdout",
     "output_type": "stream",
     "text": [
      "Executing: mc cp --recursive gaia/landsat-ard2/2014/023E_52N/ /mnt/apollo/bare_soil_xuemeng/tmp_files/original/023E_52N/\n"
     ]
    },
    {
     "name": "stderr",
     "output_type": "stream",
     "text": [
      "bash: line 13: mc: command not found\n"
     ]
    },
    {
     "name": "stdout",
     "output_type": "stream",
     "text": [
      "Executing: mc cp --recursive gaia/landsat-ard2/2014/007E_46N/ /mnt/apollo/bare_soil_xuemeng/tmp_files/original/007E_46N/\n"
     ]
    },
    {
     "name": "stderr",
     "output_type": "stream",
     "text": [
      "bash: line 13: mc: command not found\n"
     ]
    },
    {
     "name": "stdout",
     "output_type": "stream",
     "text": [
      "Executing: mc cp --recursive gaia/landsat-ard2/2014/024E_38N/ /mnt/apollo/bare_soil_xuemeng/tmp_files/original/024E_38N/\n"
     ]
    },
    {
     "name": "stderr",
     "output_type": "stream",
     "text": [
      "bash: line 13: mc: command not found\n"
     ]
    },
    {
     "name": "stdout",
     "output_type": "stream",
     "text": [
      "Executing: mc cp --recursive gaia/landsat-ard2/2014/004W_36N/ /mnt/apollo/bare_soil_xuemeng/tmp_files/original/004W_36N/\n"
     ]
    },
    {
     "name": "stderr",
     "output_type": "stream",
     "text": [
      "bash: line 13: mc: command not found\n"
     ]
    },
    {
     "name": "stdout",
     "output_type": "stream",
     "text": [
      "Executing: mc cp --recursive gaia/landsat-ard2/2015/016E_63N/ /mnt/apollo/bare_soil_xuemeng/tmp_files/original/016E_63N/\n"
     ]
    },
    {
     "name": "stderr",
     "output_type": "stream",
     "text": [
      "bash: line 13: mc: command not found\n"
     ]
    },
    {
     "name": "stdout",
     "output_type": "stream",
     "text": [
      "Executing: mc cp --recursive gaia/landsat-ard2/2015/006W_53N/ /mnt/apollo/bare_soil_xuemeng/tmp_files/original/006W_53N/\n"
     ]
    },
    {
     "name": "stderr",
     "output_type": "stream",
     "text": [
      "bash: line 13: mc: command not found\n"
     ]
    },
    {
     "name": "stdout",
     "output_type": "stream",
     "text": [
      "Executing: mc cp --recursive gaia/landsat-ard2/2015/003E_52N/ /mnt/apollo/bare_soil_xuemeng/tmp_files/original/003E_52N/\n"
     ]
    },
    {
     "name": "stderr",
     "output_type": "stream",
     "text": [
      "bash: line 13: mc: command not found\n"
     ]
    },
    {
     "name": "stdout",
     "output_type": "stream",
     "text": [
      "Executing: mc cp --recursive gaia/landsat-ard2/2015/004E_51N/ /mnt/apollo/bare_soil_xuemeng/tmp_files/original/004E_51N/\n"
     ]
    },
    {
     "name": "stderr",
     "output_type": "stream",
     "text": [
      "bash: line 13: mc: command not found\n"
     ]
    },
    {
     "name": "stdout",
     "output_type": "stream",
     "text": [
      "Executing: mc cp --recursive gaia/landsat-ard2/2015/005E_52N/ /mnt/apollo/bare_soil_xuemeng/tmp_files/original/005E_52N/\n"
     ]
    },
    {
     "name": "stderr",
     "output_type": "stream",
     "text": [
      "bash: line 13: mc: command not found\n"
     ]
    },
    {
     "name": "stdout",
     "output_type": "stream",
     "text": [
      "Executing: mc cp --recursive gaia/landsat-ard2/2015/006E_51N/ /mnt/apollo/bare_soil_xuemeng/tmp_files/original/006E_51N/\n"
     ]
    },
    {
     "name": "stderr",
     "output_type": "stream",
     "text": [
      "bash: line 13: mc: command not found\n"
     ]
    },
    {
     "name": "stdout",
     "output_type": "stream",
     "text": [
      "Executing: mc cp --recursive gaia/landsat-ard2/2015/023E_52N/ /mnt/apollo/bare_soil_xuemeng/tmp_files/original/023E_52N/\n"
     ]
    },
    {
     "name": "stderr",
     "output_type": "stream",
     "text": [
      "bash: line 13: mc: command not found\n"
     ]
    },
    {
     "name": "stdout",
     "output_type": "stream",
     "text": [
      "Executing: mc cp --recursive gaia/landsat-ard2/2015/007E_46N/ /mnt/apollo/bare_soil_xuemeng/tmp_files/original/007E_46N/\n"
     ]
    },
    {
     "name": "stderr",
     "output_type": "stream",
     "text": [
      "bash: line 13: mc: command not found\n"
     ]
    },
    {
     "name": "stdout",
     "output_type": "stream",
     "text": [
      "Executing: mc cp --recursive gaia/landsat-ard2/2015/024E_38N/ /mnt/apollo/bare_soil_xuemeng/tmp_files/original/024E_38N/\n"
     ]
    },
    {
     "name": "stderr",
     "output_type": "stream",
     "text": [
      "bash: line 13: mc: command not found\n"
     ]
    },
    {
     "name": "stdout",
     "output_type": "stream",
     "text": [
      "Executing: mc cp --recursive gaia/landsat-ard2/2015/004W_36N/ /mnt/apollo/bare_soil_xuemeng/tmp_files/original/004W_36N/\n"
     ]
    },
    {
     "name": "stderr",
     "output_type": "stream",
     "text": [
      "bash: line 13: mc: command not found\n"
     ]
    },
    {
     "name": "stdout",
     "output_type": "stream",
     "text": [
      "Executing: mc cp --recursive gaia/landsat-ard2/2016/016E_63N/ /mnt/apollo/bare_soil_xuemeng/tmp_files/original/016E_63N/\n"
     ]
    },
    {
     "name": "stderr",
     "output_type": "stream",
     "text": [
      "bash: line 13: mc: command not found\n"
     ]
    },
    {
     "name": "stdout",
     "output_type": "stream",
     "text": [
      "Executing: mc cp --recursive gaia/landsat-ard2/2016/006W_53N/ /mnt/apollo/bare_soil_xuemeng/tmp_files/original/006W_53N/\n"
     ]
    },
    {
     "name": "stderr",
     "output_type": "stream",
     "text": [
      "bash: line 13: mc: command not found\n"
     ]
    },
    {
     "name": "stdout",
     "output_type": "stream",
     "text": [
      "Executing: mc cp --recursive gaia/landsat-ard2/2016/003E_52N/ /mnt/apollo/bare_soil_xuemeng/tmp_files/original/003E_52N/\n"
     ]
    },
    {
     "name": "stderr",
     "output_type": "stream",
     "text": [
      "bash: line 13: mc: command not found\n"
     ]
    },
    {
     "name": "stdout",
     "output_type": "stream",
     "text": [
      "Executing: mc cp --recursive gaia/landsat-ard2/2016/004E_51N/ /mnt/apollo/bare_soil_xuemeng/tmp_files/original/004E_51N/\n"
     ]
    },
    {
     "name": "stderr",
     "output_type": "stream",
     "text": [
      "bash: line 13: mc: command not found\n"
     ]
    },
    {
     "name": "stdout",
     "output_type": "stream",
     "text": [
      "Executing: mc cp --recursive gaia/landsat-ard2/2016/005E_52N/ /mnt/apollo/bare_soil_xuemeng/tmp_files/original/005E_52N/\n"
     ]
    },
    {
     "name": "stderr",
     "output_type": "stream",
     "text": [
      "bash: line 13: mc: command not found\n"
     ]
    },
    {
     "name": "stdout",
     "output_type": "stream",
     "text": [
      "Executing: mc cp --recursive gaia/landsat-ard2/2016/006E_51N/ /mnt/apollo/bare_soil_xuemeng/tmp_files/original/006E_51N/\n"
     ]
    },
    {
     "name": "stderr",
     "output_type": "stream",
     "text": [
      "bash: line 13: mc: command not found\n"
     ]
    },
    {
     "name": "stdout",
     "output_type": "stream",
     "text": [
      "Executing: mc cp --recursive gaia/landsat-ard2/2016/023E_52N/ /mnt/apollo/bare_soil_xuemeng/tmp_files/original/023E_52N/\n"
     ]
    },
    {
     "name": "stderr",
     "output_type": "stream",
     "text": [
      "bash: line 13: mc: command not found\n"
     ]
    },
    {
     "name": "stdout",
     "output_type": "stream",
     "text": [
      "Executing: mc cp --recursive gaia/landsat-ard2/2016/007E_46N/ /mnt/apollo/bare_soil_xuemeng/tmp_files/original/007E_46N/\n"
     ]
    },
    {
     "name": "stderr",
     "output_type": "stream",
     "text": [
      "bash: line 13: mc: command not found\n"
     ]
    },
    {
     "name": "stdout",
     "output_type": "stream",
     "text": [
      "Executing: mc cp --recursive gaia/landsat-ard2/2016/024E_38N/ /mnt/apollo/bare_soil_xuemeng/tmp_files/original/024E_38N/\n"
     ]
    },
    {
     "name": "stderr",
     "output_type": "stream",
     "text": [
      "bash: line 13: mc: command not found\n"
     ]
    },
    {
     "name": "stdout",
     "output_type": "stream",
     "text": [
      "Executing: mc cp --recursive gaia/landsat-ard2/2016/004W_36N/ /mnt/apollo/bare_soil_xuemeng/tmp_files/original/004W_36N/\n"
     ]
    },
    {
     "name": "stderr",
     "output_type": "stream",
     "text": [
      "bash: line 13: mc: command not found\n"
     ]
    },
    {
     "name": "stdout",
     "output_type": "stream",
     "text": [
      "Executing: mc cp --recursive gaia/landsat-ard2/2017/016E_63N/ /mnt/apollo/bare_soil_xuemeng/tmp_files/original/016E_63N/\n"
     ]
    },
    {
     "name": "stderr",
     "output_type": "stream",
     "text": [
      "bash: line 13: mc: command not found\n"
     ]
    },
    {
     "name": "stdout",
     "output_type": "stream",
     "text": [
      "Executing: mc cp --recursive gaia/landsat-ard2/2017/006W_53N/ /mnt/apollo/bare_soil_xuemeng/tmp_files/original/006W_53N/\n"
     ]
    },
    {
     "name": "stderr",
     "output_type": "stream",
     "text": [
      "bash: line 13: mc: command not found\n"
     ]
    },
    {
     "name": "stdout",
     "output_type": "stream",
     "text": [
      "Executing: mc cp --recursive gaia/landsat-ard2/2017/003E_52N/ /mnt/apollo/bare_soil_xuemeng/tmp_files/original/003E_52N/\n"
     ]
    },
    {
     "name": "stderr",
     "output_type": "stream",
     "text": [
      "bash: line 13: mc: command not found\n"
     ]
    },
    {
     "name": "stdout",
     "output_type": "stream",
     "text": [
      "Executing: mc cp --recursive gaia/landsat-ard2/2017/004E_51N/ /mnt/apollo/bare_soil_xuemeng/tmp_files/original/004E_51N/\n"
     ]
    },
    {
     "name": "stderr",
     "output_type": "stream",
     "text": [
      "bash: line 13: mc: command not found\n"
     ]
    },
    {
     "name": "stdout",
     "output_type": "stream",
     "text": [
      "Executing: mc cp --recursive gaia/landsat-ard2/2017/005E_52N/ /mnt/apollo/bare_soil_xuemeng/tmp_files/original/005E_52N/\n"
     ]
    },
    {
     "name": "stderr",
     "output_type": "stream",
     "text": [
      "bash: line 13: mc: command not found\n"
     ]
    },
    {
     "name": "stdout",
     "output_type": "stream",
     "text": [
      "Executing: mc cp --recursive gaia/landsat-ard2/2017/006E_51N/ /mnt/apollo/bare_soil_xuemeng/tmp_files/original/006E_51N/\n"
     ]
    },
    {
     "name": "stderr",
     "output_type": "stream",
     "text": [
      "bash: line 13: mc: command not found\n"
     ]
    },
    {
     "name": "stdout",
     "output_type": "stream",
     "text": [
      "Executing: mc cp --recursive gaia/landsat-ard2/2017/023E_52N/ /mnt/apollo/bare_soil_xuemeng/tmp_files/original/023E_52N/\n"
     ]
    },
    {
     "name": "stderr",
     "output_type": "stream",
     "text": [
      "bash: line 13: mc: command not found\n"
     ]
    },
    {
     "name": "stdout",
     "output_type": "stream",
     "text": [
      "Executing: mc cp --recursive gaia/landsat-ard2/2017/007E_46N/ /mnt/apollo/bare_soil_xuemeng/tmp_files/original/007E_46N/\n"
     ]
    },
    {
     "name": "stderr",
     "output_type": "stream",
     "text": [
      "bash: line 13: mc: command not found\n"
     ]
    },
    {
     "name": "stdout",
     "output_type": "stream",
     "text": [
      "Executing: mc cp --recursive gaia/landsat-ard2/2017/024E_38N/ /mnt/apollo/bare_soil_xuemeng/tmp_files/original/024E_38N/\n"
     ]
    },
    {
     "name": "stderr",
     "output_type": "stream",
     "text": [
      "bash: line 13: mc: command not found\n"
     ]
    },
    {
     "name": "stdout",
     "output_type": "stream",
     "text": [
      "Executing: mc cp --recursive gaia/landsat-ard2/2017/004W_36N/ /mnt/apollo/bare_soil_xuemeng/tmp_files/original/004W_36N/\n"
     ]
    },
    {
     "name": "stderr",
     "output_type": "stream",
     "text": [
      "bash: line 13: mc: command not found\n"
     ]
    },
    {
     "name": "stdout",
     "output_type": "stream",
     "text": [
      "Executing: mc cp --recursive gaia/landsat-ard2/2018/016E_63N/ /mnt/apollo/bare_soil_xuemeng/tmp_files/original/016E_63N/\n"
     ]
    },
    {
     "name": "stderr",
     "output_type": "stream",
     "text": [
      "bash: line 13: mc: command not found\n"
     ]
    },
    {
     "name": "stdout",
     "output_type": "stream",
     "text": [
      "Executing: mc cp --recursive gaia/landsat-ard2/2018/006W_53N/ /mnt/apollo/bare_soil_xuemeng/tmp_files/original/006W_53N/\n"
     ]
    },
    {
     "name": "stderr",
     "output_type": "stream",
     "text": [
      "bash: line 13: mc: command not found\n"
     ]
    },
    {
     "name": "stdout",
     "output_type": "stream",
     "text": [
      "Executing: mc cp --recursive gaia/landsat-ard2/2018/003E_52N/ /mnt/apollo/bare_soil_xuemeng/tmp_files/original/003E_52N/\n"
     ]
    },
    {
     "name": "stderr",
     "output_type": "stream",
     "text": [
      "bash: line 13: mc: command not found\n"
     ]
    },
    {
     "name": "stdout",
     "output_type": "stream",
     "text": [
      "Executing: mc cp --recursive gaia/landsat-ard2/2018/004E_51N/ /mnt/apollo/bare_soil_xuemeng/tmp_files/original/004E_51N/\n"
     ]
    },
    {
     "name": "stderr",
     "output_type": "stream",
     "text": [
      "bash: line 13: mc: command not found\n"
     ]
    },
    {
     "name": "stdout",
     "output_type": "stream",
     "text": [
      "Executing: mc cp --recursive gaia/landsat-ard2/2018/005E_52N/ /mnt/apollo/bare_soil_xuemeng/tmp_files/original/005E_52N/\n"
     ]
    },
    {
     "name": "stderr",
     "output_type": "stream",
     "text": [
      "bash: line 13: mc: command not found\n"
     ]
    },
    {
     "name": "stdout",
     "output_type": "stream",
     "text": [
      "Executing: mc cp --recursive gaia/landsat-ard2/2018/006E_51N/ /mnt/apollo/bare_soil_xuemeng/tmp_files/original/006E_51N/\n"
     ]
    },
    {
     "name": "stderr",
     "output_type": "stream",
     "text": [
      "bash: line 13: mc: command not found\n"
     ]
    },
    {
     "name": "stdout",
     "output_type": "stream",
     "text": [
      "Executing: mc cp --recursive gaia/landsat-ard2/2018/023E_52N/ /mnt/apollo/bare_soil_xuemeng/tmp_files/original/023E_52N/\n"
     ]
    },
    {
     "name": "stderr",
     "output_type": "stream",
     "text": [
      "bash: line 13: mc: command not found\n"
     ]
    },
    {
     "name": "stdout",
     "output_type": "stream",
     "text": [
      "Executing: mc cp --recursive gaia/landsat-ard2/2018/007E_46N/ /mnt/apollo/bare_soil_xuemeng/tmp_files/original/007E_46N/\n"
     ]
    },
    {
     "name": "stderr",
     "output_type": "stream",
     "text": [
      "bash: line 13: mc: command not found\n"
     ]
    },
    {
     "name": "stdout",
     "output_type": "stream",
     "text": [
      "Executing: mc cp --recursive gaia/landsat-ard2/2018/024E_38N/ /mnt/apollo/bare_soil_xuemeng/tmp_files/original/024E_38N/\n"
     ]
    },
    {
     "name": "stderr",
     "output_type": "stream",
     "text": [
      "bash: line 13: mc: command not found\n"
     ]
    },
    {
     "name": "stdout",
     "output_type": "stream",
     "text": [
      "Executing: mc cp --recursive gaia/landsat-ard2/2018/004W_36N/ /mnt/apollo/bare_soil_xuemeng/tmp_files/original/004W_36N/\n"
     ]
    },
    {
     "name": "stderr",
     "output_type": "stream",
     "text": [
      "bash: line 13: mc: command not found\n"
     ]
    },
    {
     "name": "stdout",
     "output_type": "stream",
     "text": [
      "Executing: mc cp --recursive gaia/landsat-ard2/2019/016E_63N/ /mnt/apollo/bare_soil_xuemeng/tmp_files/original/016E_63N/\n"
     ]
    },
    {
     "name": "stderr",
     "output_type": "stream",
     "text": [
      "bash: line 13: mc: command not found\n"
     ]
    },
    {
     "name": "stdout",
     "output_type": "stream",
     "text": [
      "Executing: mc cp --recursive gaia/landsat-ard2/2019/006W_53N/ /mnt/apollo/bare_soil_xuemeng/tmp_files/original/006W_53N/\n"
     ]
    },
    {
     "name": "stderr",
     "output_type": "stream",
     "text": [
      "bash: line 13: mc: command not found\n"
     ]
    },
    {
     "name": "stdout",
     "output_type": "stream",
     "text": [
      "Executing: mc cp --recursive gaia/landsat-ard2/2019/003E_52N/ /mnt/apollo/bare_soil_xuemeng/tmp_files/original/003E_52N/\n"
     ]
    },
    {
     "name": "stderr",
     "output_type": "stream",
     "text": [
      "bash: line 13: mc: command not found\n"
     ]
    },
    {
     "name": "stdout",
     "output_type": "stream",
     "text": [
      "Executing: mc cp --recursive gaia/landsat-ard2/2019/004E_51N/ /mnt/apollo/bare_soil_xuemeng/tmp_files/original/004E_51N/\n"
     ]
    },
    {
     "name": "stderr",
     "output_type": "stream",
     "text": [
      "bash: line 13: mc: command not found\n"
     ]
    },
    {
     "name": "stdout",
     "output_type": "stream",
     "text": [
      "Executing: mc cp --recursive gaia/landsat-ard2/2019/005E_52N/ /mnt/apollo/bare_soil_xuemeng/tmp_files/original/005E_52N/\n"
     ]
    },
    {
     "name": "stderr",
     "output_type": "stream",
     "text": [
      "bash: line 13: mc: command not found\n"
     ]
    },
    {
     "name": "stdout",
     "output_type": "stream",
     "text": [
      "Executing: mc cp --recursive gaia/landsat-ard2/2019/006E_51N/ /mnt/apollo/bare_soil_xuemeng/tmp_files/original/006E_51N/\n"
     ]
    },
    {
     "name": "stderr",
     "output_type": "stream",
     "text": [
      "bash: line 13: mc: command not found\n"
     ]
    },
    {
     "name": "stdout",
     "output_type": "stream",
     "text": [
      "Executing: mc cp --recursive gaia/landsat-ard2/2019/023E_52N/ /mnt/apollo/bare_soil_xuemeng/tmp_files/original/023E_52N/\n"
     ]
    },
    {
     "name": "stderr",
     "output_type": "stream",
     "text": [
      "bash: line 13: mc: command not found\n"
     ]
    },
    {
     "name": "stdout",
     "output_type": "stream",
     "text": [
      "Executing: mc cp --recursive gaia/landsat-ard2/2019/007E_46N/ /mnt/apollo/bare_soil_xuemeng/tmp_files/original/007E_46N/\n"
     ]
    },
    {
     "name": "stderr",
     "output_type": "stream",
     "text": [
      "bash: line 13: mc: command not found\n"
     ]
    },
    {
     "name": "stdout",
     "output_type": "stream",
     "text": [
      "Executing: mc cp --recursive gaia/landsat-ard2/2019/024E_38N/ /mnt/apollo/bare_soil_xuemeng/tmp_files/original/024E_38N/\n"
     ]
    },
    {
     "name": "stderr",
     "output_type": "stream",
     "text": [
      "bash: line 13: mc: command not found\n"
     ]
    },
    {
     "name": "stdout",
     "output_type": "stream",
     "text": [
      "Executing: mc cp --recursive gaia/landsat-ard2/2019/004W_36N/ /mnt/apollo/bare_soil_xuemeng/tmp_files/original/004W_36N/\n"
     ]
    },
    {
     "name": "stderr",
     "output_type": "stream",
     "text": [
      "bash: line 13: mc: command not found\n"
     ]
    },
    {
     "name": "stdout",
     "output_type": "stream",
     "text": [
      "Executing: mc cp --recursive gaia/landsat-ard2/2020/016E_63N/ /mnt/apollo/bare_soil_xuemeng/tmp_files/original/016E_63N/\n"
     ]
    },
    {
     "name": "stderr",
     "output_type": "stream",
     "text": [
      "bash: line 13: mc: command not found\n"
     ]
    },
    {
     "name": "stdout",
     "output_type": "stream",
     "text": [
      "Executing: mc cp --recursive gaia/landsat-ard2/2020/006W_53N/ /mnt/apollo/bare_soil_xuemeng/tmp_files/original/006W_53N/\n"
     ]
    },
    {
     "name": "stderr",
     "output_type": "stream",
     "text": [
      "bash: line 13: mc: command not found\n"
     ]
    },
    {
     "name": "stdout",
     "output_type": "stream",
     "text": [
      "Executing: mc cp --recursive gaia/landsat-ard2/2020/003E_52N/ /mnt/apollo/bare_soil_xuemeng/tmp_files/original/003E_52N/\n"
     ]
    },
    {
     "name": "stderr",
     "output_type": "stream",
     "text": [
      "bash: line 13: mc: command not found\n"
     ]
    },
    {
     "name": "stdout",
     "output_type": "stream",
     "text": [
      "Executing: mc cp --recursive gaia/landsat-ard2/2020/004E_51N/ /mnt/apollo/bare_soil_xuemeng/tmp_files/original/004E_51N/\n"
     ]
    },
    {
     "name": "stderr",
     "output_type": "stream",
     "text": [
      "bash: line 13: mc: command not found\n"
     ]
    },
    {
     "name": "stdout",
     "output_type": "stream",
     "text": [
      "Executing: mc cp --recursive gaia/landsat-ard2/2020/005E_52N/ /mnt/apollo/bare_soil_xuemeng/tmp_files/original/005E_52N/\n"
     ]
    },
    {
     "name": "stderr",
     "output_type": "stream",
     "text": [
      "bash: line 13: mc: command not found\n"
     ]
    },
    {
     "name": "stdout",
     "output_type": "stream",
     "text": [
      "Executing: mc cp --recursive gaia/landsat-ard2/2020/006E_51N/ /mnt/apollo/bare_soil_xuemeng/tmp_files/original/006E_51N/\n"
     ]
    },
    {
     "name": "stderr",
     "output_type": "stream",
     "text": [
      "bash: line 13: mc: command not found\n"
     ]
    },
    {
     "name": "stdout",
     "output_type": "stream",
     "text": [
      "Executing: mc cp --recursive gaia/landsat-ard2/2020/023E_52N/ /mnt/apollo/bare_soil_xuemeng/tmp_files/original/023E_52N/\n"
     ]
    },
    {
     "name": "stderr",
     "output_type": "stream",
     "text": [
      "bash: line 13: mc: command not found\n"
     ]
    },
    {
     "name": "stdout",
     "output_type": "stream",
     "text": [
      "Executing: mc cp --recursive gaia/landsat-ard2/2020/007E_46N/ /mnt/apollo/bare_soil_xuemeng/tmp_files/original/007E_46N/\n"
     ]
    },
    {
     "name": "stderr",
     "output_type": "stream",
     "text": [
      "bash: line 13: mc: command not found\n"
     ]
    },
    {
     "name": "stdout",
     "output_type": "stream",
     "text": [
      "Executing: mc cp --recursive gaia/landsat-ard2/2020/024E_38N/ /mnt/apollo/bare_soil_xuemeng/tmp_files/original/024E_38N/\n"
     ]
    },
    {
     "name": "stderr",
     "output_type": "stream",
     "text": [
      "bash: line 13: mc: command not found\n"
     ]
    },
    {
     "name": "stdout",
     "output_type": "stream",
     "text": [
      "Executing: mc cp --recursive gaia/landsat-ard2/2020/004W_36N/ /mnt/apollo/bare_soil_xuemeng/tmp_files/original/004W_36N/\n"
     ]
    },
    {
     "name": "stderr",
     "output_type": "stream",
     "text": [
      "bash: line 13: mc: command not found\n"
     ]
    },
    {
     "name": "stdout",
     "output_type": "stream",
     "text": [
      "Executing: mc cp --recursive gaia/landsat-ard2/2021/016E_63N/ /mnt/apollo/bare_soil_xuemeng/tmp_files/original/016E_63N/\n"
     ]
    },
    {
     "name": "stderr",
     "output_type": "stream",
     "text": [
      "bash: line 13: mc: command not found\n"
     ]
    },
    {
     "name": "stdout",
     "output_type": "stream",
     "text": [
      "Executing: mc cp --recursive gaia/landsat-ard2/2021/006W_53N/ /mnt/apollo/bare_soil_xuemeng/tmp_files/original/006W_53N/\n"
     ]
    },
    {
     "name": "stderr",
     "output_type": "stream",
     "text": [
      "bash: line 13: mc: command not found\n"
     ]
    },
    {
     "name": "stdout",
     "output_type": "stream",
     "text": [
      "Executing: mc cp --recursive gaia/landsat-ard2/2021/003E_52N/ /mnt/apollo/bare_soil_xuemeng/tmp_files/original/003E_52N/\n"
     ]
    },
    {
     "name": "stderr",
     "output_type": "stream",
     "text": [
      "bash: line 13: mc: command not found\n"
     ]
    },
    {
     "name": "stdout",
     "output_type": "stream",
     "text": [
      "Executing: mc cp --recursive gaia/landsat-ard2/2021/004E_51N/ /mnt/apollo/bare_soil_xuemeng/tmp_files/original/004E_51N/\n"
     ]
    },
    {
     "name": "stderr",
     "output_type": "stream",
     "text": [
      "bash: line 13: mc: command not found\n"
     ]
    },
    {
     "name": "stdout",
     "output_type": "stream",
     "text": [
      "Executing: mc cp --recursive gaia/landsat-ard2/2021/005E_52N/ /mnt/apollo/bare_soil_xuemeng/tmp_files/original/005E_52N/\n"
     ]
    },
    {
     "name": "stderr",
     "output_type": "stream",
     "text": [
      "bash: line 13: mc: command not found\n"
     ]
    },
    {
     "name": "stdout",
     "output_type": "stream",
     "text": [
      "Executing: mc cp --recursive gaia/landsat-ard2/2021/006E_51N/ /mnt/apollo/bare_soil_xuemeng/tmp_files/original/006E_51N/\n"
     ]
    },
    {
     "name": "stderr",
     "output_type": "stream",
     "text": [
      "bash: line 13: mc: command not found\n"
     ]
    },
    {
     "name": "stdout",
     "output_type": "stream",
     "text": [
      "Executing: mc cp --recursive gaia/landsat-ard2/2021/023E_52N/ /mnt/apollo/bare_soil_xuemeng/tmp_files/original/023E_52N/\n"
     ]
    },
    {
     "name": "stderr",
     "output_type": "stream",
     "text": [
      "bash: line 13: mc: command not found\n"
     ]
    },
    {
     "name": "stdout",
     "output_type": "stream",
     "text": [
      "Executing: mc cp --recursive gaia/landsat-ard2/2021/007E_46N/ /mnt/apollo/bare_soil_xuemeng/tmp_files/original/007E_46N/\n"
     ]
    },
    {
     "name": "stderr",
     "output_type": "stream",
     "text": [
      "bash: line 13: mc: command not found\n"
     ]
    },
    {
     "name": "stdout",
     "output_type": "stream",
     "text": [
      "Executing: mc cp --recursive gaia/landsat-ard2/2021/024E_38N/ /mnt/apollo/bare_soil_xuemeng/tmp_files/original/024E_38N/\n"
     ]
    },
    {
     "name": "stderr",
     "output_type": "stream",
     "text": [
      "bash: line 13: mc: command not found\n"
     ]
    },
    {
     "name": "stdout",
     "output_type": "stream",
     "text": [
      "Executing: mc cp --recursive gaia/landsat-ard2/2021/004W_36N/ /mnt/apollo/bare_soil_xuemeng/tmp_files/original/004W_36N/\n"
     ]
    },
    {
     "name": "stderr",
     "output_type": "stream",
     "text": [
      "bash: line 13: mc: command not found\n"
     ]
    },
    {
     "ename": "CalledProcessError",
     "evalue": "Command 'b'\\n# Define lists of years and tiles\\nyears=(\\'2000\\' \\'2001\\' \\'2002\\' \\'2003\\' \\'2004\\' \\'2005\\' \\'2006\\' \\'2007\\' \\'2008\\' \\'2009\\' \\'2010\\' \\'2011\\' \\'2012\\'\\n       \\'2013\\' \\'2014\\' \\'2015\\' \\'2016\\' \\'2017\\' \\'2018\\' \\'2019\\' \\'2020\\' \\'2021\\')\\ntiles=(\\'016E_63N\\' \\'006W_53N\\' \\'003E_52N\\' \\'004E_51N\\' \\'005E_52N\\' \\'006E_51N\\' \\'023E_52N\\' \\'007E_46N\\' \\'024E_38N\\' \\'004W_36N\\')\\n\\n# Iterate over each combination of year and tile\\nfor year in \"${years[@]}\"; do\\n    for tile in \"${tiles[@]}\"; do\\n        # Construct and execute the mc cp command\\n        cmd=\"mc cp --recursive gaia/landsat-ard2/${year}/${tile}/ /mnt/apollo/bare_soil_xuemeng/tmp_files/original/${tile}/\"\\n        echo \"Executing: $cmd\"\\n        $cmd\\n    done\\ndone\\n\\n\\n'' returned non-zero exit status 127.",
     "output_type": "error",
     "traceback": [
      "\u001b[0;31m---------------------------------------------------------------------------\u001b[0m",
      "\u001b[0;31mCalledProcessError\u001b[0m                        Traceback (most recent call last)",
      "Input \u001b[0;32mIn [25]\u001b[0m, in \u001b[0;36m<cell line: 1>\u001b[0;34m()\u001b[0m\n\u001b[0;32m----> 1\u001b[0m \u001b[43mget_ipython\u001b[49m\u001b[43m(\u001b[49m\u001b[43m)\u001b[49m\u001b[38;5;241;43m.\u001b[39;49m\u001b[43mrun_cell_magic\u001b[49m\u001b[43m(\u001b[49m\u001b[38;5;124;43m'\u001b[39;49m\u001b[38;5;124;43mbash\u001b[39;49m\u001b[38;5;124;43m'\u001b[39;49m\u001b[43m,\u001b[49m\u001b[43m \u001b[49m\u001b[38;5;124;43m'\u001b[39;49m\u001b[38;5;124;43m'\u001b[39;49m\u001b[43m,\u001b[49m\u001b[43m \u001b[49m\u001b[38;5;124;43m'\u001b[39;49m\u001b[38;5;130;43;01m\\n\u001b[39;49;00m\u001b[38;5;124;43m# Define lists of years and tiles\u001b[39;49m\u001b[38;5;130;43;01m\\n\u001b[39;49;00m\u001b[38;5;124;43myears=(\u001b[39;49m\u001b[38;5;130;43;01m\\'\u001b[39;49;00m\u001b[38;5;124;43m2000\u001b[39;49m\u001b[38;5;130;43;01m\\'\u001b[39;49;00m\u001b[38;5;124;43m \u001b[39;49m\u001b[38;5;130;43;01m\\'\u001b[39;49;00m\u001b[38;5;124;43m2001\u001b[39;49m\u001b[38;5;130;43;01m\\'\u001b[39;49;00m\u001b[38;5;124;43m \u001b[39;49m\u001b[38;5;130;43;01m\\'\u001b[39;49;00m\u001b[38;5;124;43m2002\u001b[39;49m\u001b[38;5;130;43;01m\\'\u001b[39;49;00m\u001b[38;5;124;43m \u001b[39;49m\u001b[38;5;130;43;01m\\'\u001b[39;49;00m\u001b[38;5;124;43m2003\u001b[39;49m\u001b[38;5;130;43;01m\\'\u001b[39;49;00m\u001b[38;5;124;43m \u001b[39;49m\u001b[38;5;130;43;01m\\'\u001b[39;49;00m\u001b[38;5;124;43m2004\u001b[39;49m\u001b[38;5;130;43;01m\\'\u001b[39;49;00m\u001b[38;5;124;43m \u001b[39;49m\u001b[38;5;130;43;01m\\'\u001b[39;49;00m\u001b[38;5;124;43m2005\u001b[39;49m\u001b[38;5;130;43;01m\\'\u001b[39;49;00m\u001b[38;5;124;43m \u001b[39;49m\u001b[38;5;130;43;01m\\'\u001b[39;49;00m\u001b[38;5;124;43m2006\u001b[39;49m\u001b[38;5;130;43;01m\\'\u001b[39;49;00m\u001b[38;5;124;43m \u001b[39;49m\u001b[38;5;130;43;01m\\'\u001b[39;49;00m\u001b[38;5;124;43m2007\u001b[39;49m\u001b[38;5;130;43;01m\\'\u001b[39;49;00m\u001b[38;5;124;43m \u001b[39;49m\u001b[38;5;130;43;01m\\'\u001b[39;49;00m\u001b[38;5;124;43m2008\u001b[39;49m\u001b[38;5;130;43;01m\\'\u001b[39;49;00m\u001b[38;5;124;43m \u001b[39;49m\u001b[38;5;130;43;01m\\'\u001b[39;49;00m\u001b[38;5;124;43m2009\u001b[39;49m\u001b[38;5;130;43;01m\\'\u001b[39;49;00m\u001b[38;5;124;43m \u001b[39;49m\u001b[38;5;130;43;01m\\'\u001b[39;49;00m\u001b[38;5;124;43m2010\u001b[39;49m\u001b[38;5;130;43;01m\\'\u001b[39;49;00m\u001b[38;5;124;43m \u001b[39;49m\u001b[38;5;130;43;01m\\'\u001b[39;49;00m\u001b[38;5;124;43m2011\u001b[39;49m\u001b[38;5;130;43;01m\\'\u001b[39;49;00m\u001b[38;5;124;43m \u001b[39;49m\u001b[38;5;130;43;01m\\'\u001b[39;49;00m\u001b[38;5;124;43m2012\u001b[39;49m\u001b[38;5;130;43;01m\\'\u001b[39;49;00m\u001b[38;5;130;43;01m\\n\u001b[39;49;00m\u001b[38;5;124;43m       \u001b[39;49m\u001b[38;5;130;43;01m\\'\u001b[39;49;00m\u001b[38;5;124;43m2013\u001b[39;49m\u001b[38;5;130;43;01m\\'\u001b[39;49;00m\u001b[38;5;124;43m \u001b[39;49m\u001b[38;5;130;43;01m\\'\u001b[39;49;00m\u001b[38;5;124;43m2014\u001b[39;49m\u001b[38;5;130;43;01m\\'\u001b[39;49;00m\u001b[38;5;124;43m \u001b[39;49m\u001b[38;5;130;43;01m\\'\u001b[39;49;00m\u001b[38;5;124;43m2015\u001b[39;49m\u001b[38;5;130;43;01m\\'\u001b[39;49;00m\u001b[38;5;124;43m \u001b[39;49m\u001b[38;5;130;43;01m\\'\u001b[39;49;00m\u001b[38;5;124;43m2016\u001b[39;49m\u001b[38;5;130;43;01m\\'\u001b[39;49;00m\u001b[38;5;124;43m \u001b[39;49m\u001b[38;5;130;43;01m\\'\u001b[39;49;00m\u001b[38;5;124;43m2017\u001b[39;49m\u001b[38;5;130;43;01m\\'\u001b[39;49;00m\u001b[38;5;124;43m \u001b[39;49m\u001b[38;5;130;43;01m\\'\u001b[39;49;00m\u001b[38;5;124;43m2018\u001b[39;49m\u001b[38;5;130;43;01m\\'\u001b[39;49;00m\u001b[38;5;124;43m \u001b[39;49m\u001b[38;5;130;43;01m\\'\u001b[39;49;00m\u001b[38;5;124;43m2019\u001b[39;49m\u001b[38;5;130;43;01m\\'\u001b[39;49;00m\u001b[38;5;124;43m \u001b[39;49m\u001b[38;5;130;43;01m\\'\u001b[39;49;00m\u001b[38;5;124;43m2020\u001b[39;49m\u001b[38;5;130;43;01m\\'\u001b[39;49;00m\u001b[38;5;124;43m \u001b[39;49m\u001b[38;5;130;43;01m\\'\u001b[39;49;00m\u001b[38;5;124;43m2021\u001b[39;49m\u001b[38;5;130;43;01m\\'\u001b[39;49;00m\u001b[38;5;124;43m)\u001b[39;49m\u001b[38;5;130;43;01m\\n\u001b[39;49;00m\u001b[38;5;124;43mtiles=(\u001b[39;49m\u001b[38;5;130;43;01m\\'\u001b[39;49;00m\u001b[38;5;124;43m016E_63N\u001b[39;49m\u001b[38;5;130;43;01m\\'\u001b[39;49;00m\u001b[38;5;124;43m \u001b[39;49m\u001b[38;5;130;43;01m\\'\u001b[39;49;00m\u001b[38;5;124;43m006W_53N\u001b[39;49m\u001b[38;5;130;43;01m\\'\u001b[39;49;00m\u001b[38;5;124;43m \u001b[39;49m\u001b[38;5;130;43;01m\\'\u001b[39;49;00m\u001b[38;5;124;43m003E_52N\u001b[39;49m\u001b[38;5;130;43;01m\\'\u001b[39;49;00m\u001b[38;5;124;43m \u001b[39;49m\u001b[38;5;130;43;01m\\'\u001b[39;49;00m\u001b[38;5;124;43m004E_51N\u001b[39;49m\u001b[38;5;130;43;01m\\'\u001b[39;49;00m\u001b[38;5;124;43m \u001b[39;49m\u001b[38;5;130;43;01m\\'\u001b[39;49;00m\u001b[38;5;124;43m005E_52N\u001b[39;49m\u001b[38;5;130;43;01m\\'\u001b[39;49;00m\u001b[38;5;124;43m \u001b[39;49m\u001b[38;5;130;43;01m\\'\u001b[39;49;00m\u001b[38;5;124;43m006E_51N\u001b[39;49m\u001b[38;5;130;43;01m\\'\u001b[39;49;00m\u001b[38;5;124;43m \u001b[39;49m\u001b[38;5;130;43;01m\\'\u001b[39;49;00m\u001b[38;5;124;43m023E_52N\u001b[39;49m\u001b[38;5;130;43;01m\\'\u001b[39;49;00m\u001b[38;5;124;43m \u001b[39;49m\u001b[38;5;130;43;01m\\'\u001b[39;49;00m\u001b[38;5;124;43m007E_46N\u001b[39;49m\u001b[38;5;130;43;01m\\'\u001b[39;49;00m\u001b[38;5;124;43m \u001b[39;49m\u001b[38;5;130;43;01m\\'\u001b[39;49;00m\u001b[38;5;124;43m024E_38N\u001b[39;49m\u001b[38;5;130;43;01m\\'\u001b[39;49;00m\u001b[38;5;124;43m \u001b[39;49m\u001b[38;5;130;43;01m\\'\u001b[39;49;00m\u001b[38;5;124;43m004W_36N\u001b[39;49m\u001b[38;5;130;43;01m\\'\u001b[39;49;00m\u001b[38;5;124;43m)\u001b[39;49m\u001b[38;5;130;43;01m\\n\u001b[39;49;00m\u001b[38;5;130;43;01m\\n\u001b[39;49;00m\u001b[38;5;124;43m# Iterate over each combination of year and tile\u001b[39;49m\u001b[38;5;130;43;01m\\n\u001b[39;49;00m\u001b[38;5;124;43mfor year in \u001b[39;49m\u001b[38;5;124;43m\"\u001b[39;49m\u001b[38;5;124;43m$\u001b[39;49m\u001b[38;5;132;43;01m{years[@]}\u001b[39;49;00m\u001b[38;5;124;43m\"\u001b[39;49m\u001b[38;5;124;43m; do\u001b[39;49m\u001b[38;5;130;43;01m\\n\u001b[39;49;00m\u001b[38;5;124;43m    for tile in \u001b[39;49m\u001b[38;5;124;43m\"\u001b[39;49m\u001b[38;5;124;43m$\u001b[39;49m\u001b[38;5;132;43;01m{tiles[@]}\u001b[39;49;00m\u001b[38;5;124;43m\"\u001b[39;49m\u001b[38;5;124;43m; do\u001b[39;49m\u001b[38;5;130;43;01m\\n\u001b[39;49;00m\u001b[38;5;124;43m        # Construct and execute the mc cp command\u001b[39;49m\u001b[38;5;130;43;01m\\n\u001b[39;49;00m\u001b[38;5;124;43m        cmd=\u001b[39;49m\u001b[38;5;124;43m\"\u001b[39;49m\u001b[38;5;124;43mmc cp --recursive gaia/landsat-ard2/$\u001b[39;49m\u001b[38;5;132;43;01m{year}\u001b[39;49;00m\u001b[38;5;124;43m/$\u001b[39;49m\u001b[38;5;132;43;01m{tile}\u001b[39;49;00m\u001b[38;5;124;43m/ /mnt/apollo/bare_soil_xuemeng/tmp_files/original/$\u001b[39;49m\u001b[38;5;132;43;01m{tile}\u001b[39;49;00m\u001b[38;5;124;43m/\u001b[39;49m\u001b[38;5;124;43m\"\u001b[39;49m\u001b[38;5;130;43;01m\\n\u001b[39;49;00m\u001b[38;5;124;43m        echo \u001b[39;49m\u001b[38;5;124;43m\"\u001b[39;49m\u001b[38;5;124;43mExecuting: $cmd\u001b[39;49m\u001b[38;5;124;43m\"\u001b[39;49m\u001b[38;5;130;43;01m\\n\u001b[39;49;00m\u001b[38;5;124;43m        $cmd\u001b[39;49m\u001b[38;5;130;43;01m\\n\u001b[39;49;00m\u001b[38;5;124;43m    done\u001b[39;49m\u001b[38;5;130;43;01m\\n\u001b[39;49;00m\u001b[38;5;124;43mdone\u001b[39;49m\u001b[38;5;130;43;01m\\n\u001b[39;49;00m\u001b[38;5;130;43;01m\\n\u001b[39;49;00m\u001b[38;5;130;43;01m\\n\u001b[39;49;00m\u001b[38;5;124;43m'\u001b[39;49m\u001b[43m)\u001b[49m\n",
      "File \u001b[0;32m/opt/conda/lib/python3.8/site-packages/IPython/core/interactiveshell.py:2358\u001b[0m, in \u001b[0;36mInteractiveShell.run_cell_magic\u001b[0;34m(self, magic_name, line, cell)\u001b[0m\n\u001b[1;32m   2356\u001b[0m \u001b[38;5;28;01mwith\u001b[39;00m \u001b[38;5;28mself\u001b[39m\u001b[38;5;241m.\u001b[39mbuiltin_trap:\n\u001b[1;32m   2357\u001b[0m     args \u001b[38;5;241m=\u001b[39m (magic_arg_s, cell)\n\u001b[0;32m-> 2358\u001b[0m     result \u001b[38;5;241m=\u001b[39m \u001b[43mfn\u001b[49m\u001b[43m(\u001b[49m\u001b[38;5;241;43m*\u001b[39;49m\u001b[43margs\u001b[49m\u001b[43m,\u001b[49m\u001b[43m \u001b[49m\u001b[38;5;241;43m*\u001b[39;49m\u001b[38;5;241;43m*\u001b[39;49m\u001b[43mkwargs\u001b[49m\u001b[43m)\u001b[49m\n\u001b[1;32m   2359\u001b[0m \u001b[38;5;28;01mreturn\u001b[39;00m result\n",
      "File \u001b[0;32m/opt/conda/lib/python3.8/site-packages/IPython/core/magics/script.py:153\u001b[0m, in \u001b[0;36mScriptMagics._make_script_magic.<locals>.named_script_magic\u001b[0;34m(line, cell)\u001b[0m\n\u001b[1;32m    151\u001b[0m \u001b[38;5;28;01melse\u001b[39;00m:\n\u001b[1;32m    152\u001b[0m     line \u001b[38;5;241m=\u001b[39m script\n\u001b[0;32m--> 153\u001b[0m \u001b[38;5;28;01mreturn\u001b[39;00m \u001b[38;5;28;43mself\u001b[39;49m\u001b[38;5;241;43m.\u001b[39;49m\u001b[43mshebang\u001b[49m\u001b[43m(\u001b[49m\u001b[43mline\u001b[49m\u001b[43m,\u001b[49m\u001b[43m \u001b[49m\u001b[43mcell\u001b[49m\u001b[43m)\u001b[49m\n",
      "File \u001b[0;32m/opt/conda/lib/python3.8/site-packages/IPython/core/magics/script.py:305\u001b[0m, in \u001b[0;36mScriptMagics.shebang\u001b[0;34m(self, line, cell)\u001b[0m\n\u001b[1;32m    300\u001b[0m \u001b[38;5;28;01mif\u001b[39;00m args\u001b[38;5;241m.\u001b[39mraise_error \u001b[38;5;129;01mand\u001b[39;00m p\u001b[38;5;241m.\u001b[39mreturncode \u001b[38;5;241m!=\u001b[39m \u001b[38;5;241m0\u001b[39m:\n\u001b[1;32m    301\u001b[0m     \u001b[38;5;66;03m# If we get here and p.returncode is still None, we must have\u001b[39;00m\n\u001b[1;32m    302\u001b[0m     \u001b[38;5;66;03m# killed it but not yet seen its return code. We don't wait for it,\u001b[39;00m\n\u001b[1;32m    303\u001b[0m     \u001b[38;5;66;03m# in case it's stuck in uninterruptible sleep. -9 = SIGKILL\u001b[39;00m\n\u001b[1;32m    304\u001b[0m     rc \u001b[38;5;241m=\u001b[39m p\u001b[38;5;241m.\u001b[39mreturncode \u001b[38;5;129;01mor\u001b[39;00m \u001b[38;5;241m-\u001b[39m\u001b[38;5;241m9\u001b[39m\n\u001b[0;32m--> 305\u001b[0m     \u001b[38;5;28;01mraise\u001b[39;00m CalledProcessError(rc, cell)\n",
      "\u001b[0;31mCalledProcessError\u001b[0m: Command 'b'\\n# Define lists of years and tiles\\nyears=(\\'2000\\' \\'2001\\' \\'2002\\' \\'2003\\' \\'2004\\' \\'2005\\' \\'2006\\' \\'2007\\' \\'2008\\' \\'2009\\' \\'2010\\' \\'2011\\' \\'2012\\'\\n       \\'2013\\' \\'2014\\' \\'2015\\' \\'2016\\' \\'2017\\' \\'2018\\' \\'2019\\' \\'2020\\' \\'2021\\')\\ntiles=(\\'016E_63N\\' \\'006W_53N\\' \\'003E_52N\\' \\'004E_51N\\' \\'005E_52N\\' \\'006E_51N\\' \\'023E_52N\\' \\'007E_46N\\' \\'024E_38N\\' \\'004W_36N\\')\\n\\n# Iterate over each combination of year and tile\\nfor year in \"${years[@]}\"; do\\n    for tile in \"${tiles[@]}\"; do\\n        # Construct and execute the mc cp command\\n        cmd=\"mc cp --recursive gaia/landsat-ard2/${year}/${tile}/ /mnt/apollo/bare_soil_xuemeng/tmp_files/original/${tile}/\"\\n        echo \"Executing: $cmd\"\\n        $cmd\\n    done\\ndone\\n\\n\\n'' returned non-zero exit status 127."
     ]
    }
   ],
   "source": [
    "\n",
    "\n",
    "\n"
   ]
  },
  {
   "cell_type": "code",
   "execution_count": 52,
   "id": "9c2f4b67-a658-458d-b2ec-fcf54b75f3e8",
   "metadata": {},
   "outputs": [],
   "source": [
    "# # old version applied on files with right names\n",
    "\n",
    "# def worker_gapfill(ts,bs,period):\n",
    "    \n",
    "#     if period == 'monthly':\n",
    "#         ks = 1\n",
    "#         out_f = f'/mnt/tupi/Xuemeng_testing/{period}_gapfilled/landsat_{bs}_{ts}_2021335.tif'\n",
    "#     else:\n",
    "#         ks = 2\n",
    "#         out_f = f'/mnt/tupi/Xuemeng_testing/{period}_gapfilled/landsat_{bs}_{ts}_2021305.tif'\n",
    "        \n",
    "#     print(out_f)\n",
    "#     if os.path.exists(out_f):\n",
    "#         print(f'{period}_{bs}_{ts} exists!')\n",
    "#         return None\n",
    "#     else:\n",
    "#         print(f'{period}_{bs}_{ts} generating...')\n",
    "    \n",
    "#     group = {f'{bs}': f'http://192.168.1.30:8333/tmp-bare-soil/landsat_{period}/{bs}_landsat.{ts}_p50_'+'{dt}.tif'}\n",
    "    \n",
    "        \n",
    "#     rdata = RasterData(group,verbose=True) \\\n",
    "#     .timespan('2000001', '2021336', date_step=23, date_unit='days', date_format='%Y%j', date_style='start_date', ignore_29feb=True) \\\n",
    "#     .read()\n",
    "    \n",
    "#     outn = 'landsat_{gr}_'+f'{ts}' + '_{dt}'\n",
    "#     base_raster_path = rdata._base_raster()\n",
    "#     rdata = rdata.run(process.SeasConvFill(season_size=1), outname=outn, drop_input=True).rename(groups= {'{gr}..p50': '{gr}'})\n",
    "#     rdata.info['input_path'] = base_raster_path\n",
    "#     rdata.to_dir(f'{period}_gapfilled')\n",
    "    \n",
    "#     return None\n",
    "\n",
    "# inputs = []\n",
    "# for period in ['monthly']:\n",
    "#     for bs in bands:\n",
    "#         for ts in tile_ids:\n",
    "#             inputs.append((ts,bs,period))\n",
    "            \n",
    "# # with mp.Pool(processes=3) as pool:\n",
    "# #     result = pool.starmap(worker_gapfill, inputs)\n",
    "\n",
    "# for i in inputs:\n",
    "#     # print(i)\n",
    "#     worker_gapfill(i[0],i[1],i[2])"
   ]
  },
  {
   "cell_type": "code",
   "execution_count": 42,
   "id": "4ddb49b9-e073-4c17-8c84-0449a5dab88e",
   "metadata": {},
   "outputs": [],
   "source": [
    "# # examples from Leandro\n",
    "# from skmap.data import toy\n",
    "# from skmap.io import process\n",
    "\n",
    "# # Loading NDVI quarterly time-series with gaps\n",
    "# toy.ndvi_rdata(gappy=True \n",
    "#     # Gapfilling time-series by seasonal convolution \n",
    "#     ).run(process.SeasConvFill(season_size=4), drop_input=True\n",
    "#     # Smoothing time-series by Whittaker\n",
    "#     ).run(process.WhittakerSmooth(), group='ndvi.seasconv', drop_input=True\n",
    "#     # Setting smoothed time-series as main input\n",
    "#     ).rename(groups={'ndvi.seasconv.whittaker': 'ndvi'}\n",
    "#     # Running yearly aggregation by std. and percentile 50th\n",
    "#     ).run(process.TimeAggregate(time=[process.TimeEnum.YEARLY], operations = ['p50', 'std']), group=['ndvi']\n",
    "#     # Running trend analysis using per-pixel linear regression  \n",
    "#     ).run(process.TrendAnalysis(season_size=4), group='ndvi'\n",
    "#     # Ploting all raster data\n",
    "#     ).plot(v_minmax=[0,100])"
   ]
  },
  {
   "cell_type": "code",
   "execution_count": 18,
   "id": "43a378b4-b7f9-455f-93e4-60a551dbad6e",
   "metadata": {},
   "outputs": [
    {
     "name": "stderr",
     "output_type": "stream",
     "text": [
      "/opt/conda/lib/python3.8/site-packages/IPython/core/interactiveshell.py:3338: FutureWarning: The `op` parameter is deprecated and will be removed in a future release. Please use the `predicate` parameter instead.\n",
      "  if await self.run_code(code, result, async_=asy):\n"
     ]
    }
   ],
   "source": [
    "# # # get the landsat tile ids that overlay with the fid chosen by Martijn\n",
    "# eu = gpd.read_file('/mnt/primus/xuemeng_tmp_harbour/crop_bare_index/eu_tilling_system_30km.gpkg') #http://192.168.1.30:8333/tmp-bare-soil/eu_tilling_system_30km.gpkg\n",
    "# landsat = gpd.read_file('/mnt/primus/xuemeng_tmp_harbour/crop_bare_index/glad_landsat_tiles.gpkg')\n",
    "\n",
    "# # get fid id of tiles chosen by Martijn \n",
    "# with fiona.open('/mnt/primus/xuemeng_tmp_harbour/crop_bare_index/eu_tilling_system_30km.gpkg') as f:\n",
    "#     feats = list(f)\n",
    "#     fids = [f['id'] for f in feats]\n",
    "# eu['id'] = fids\n",
    "# eu['id'] = eu['id'].astype(int)\n",
    "\n",
    "# eu_tile = [22497,16057,14576,14580,15560,10636,9326,9629,5606,4582]\n",
    "# euc = eu[eu['id'].isin(eu_tile)]\n",
    "\n",
    "# euc = euc.to_crs(epsg=4326)\n",
    "# lap = gpd.sjoin(landsat, euc, how=\"inner\", op=\"intersects\")\n",
    "# lap.to_file('/mnt/primus/xuemeng_tmp_harbour/crop_bare_index/overlay_10_test_tiles.gpkg', driver='GPKG')\n",
    "# euc.to_file('/mnt/primus/xuemeng_tmp_harbour/crop_bare_index/eu_10_test_tiles.gpkg', driver='GPKG')\n",
    "# # result['TILE'].values.tolist()"
   ]
  },
  {
   "cell_type": "code",
   "execution_count": 42,
   "id": "60c4c7a6-55ff-43ce-8149-48d16551e2bf",
   "metadata": {},
   "outputs": [
    {
     "data": {
      "image/png": "[encoded data removed]",
      "text/plain": [
       "<Figure size 432x288 with 1 Axes>"
      ]
     },
     "metadata": {
      "needs_background": "light"
     },
     "output_type": "display_data"
    }
   ],
   "source": [
    "\n",
    "# hist, bins = np.histogram(rdata.flatten(), bins=50)  # Adjust the number of bins as needed\n",
    "# plt.hist(rdata.flatten(), bins=50, alpha=0.5, color='b', edgecolor='black')\n",
    "# plt.xlabel('Value')\n",
    "# plt.ylabel('Frequency')\n",
    "# plt.title('Histogram')\n",
    "# plt.show()"
   ]
  },
  {
   "cell_type": "code",
   "execution_count": null,
   "id": "d11fd1f0-20b3-4b83-b83f-695bd6836dca",
   "metadata": {},
   "outputs": [],
   "source": []
  }
 ],
 "metadata": {
  "kernelspec": {
   "display_name": "Python 3 (ipykernel)",
   "language": "python",
   "name": "python3"
  },
  "language_info": {
   "codemirror_mode": {
    "name": "ipython",
    "version": 3
   },
   "file_extension": ".py",
   "mimetype": "text/x-python",
   "name": "python",
   "nbconvert_exporter": "python",
   "pygments_lexer": "ipython3",
   "version": "3.8.13"
  }
 },
 "nbformat": 4,
 "nbformat_minor": 5
}
