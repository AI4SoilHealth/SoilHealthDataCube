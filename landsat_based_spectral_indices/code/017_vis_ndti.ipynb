{
 "cells": [
  {
   "cell_type": "code",
   "execution_count": 1,
   "id": "6a2891c1-7561-4023-9d1c-1685318ae119",
   "metadata": {},
   "outputs": [],
   "source": [
    "from rasterstats import zonal_stats\n",
    "from multiprocessing import Pool\n",
    "import pandas as pd\n",
    "import numpy as np\n",
    "import rasterio\n",
    "import geopandas as gpd\n",
    "from concurrent.futures import ProcessPoolExecutor, as_completed\n"
   ]
  },
  {
   "cell_type": "code",
   "execution_count": 2,
   "id": "94bbaaa3-3b37-47a7-bf58-587ce688021a",
   "metadata": {},
   "outputs": [],
   "source": [
    "# after several trials, found that the nuts2 code used by EUROSTAT is 2013 version\n",
    "nuts = gpd.read_file('/mnt/inca/tillage_index/data/EUROSTATS/nuts2/NUTS_RG_20M_2013_3035.shp')\n",
    "nuts = nuts.loc[nuts['LEVL_CODE'].isin([2])]\n",
    "nuts.to_file('ndti_nuts2.shp',driver='ESRI Shapefile')\n",
    "\n",
    "\n",
    "stats = ['count', 'mean', 'std', 'median', 'percentile_90', 'percentile_10']\n",
    "tgt = ['/mnt/inca/tillage_index/data/tif_files/ndti.min_cropland_trend.tif',\n",
    "       '/mnt/inca/tillage_index/data/tif_files/min.ndti_2016.tif',\n",
    "       '/mnt/inca/tillage_index/data/tif_files/min.ndti_2010.tif']\n",
    "\n",
    "name = ['trend','2016','2010']\n",
    "\n",
    "def calculate_zonal_stats(args):\n",
    "    index, geometry, tif_path, stats = args\n",
    "    zs = zonal_stats(geometry, tif_path, stats=stats)\n",
    "    return index, zs\n",
    "\n",
    "nuts = nuts.reset_index(drop=True)"
   ]
  },
  {
   "cell_type": "code",
   "execution_count": 5,
   "id": "b3e18dc6-dd39-4b66-8db9-d9c87606200e",
   "metadata": {},
   "outputs": [],
   "source": [
    "for iii in [2, 1, 0]:\n",
    "    tif_name = name[iii]\n",
    "    tif_path = tgt[iii]\n",
    "    \n",
    "    # Prepare the dataframe for new statistics\n",
    "    for stat in stats:\n",
    "        nuts[f\"{tif_name}_{stat}\"] = np.nan\n",
    "    \n",
    "    # Create a list of arguments for each geometry\n",
    "    args_list = [(index, geometry.to_wkt(), tif_path, stats) for index, geometry in enumerate(nuts.geometry)]\n",
    "\n",
    "    # Use ProcessPoolExecutor to parallelize the zonal statistics calculation\n",
    "    with ProcessPoolExecutor(max_workers=40) as executor:\n",
    "        # Submit all the tasks and create a future object for each\n",
    "        futures = [executor.submit(calculate_zonal_stats, args) for args in args_list]\n",
    "        \n",
    "        # As each future completes, update the dataframe\n",
    "        for future in as_completed(futures):\n",
    "            index, zs = future.result()\n",
    "            if zs:\n",
    "                for stat in stats:\n",
    "                    nuts.at[index, f\"{tif_name}_{stat}\"] = zs[0].get(stat)\n"
   ]
  },
  {
   "cell_type": "code",
   "execution_count": 9,
   "id": "e20314f8-34ec-4c22-9c08-ef4d05459026",
   "metadata": {},
   "outputs": [
    {
     "name": "stderr",
     "output_type": "stream",
     "text": [
      "/tmp/ipykernel_1743/3009137009.py:1: UserWarning: Column names longer than 10 characters will be truncated when saved to ESRI Shapefile.\n",
      "  nuts.to_file('/mnt/inca/tillage_index/data/011_vis_ndti.shp',driver='ESRI Shapefile')\n"
     ]
    }
   ],
   "source": [
    "nuts.to_file('/mnt/inca/tillage_index/data/011_vis_ndti.shp',driver='ESRI Shapefile')"
   ]
  },
  {
   "cell_type": "code",
   "execution_count": null,
   "id": "33e9dfce-354c-46b8-b16f-53dccdec614a",
   "metadata": {},
   "outputs": [],
   "source": []
  }
 ],
 "metadata": {
  "kernelspec": {
   "display_name": "Python 3 (ipykernel)",
   "language": "python",
   "name": "python3"
  },
  "language_info": {
   "codemirror_mode": {
    "name": "ipython",
    "version": 3
   },
   "file_extension": ".py",
   "mimetype": "text/x-python",
   "name": "python",
   "nbconvert_exporter": "python",
   "pygments_lexer": "ipython3",
   "version": "3.8.10"
  }
 },
 "nbformat": 4,
 "nbformat_minor": 5
}
