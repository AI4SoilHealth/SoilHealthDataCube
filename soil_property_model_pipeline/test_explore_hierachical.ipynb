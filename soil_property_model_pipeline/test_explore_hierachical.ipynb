{
 "cells": [
  {
   "cell_type": "code",
   "execution_count": 1,
   "id": "9a280311-ce6b-47f0-9804-953c44deb054",
   "metadata": {},
   "outputs": [
    {
     "name": "stderr",
     "output_type": "stream",
     "text": [
      "/home/opengeohub/.local/lib/python3.8/site-packages/geopandas/_compat.py:124: UserWarning: The Shapely GEOS version (3.11.3-CAPI-1.17.3) is incompatible with the GEOS version PyGEOS was compiled with (3.10.4-CAPI-1.16.2). Conversions between both will be slow.\n",
      "  warnings.warn(\n"
     ]
    }
   ],
   "source": [
    "from eumap.misc import find_files, nan_percentile, GoogleSheet, ttprint\n",
    "from sklearn.metrics import r2_score, mean_squared_error\n",
    "from tool_kit import calc_ccc, accuracy_plot, uncertainty_plot\n",
    "from sklearn.model_selection import cross_val_score, KFold, GroupKFold\n",
    "from mapie.regression import MapieRegressor\n",
    "\n",
    "import pandas as pd\n",
    "import numpy as np\n",
    "import warnings\n",
    "import joblib\n",
    "warnings.filterwarnings('ignore')\n",
    "\n",
    "# read in necessary material\n",
    "folder = '/mnt/inca/soc_eu_model'\n",
    "test = pd.read_csv(f'{folder}/data/004.0_validate.pnts_oc.csv',low_memory=False)\n",
    "train = pd.read_csv(f'{folder}/data/005.0_train.pnts_oc.csv',low_memory=False)\n",
    "\n",
    "# target variable\n",
    "tgt = 'oc_log1p'\n",
    "\n",
    "# covariates\n",
    "meta_info = ['id','lat','lon','time','ref','nuts0','geometry','tile_id']\n",
    "meta_prop = ['oc','ph_h2o','ph_cacl2','bulk_density','clay','silt','sand','caco3','N','K','P','CEC','EC']\n",
    "meta_qa = [i+'_qa' for i in meta_prop]\n",
    "meta = meta_info + meta_prop + meta_qa + [tgt] + ['oc']\n",
    "covs = [i for i in train.columns if i not in meta]\n",
    "\n",
    "with open(f'{folder}/SOC-EU/features/002_selected.covar_rank.freq.txt', 'r') as file:\n",
    "    lines = file.readlines()\n",
    "covs_rank = [line.strip() for line in lines]\n",
    "\n",
    "# dataset\n",
    "train = train.dropna(subset=covs,how='any')\n",
    "test = test.dropna(subset=covs,how='any')\n",
    "\n",
    "# spatial cross validation\n",
    "spatial_cv_column = 'tile_id'\n",
    "cv = GroupKFold(n_splits=5)"
   ]
  },
  {
   "cell_type": "markdown",
   "id": "9ebfdb4f-a030-4202-ad4b-6de09c531c3a",
   "metadata": {},
   "source": [
    "### build the binary classifier to determine mineral or organic soil"
   ]
  },
  {
   "cell_type": "code",
   "execution_count": null,
   "id": "e74f41d0-1084-44ca-ba9a-801fcf667954",
   "metadata": {},
   "outputs": [],
   "source": [
    "import pandas as pd\n",
    "import numpy as np\n",
    "from sklearn.ensemble import RandomForestClassifier\n",
    "from sklearn.metrics import precision_score, recall_score, f1_score\n",
    "from sklearn.model_selection import HalvingGridSearchCV, cross_val_predict\n",
    "from sklearn.externals import joblib\n",
    "\n",
    "# Sample the training data\n",
    "sampled_train = train.groupby(spatial_cv_column, group_keys=False).apply(lambda x: x.sample(min(len(x), 5)))\n",
    "\n",
    "# Create binary target for classification of mineral and organic soil\n",
    "sampled_train['oc_class'] = (sampled_train[tgt] > 5.02).astype(int)\n",
    "\n",
    "# Define the parameter grid for RandomForestClassifier\n",
    "param_grid = {\n",
    "    'n_estimators': [200, 500, 800, 1000],\n",
    "    'max_depth': [10, 20, 30],\n",
    "    'max_features': [0.3, 0.5, 0.7, 'log2', 'sqrt'],\n",
    "    'min_samples_split': [2, 5, 10],\n",
    "    'min_samples_leaf': [1, 2, 4]\n",
    "}\n",
    "\n",
    "# Set up HalvingGridSearchCV for hyperparameter tuning\n",
    "tune_rf = HalvingGridSearchCV(\n",
    "    estimator=RandomForestClassifier(random_state=42, n_jobs=90),\n",
    "    param_grid=param_grid,\n",
    "    scoring='f1',  # Use F1 score as the scoring metric\n",
    "    n_jobs=90,\n",
    "    cv=5,\n",
    "    verbose=1\n",
    ")\n",
    "\n",
    "# Perform hyperparameter tuning\n",
    "print(f'Starting parameter fine tuning for RandomForestClassifier, training size: {len(sampled_train)}')\n",
    "tune_rf.fit(sampled_train[covs], sampled_train['oc_class'])\n",
    "\n",
    "print(\"Finish fine tuning\\nBest parameters found: \", tune_rf.best_params_)\n",
    "joblib.dump(tune_rf.best_params_, f'{folder}/SOC-EU/model/test_best.params_classifier.joblib')\n",
    "joblib.dump(tune_rf.best_estimator_, f'{folder}/SOC-EU/model/test_model_classifier.joblib')\n",
    "\n",
    "rfc = tune_rf.best_estimator_\n",
    "# Cross-validate and fit the classifier using the best parameters\n",
    "remaining_train = train.loc[~train.index.isin(sampled_indices)]\n",
    "y_pred = rfc.predict(remaining_train[covs])\n",
    "\n",
    "# Calculate metrics\n",
    "precision = precision_score(sampled_train['oc_class'], y_pred)\n",
    "recall = recall_score(sampled_train['oc_class'], y_pred)\n",
    "f1 = f1_score(sampled_train['oc_class'], y_pred)\n",
    "\n",
    "# Save the trained classifier\n",
    "joblib.dump(rfc, f'{folder}/SOC-EU/model/012_model_mineral.organic.classifier.joblib')\n",
    "\n",
    "# Print metrics\n",
    "print(f\"Precision: {precision:.2f}\")\n",
    "print(f\"Recall: {recall:.2f}\")\n",
    "print(f\"F1 Score: {f1:.2f}\")\n"
   ]
  },
  {
   "cell_type": "code",
   "execution_count": 2,
   "id": "2cc99cc9-e3c8-4584-ae0a-bbf08a96c0b3",
   "metadata": {},
   "outputs": [
    {
     "name": "stdout",
     "output_type": "stream",
     "text": [
      "Precision: 0.37\n",
      "Recall: 0.14\n",
      "F1 Score: 0.20\n"
     ]
    }
   ],
   "source": [
    "# organic soil: contain at least 30% SOM, which is around 150 g/kg SOC (factor=2), or 174 g/kg SOC (factor=1.725)\n",
    "# np.log1p(174) = 5.16, np.log1p(150) = 5.02\n",
    "# by observing the sorted_plot in the previous tests, I will use oc_log1p=5 as a split between mineral and organic soils here\n",
    "\n",
    "sampled_train = train.groupby(spatial_cv_column, group_keys=False).apply(lambda x: x.sample(min(len(x), 5))) # 44% data\n",
    "\n",
    "from sklearn.ensemble import RandomForestClassifier\n",
    "from sklearn.metrics import precision_score, recall_score, f1_score\n",
    "from sklearn.model_selection import cross_val_predict\n",
    "\n",
    "# Step 1: Create binary target for classification of mineral and organic soil\n",
    "sampled_train['oc_class'] = (sampled_train[tgt] > 5.02).astype(int)\n",
    "\n",
    "classifier = RandomForestClassifier(random_state=42,n_jobs=90)\n",
    "y_pred_cv = cross_val_predict(classifier, sampled_train[covs], sampled_train['oc_class'], cv=5)\n",
    "classifier.fit(sampled_train[covs], sampled_train['oc_class'])\n",
    "\n",
    "# Calculate metrics\n",
    "precision = precision_score(sampled_train['oc_class'], y_pred_cv)\n",
    "recall = recall_score(sampled_train['oc_class'], y_pred_cv)\n",
    "f1 = f1_score(sampled_train['oc_class'], y_pred_cv)\n",
    "\n",
    "joblib.dump(classifier, f'{folder}/SOC-EU/model/012_model_mineral.organic.classifier.joblib')\n",
    "\n",
    "print(f\"Precision: {precision:.2f}\")\n",
    "print(f\"Recall: {recall:.2f}\")\n",
    "print(f\"F1 Score: {f1:.2f}\")"
   ]
  },
  {
   "cell_type": "code",
   "execution_count": 3,
   "id": "b67940e9-0162-4c16-bd4c-a7af0f5f257f",
   "metadata": {},
   "outputs": [
    {
     "data": {
      "image/png": "[encoded data removed]",
      "text/plain": [
       "<Figure size 864x432 with 1 Axes>"
      ]
     },
     "metadata": {
      "needs_background": "light"
     },
     "output_type": "display_data"
    }
   ],
   "source": [
    "from tool_kit import sorted_plot\n",
    "sorted_plot(sampled_train[tgt], y_pred_cv, 'whether organic soil')"
   ]
  },
  {
   "cell_type": "code",
   "execution_count": null,
   "id": "da8bcc7f-59d1-4fe4-ac1c-2f6784dedd23",
   "metadata": {},
   "outputs": [],
   "source": [
    "# Step 2: Train separate regression models\n",
    "# Model for tgt <= 5.02\n",
    "reg_low = LinearRegression()\n",
    "reg_low.fit(X_train[train_preds_class == 0], y_train[train_preds_class == 0])\n",
    "\n",
    "# Model for tgt > 5.02\n",
    "reg_high = LinearRegression()\n",
    "reg_high.fit(X_train[train_preds_class == 1], y_train[train_preds_class == 1])\n",
    "\n",
    "# Step 3: Combine models for predictions\n",
    "# First, predict the class on the test set\n",
    "test_preds_class = classifier.predict(X_test)\n",
    "\n",
    "# Apply appropriate regression model based on predicted class\n",
    "final_predictions = np.where(test_preds_class == 0, reg_low.predict(X_test), reg_high.predict(X_test))\n",
    "\n",
    "# Evaluation\n",
    "print(\"Classifier Accuracy:\", accuracy_score(y_test_class, test_preds_class))\n",
    "print(\"Regression MSE:\", mean_squared_error(y_test, final_predictions))\n",
    "\n",
    "# This setup uses basic models. Consider tuning and using more complex models based on your data characteristics.\n"
   ]
  },
  {
   "cell_type": "code",
   "execution_count": 15,
   "id": "1db20b8c-599e-4264-9753-5880fbba3bac",
   "metadata": {},
   "outputs": [
    {
     "data": {
      "text/plain": [
       "5.017279836814924"
      ]
     },
     "execution_count": 15,
     "metadata": {},
     "output_type": "execute_result"
    }
   ],
   "source": [
    "np.log1p(150)"
   ]
  },
  {
   "cell_type": "code",
   "execution_count": 14,
   "id": "33f870f9-2de6-4ac1-8d0d-20d45b910a83",
   "metadata": {},
   "outputs": [
    {
     "data": {
      "text/plain": [
       "<Axes: >"
      ]
     },
     "execution_count": 14,
     "metadata": {},
     "output_type": "execute_result"
    },
    {
     "data": {
      "image/png": "[encoded data removed]",
      "text/plain": [
       "<Figure size 432x288 with 1 Axes>"
      ]
     },
     "metadata": {
      "needs_background": "light"
     },
     "output_type": "display_data"
    }
   ],
   "source": [
    "train['oc'].hist(bins=100)"
   ]
  },
  {
   "cell_type": "code",
   "execution_count": 16,
   "id": "83ff0ff9-927f-49c1-b204-2d524c964d7a",
   "metadata": {},
   "outputs": [
    {
     "data": {
      "text/plain": [
       "5.0496474644129465"
      ]
     },
     "execution_count": 16,
     "metadata": {},
     "output_type": "execute_result"
    }
   ],
   "source": [
    "np.expm1(1.8)"
   ]
  },
  {
   "cell_type": "code",
   "execution_count": null,
   "id": "3967f121-2ae5-4b23-bf4a-d2c1546bf8fe",
   "metadata": {},
   "outputs": [],
   "source": [
    "#In parallel with ensemble machine learning (EML), \n",
    "# Robert and I are also testing [hierarchical modelling](https://www.sciencedirect.com/science/article/pii/S0016706123002562) \n",
    "# to address the issue of underestimating high SOC values.\n"
   ]
  }
 ],
 "metadata": {
  "kernelspec": {
   "display_name": "Python 3 (ipykernel)",
   "language": "python",
   "name": "python3"
  },
  "language_info": {
   "codemirror_mode": {
    "name": "ipython",
    "version": 3
   },
   "file_extension": ".py",
   "mimetype": "text/x-python",
   "name": "python",
   "nbconvert_exporter": "python",
   "pygments_lexer": "ipython3",
   "version": "3.8.16"
  }
 },
 "nbformat": 4,
 "nbformat_minor": 5
}
