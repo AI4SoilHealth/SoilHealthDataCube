{
 "cells": [
  {
   "cell_type": "code",
   "execution_count": 4,
   "id": "ac3e5412-ccba-43b3-9616-943dc154d2f6",
   "metadata": {},
   "outputs": [],
   "source": [
    "import rasterio\n",
    "import geopandas as gpd\n",
    "from rasterstats import zonal_stats\n",
    "from eumap.misc import find_files, nan_percentile, GoogleSheet, ttprint"
   ]
  },
  {
   "cell_type": "markdown",
   "id": "67ba138c-f686-4c38-91ff-87fc3194e4d5",
   "metadata": {},
   "source": [
    "### select representative nuts region"
   ]
  },
  {
   "cell_type": "code",
   "execution_count": 2,
   "id": "8f00dc9b-48e4-4016-8e0c-34360c57d11e",
   "metadata": {},
   "outputs": [],
   "source": [
    "nuts = gpd.read_file('/home/opengeohub/xuemeng/work_xuemeng/soc/data/NUTS_RG_20M_2021_3035.shp')\n",
    "nuts = nuts.loc[nuts['CNTR_CODE']=='DE']\n",
    "nuts = nuts.loc[nuts['LEVL_CODE']==3]"
   ]
  },
  {
   "cell_type": "code",
   "execution_count": 6,
   "id": "eeb5369d-1eb3-4475-9137-a8df98d66390",
   "metadata": {},
   "outputs": [],
   "source": [
    "                \n",
    "years = [2000,2004,2008,2012,2016,2020,2022]\n",
    "positions = ['m','p025','p975']\n",
    "\n",
    "results = {}\n",
    "\n",
    "for po in positions:\n",
    "    for iy in range(1,len(years)):\n",
    "        \n",
    "        year = years[iy-1]\n",
    "        year_next = years[iy]\n",
    "        ttprint(f'----------------{po}, {year}--------------------')\n",
    "        \n",
    "        raster_file = f'http://192.168.1.30:8333/ai4sh-landmasked/oc/oc_iso.10694.1995.mg.cm3_{po}_30m_b0cm..20cm_{year}0101_{year_next}1231_eu_epsg.3035_v20240804.tif'\n",
    "\n",
    "        stats = zonal_stats(nuts, raster_file, stats=\"mean\", geojson_out=True)\n",
    "        \n",
    "        raster_name = f'ocd_{po}_{year}.{year_next}'\n",
    "        results[raster_name] = [feature['properties']['mean'] for feature in stats]\n",
    "\n",
    "\n",
    "# Add results back to the GeoDataFrame\n",
    "for raster_name, means in results.items():\n",
    "    nuts[raster_name + '_mean'] = means\n",
    "    \n",
    "nuts.to_csv('/home/opengeohub/xuemeng/work_xuemeng/soc/result_paper/spatial_aggregation/nuts3_de_mean.csv',index=False)"
   ]
  },
  {
   "cell_type": "code",
   "execution_count": 18,
   "id": "1ce2f604-d413-4be2-9c12-e63f72e9912d",
   "metadata": {},
   "outputs": [],
   "source": [
    "import pandas as pd\n",
    "from scipy.stats import theilslopes\n",
    "\n",
    "time = [2002, 2006, 2010, 2014, 2018, 2021]\n",
    "ml = ['ocd_m_2000.2004_mean',\n",
    " 'ocd_m_2004.2008_mean',\n",
    " 'ocd_m_2008.2012_mean',\n",
    " 'ocd_m_2012.2016_mean',\n",
    " 'ocd_m_2016.2020_mean',\n",
    " 'ocd_m_2020.2022_mean']\n",
    "\n",
    "def calculate_theilsen(row):\n",
    "    y = row[ml].values  # Extract values of the specified columns\n",
    "    slope, intercept, _, _ = theilslopes(y, time)  # Calculate Theil-Sen slope\n",
    "    return slope\n",
    "\n",
    "nuts['ocd_mean_theilsen_slope'] = nuts.apply(calculate_theilsen, axis=1)\n"
   ]
  },
  {
   "cell_type": "code",
   "execution_count": 30,
   "id": "be6280cf-ff8d-41b5-b2e1-4caf84313ec7",
   "metadata": {},
   "outputs": [
    {
     "data": {
      "text/plain": [
       "<Axes: >"
      ]
     },
     "execution_count": 30,
     "metadata": {},
     "output_type": "execute_result"
    },
    {
     "data": {
      "image/png": "[encoded data removed]",
      "text/plain": [
       "<Figure size 432x288 with 1 Axes>"
      ]
     },
     "metadata": {
      "needs_background": "light"
     },
     "output_type": "display_data"
    }
   ],
   "source": [
    "nuts['ocd_mean_theilsen_slope'].hist(bins=40)"
   ]
  },
  {
   "cell_type": "code",
   "execution_count": 74,
   "id": "6ff70ebf-39bb-4733-beb3-54f732b69565",
   "metadata": {},
   "outputs": [],
   "source": [
    "nuts_slope = nuts.loc[nuts['ocd_mean_theilsen_slope'].abs()>0.5]\n",
    "nuts_slope = nuts_slope.drop(columns = ['FID'])\n",
    "nuts_slope.to_file('/home/opengeohub/xuemeng/work_xuemeng/soc/result_paper/spatial_aggregation/nuts3.de_mean_slope.gpkg',driver='GPKG')\n",
    "\n",
    "\n",
    "nuts_example = nuts.loc[nuts['NUTS_NAME'].isin(['Unterallgäu','Memmingen, Kreisfreie Stadt'])]\n",
    "nuts_example = nuts_example.drop(columns = ['FID'])\n",
    "merged_nuts = gpd.GeoSeries([nuts_example.iloc[0].geometry, nuts_example.iloc[1].geometry]).unary_union\n",
    "# merged_nuts.to_file('/home/opengeohub/xuemeng/work_xuemeng/soc/result_paper/spatial_aggregation/nuts3_example_slope.gpkg',driver='GPKG')\n",
    "merged_nuts_gdf = gpd.GeoDataFrame(geometry=[merged_nuts])\n",
    "merged_nuts_gdf.crs = 'EPSG:3035'\n",
    "merged_nuts_gdf.to_file('/home/opengeohub/xuemeng/work_xuemeng/soc/result_paper/spatial_aggregation/nuts3_example_slope.gpkg', driver='GPKG')\n"
   ]
  },
  {
   "cell_type": "code",
   "execution_count": 67,
   "id": "4d915a3e-3892-4807-8d6c-7e7a8dd75342",
   "metadata": {},
   "outputs": [
    {
     "name": "stdout",
     "output_type": "stream",
     "text": [
      "[08:24:20] ----------------m, 2000--------------------\n",
      "[08:24:21] ----------------m, 2004--------------------\n",
      "[08:24:22] ----------------m, 2008--------------------\n",
      "[08:24:22] ----------------m, 2012--------------------\n",
      "[08:24:23] ----------------m, 2016--------------------\n",
      "[08:24:23] ----------------m, 2020--------------------\n",
      "[08:24:24] ----------------p025, 2000--------------------\n",
      "[08:24:24] ----------------p025, 2004--------------------\n",
      "[08:24:25] ----------------p025, 2008--------------------\n",
      "[08:24:25] ----------------p025, 2012--------------------\n",
      "[08:24:26] ----------------p025, 2016--------------------\n",
      "[08:24:26] ----------------p025, 2020--------------------\n",
      "[08:24:27] ----------------p975, 2000--------------------\n",
      "[08:24:27] ----------------p975, 2004--------------------\n",
      "[08:24:28] ----------------p975, 2008--------------------\n",
      "[08:24:29] ----------------p975, 2012--------------------\n",
      "[08:24:29] ----------------p975, 2016--------------------\n",
      "[08:24:30] ----------------p975, 2020--------------------\n"
     ]
    }
   ],
   "source": [
    "results = {}\n",
    "for po in positions:\n",
    "    for iy in range(1,len(years)):\n",
    "        \n",
    "        year = years[iy-1]\n",
    "        year_next = years[iy]\n",
    "        ttprint(f'----------------{po}, {year}--------------------')\n",
    "        \n",
    "        raster_file = f'http://192.168.1.30:8333/ai4sh-landmasked/oc/oc_iso.10694.1995.mg.cm3_{po}_30m_b0cm..20cm_{year}0101_{year_next}1231_eu_epsg.3035_v20240804.tif'\n",
    "\n",
    "        stats = zonal_stats(merged_nuts, raster_file, stats=\"mean\", geojson_out=True)\n",
    "        \n",
    "        raster_name = f'ocd_{po}_{year}.{year_next}'\n",
    "        results[raster_name] = [feature['properties']['mean'] for feature in stats]\n",
    "        \n",
    "nuts_eg = pd.DataFrame(columns=['year','time','ocd_m','ocd_p025','ocd_p975'])\n",
    "time = ['2000.2004','2004.2008','2008.2012','2012.2016','2016.2020','2020.2022']\n",
    "year = [2002, 2006, 2010, 2014, 2018, 2021]\n",
    "nuts_eg['time'] = time\n",
    "nuts_eg['year'] = year\n",
    "\n",
    "\n",
    "for keys in results:\n",
    "    if keys.split('_')[1] == 'm':\n",
    "        nuts_eg.loc[nuts_eg['time'] == keys.split('_')[2], 'ocd_m'] = results[keys][0]\n",
    "    elif keys.split('_')[1] == 'p025':\n",
    "        nuts_eg.loc[nuts_eg['time'] == keys.split('_')[2], 'ocd_p025'] = results[keys][0]\n",
    "    elif keys.split('_')[1] == 'p975':\n",
    "        nuts_eg.loc[nuts_eg['time'] == keys.split('_')[2], 'ocd_p975'] = results[keys][0]\n",
    "        \n",
    "nuts_eg.to_csv('/home/opengeohub/xuemeng/work_xuemeng/soc/result_paper/spatial_aggregation/nuts3_example_slope.csv',index=False)"
   ]
  },
  {
   "cell_type": "code",
   "execution_count": 80,
   "id": "9f8f1e55-ae94-4907-a7b5-53f01467c4bd",
   "metadata": {},
   "outputs": [
    {
     "data": {
      "image/png": "[encoded data removed]",
      "text/plain": [
       "<Figure size 432x288 with 1 Axes>"
      ]
     },
     "metadata": {
      "needs_background": "light"
     },
     "output_type": "display_data"
    }
   ],
   "source": [
    "import matplotlib.pyplot as plt\n",
    "\n",
    "# Now you can use plt to plot your data\n",
    "plt.plot(nuts_eg['year'], nuts_eg['ocd_m']/10)\n",
    "plt.xlabel('Year')\n",
    "plt.ylabel('OCD_M')\n",
    "plt.title('Plot of OCD_M over Years')\n",
    "plt.show()"
   ]
  },
  {
   "cell_type": "code",
   "execution_count": 83,
   "id": "1491831d-33aa-4fe8-9cb5-47e12ffe207d",
   "metadata": {},
   "outputs": [
    {
     "data": {
      "text/plain": [
       "'ocd_p975_2000.2004'"
      ]
     },
     "execution_count": 83,
     "metadata": {},
     "output_type": "execute_result"
    }
   ],
   "source": [
    "a = f'http://192.168.1.30:8333/ai4sh-landmasked/oc/oc_iso.10694.1995.mg.cm3_p975_30m_b0cm..20cm_20000101_20041231_eu_epsg.3035_v20240804.tif'\n"
   ]
  },
  {
   "cell_type": "code",
   "execution_count": 84,
   "id": "247b376a-b163-4e92-9ec9-260cf38e41d6",
   "metadata": {},
   "outputs": [
    {
     "data": {
      "text/html": [
       "<div>\n",
       "<style scoped>\n",
       "    .dataframe tbody tr th:only-of-type {\n",
       "        vertical-align: middle;\n",
       "    }\n",
       "\n",
       "    .dataframe tbody tr th {\n",
       "        vertical-align: top;\n",
       "    }\n",
       "\n",
       "    .dataframe thead th {\n",
       "        text-align: right;\n",
       "    }\n",
       "</style>\n",
       "<table border=\"1\" class=\"dataframe\">\n",
       "  <thead>\n",
       "    <tr style=\"text-align: right;\">\n",
       "      <th></th>\n",
       "      <th>year</th>\n",
       "      <th>time</th>\n",
       "      <th>ocd_m</th>\n",
       "      <th>ocd_p025</th>\n",
       "      <th>ocd_p975</th>\n",
       "    </tr>\n",
       "  </thead>\n",
       "  <tbody>\n",
       "    <tr>\n",
       "      <th>0</th>\n",
       "      <td>2002</td>\n",
       "      <td>2000.2004</td>\n",
       "      <td>351.70661</td>\n",
       "      <td>205.405989</td>\n",
       "      <td>614.230616</td>\n",
       "    </tr>\n",
       "    <tr>\n",
       "      <th>1</th>\n",
       "      <td>2006</td>\n",
       "      <td>2004.2008</td>\n",
       "      <td>341.230623</td>\n",
       "      <td>197.032094</td>\n",
       "      <td>598.03357</td>\n",
       "    </tr>\n",
       "    <tr>\n",
       "      <th>2</th>\n",
       "      <td>2010</td>\n",
       "      <td>2008.2012</td>\n",
       "      <td>344.185494</td>\n",
       "      <td>209.137884</td>\n",
       "      <td>590.07742</td>\n",
       "    </tr>\n",
       "    <tr>\n",
       "      <th>3</th>\n",
       "      <td>2014</td>\n",
       "      <td>2012.2016</td>\n",
       "      <td>341.512451</td>\n",
       "      <td>209.992657</td>\n",
       "      <td>582.216718</td>\n",
       "    </tr>\n",
       "    <tr>\n",
       "      <th>4</th>\n",
       "      <td>2018</td>\n",
       "      <td>2016.2020</td>\n",
       "      <td>335.461051</td>\n",
       "      <td>204.44527</td>\n",
       "      <td>577.221545</td>\n",
       "    </tr>\n",
       "    <tr>\n",
       "      <th>5</th>\n",
       "      <td>2021</td>\n",
       "      <td>2020.2022</td>\n",
       "      <td>332.61574</td>\n",
       "      <td>200.769243</td>\n",
       "      <td>578.739499</td>\n",
       "    </tr>\n",
       "  </tbody>\n",
       "</table>\n",
       "</div>"
      ],
      "text/plain": [
       "   year       time       ocd_m    ocd_p025    ocd_p975\n",
       "0  2002  2000.2004   351.70661  205.405989  614.230616\n",
       "1  2006  2004.2008  341.230623  197.032094   598.03357\n",
       "2  2010  2008.2012  344.185494  209.137884   590.07742\n",
       "3  2014  2012.2016  341.512451  209.992657  582.216718\n",
       "4  2018  2016.2020  335.461051   204.44527  577.221545\n",
       "5  2021  2020.2022   332.61574  200.769243  578.739499"
      ]
     },
     "execution_count": 84,
     "metadata": {},
     "output_type": "execute_result"
    }
   ],
   "source": [
    "nuts_eg"
   ]
  },
  {
   "cell_type": "code",
   "execution_count": null,
   "id": "4cd0379f-2133-4392-ac47-6b32875f16e8",
   "metadata": {},
   "outputs": [],
   "source": []
  }
 ],
 "metadata": {
  "kernelspec": {
   "display_name": "Python 3 (ipykernel)",
   "language": "python",
   "name": "python3"
  },
  "language_info": {
   "codemirror_mode": {
    "name": "ipython",
    "version": 3
   },
   "file_extension": ".py",
   "mimetype": "text/x-python",
   "name": "python",
   "nbconvert_exporter": "python",
   "pygments_lexer": "ipython3",
   "version": "3.8.13"
  }
 },
 "nbformat": 4,
 "nbformat_minor": 5
}
