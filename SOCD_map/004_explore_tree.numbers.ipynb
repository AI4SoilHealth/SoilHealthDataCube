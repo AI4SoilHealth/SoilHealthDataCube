{
 "cells": [
  {
   "cell_type": "code",
   "execution_count": 1,
   "id": "ced77420-1c65-40d5-a656-0f23a37f114d",
   "metadata": {},
   "outputs": [],
   "source": [
    "import numpy as np\n",
    "import matplotlib\n",
    "import matplotlib.pyplot as plt\n",
    "import pandas as pd\n",
    "from eumap.misc import find_files, ttprint, nan_percentile, GoogleSheet\n",
    "from eumap.raster import read_rasters, save_rasters\n",
    "import warnings\n",
    "import multiprocess as mp\n",
    "import time\n",
    "from scipy.special import expit, logit\n",
    "import warnings\n",
    "from sklearn.experimental import enable_halving_search_cv\n",
    "from sklearn.model_selection import train_test_split, cross_val_score, HalvingGridSearchCV, KFold, GroupKFold, cross_val_predict\n",
    "from sklearn.metrics import mean_squared_error, r2_score, mean_absolute_error, mean_absolute_percentage_error\n",
    "from sklearn.ensemble import RandomForestRegressor\n",
    "from sklearn.pipeline import Pipeline\n",
    "from sklearn.neural_network import MLPRegressor\n",
    "import joblib\n",
    "import pickle\n",
    "from sklearn.metrics import r2_score, mean_squared_error, make_scorer#, root_mean_squared_error\n",
    "from scipy.stats import pearsonr\n",
    "from sklearn.preprocessing import StandardScaler\n",
    "# from cubist import Cubist\n",
    "from sklearn.base import BaseEstimator, TransformerMixin\n",
    "from pathlib import Path\n",
    "from benchmark_pipeline import read_features, run_cumusort, parameter_fine_tuning, evaluate_model, calc_ccc, separate_data\n",
    "### input\n",
    "folder = 'http://192.168.1.30:8333/ai4sh-landmasked/model_benchmark'\n",
    "from log_back_transform_rf import TreesRandomForestRegressor\n",
    "\n",
    "prop_list = ['ocd','oc','bulk_density', 'ph_cacl2','ph_h2o','N','caco3','K','EC','P','CEC','texture1','texture2'] # unitl N everything has lightGBM models\n",
    "space_list = ['log1p','log1p','normal', 'normal','normal','log1p','log1p','log1p','log1p','log1p','log1p','log1p','log1p'] # \n",
    "filt_list = [5,5,5,5,5,5,5,5,5,5,5,5,5,5,5,5] #5,5,5,5,"
   ]
  },
  {
   "cell_type": "code",
   "execution_count": 3,
   "id": "32844665-4bf0-43e1-ba7f-c4a9d2f87ec4",
   "metadata": {},
   "outputs": [
    {
     "name": "stdout",
     "output_type": "stream",
     "text": [
      "[50 65 40  4 57]\n"
     ]
    }
   ],
   "source": [
    "rng = np.random.default_rng(seed=43)\n",
    "a = rng.integers(0,100, size=5)\n",
    "print(a)"
   ]
  },
  {
   "cell_type": "code",
   "execution_count": 4,
   "id": "0de72992-a4fa-42c2-8a79-86d1c1da322d",
   "metadata": {},
   "outputs": [
    {
     "name": "stdout",
     "output_type": "stream",
     "text": [
      "[16:04:13] cross val predict ocd, in log1p space, random state 50\n",
      "[16:05:49] cross val predict ocd, in log1p space, random state 65\n",
      "[16:07:16] cross val predict ocd, in log1p space, random state 40\n",
      "[16:08:43] cross val predict ocd, in log1p space, random state 4\n",
      "[16:10:09] cross val predict ocd, in log1p space, random state 57\n"
     ]
    }
   ],
   "source": [
    "import shutil\n",
    "from sklearn.metrics import mean_absolute_error, mean_absolute_percentage_error\n",
    "\n",
    "n_jobs=90\n",
    "cv = GroupKFold(n_splits=5) \n",
    "rsl = []\n",
    "prop = 'ocd'\n",
    "space = 'log1p'\n",
    "output_folder = f'/home/opengeohub/xuemeng/work_xuemeng/soc/results_new/{prop}'\n",
    "tgt = f'{prop}_log1p'\n",
    "\n",
    "# covariates\n",
    "pathc = f'/home/opengeohub/xuemeng/work_xuemeng/soc/results_new/{prop}/benchmark_selected.covs_{prop}.txt'\n",
    "covs = read_features(pathc) \n",
    "\n",
    "# data\n",
    "cal = pd.read_csv(f'{output_folder}/benchmark_cal.pnts_{prop}.csv',low_memory=False)\n",
    "cal = cal.dropna(subset=covs+[tgt],how='any')\n",
    "\n",
    "for ii in a:#range(len(prop_list)):\n",
    "    ttprint(f'cross val predict {prop}, in {space} space, random state {ii}')\n",
    "    for n_trees in np.arange(16,240,8):\n",
    "        model = RandomForestRegressor(random_state=ii, n_jobs=80, n_estimators=n_trees)\n",
    "        \n",
    "        \n",
    "        y_cv = cross_val_predict(model, cal[covs], cal[tgt], cv=cv, groups=cal['tile_id'], n_jobs=60)\n",
    "        \n",
    "        if space == 'log1p':\n",
    "            # performance metrics\n",
    "            rsl.append({\n",
    "                'property': prop,\n",
    "                'random state': ii,\n",
    "                'tree number':n_trees,\n",
    "                'MAE_cv_ori': mean_absolute_error(cal[prop],np.expm1(y_cv)),\n",
    "                'MAPE_cv_ori': mean_absolute_percentage_error(cal[prop],np.expm1(y_cv)),\n",
    "                'bias_cv_ori': np.mean(np.expm1(y_cv) - cal[prop]),\n",
    "                'CCC_cv_ori': calc_ccc(cal[prop],np.expm1(y_cv)),\n",
    "                'R2_cv_ori': r2_score(cal[prop],np.expm1(y_cv)),\n",
    "                'MAE_cv_log': mean_absolute_error(cal[tgt],y_cv),\n",
    "                'MAPE_cv_log': mean_absolute_percentage_error(cal[tgt],y_cv),\n",
    "                'CCC_cv_log': calc_ccc(cal[tgt],y_cv),\n",
    "                'R2_cv_log': r2_score(cal[tgt],y_cv),\n",
    "                'bias_cv_log': np.mean(y_cv-cal[tgt]),\n",
    "            })\n",
    "            \n",
    "        else:\n",
    "            rsl.append({\n",
    "                'property': prop,\n",
    "                'random state': ii,\n",
    "                'tree number':n_trees,\n",
    "                'MAE_cv_ori': mean_absolute_error(cal[prop],y_cv),\n",
    "                'MAPE_cv_ori': mean_absolute_percentage_error(cal[prop],y_cv),\n",
    "                'CCC_cv_ori': calc_ccc(cal[prop],y_cv),\n",
    "                'R2_cv_ori': r2_score(cal[prop],y_cv),\n",
    "                'bias_cv_ori': np.mean(y_cv-cal[prop]),\n",
    "                'MAE_cv_log': mean_absolute_error(np.log1p(cal[tgt]),np.log1p(y_cv)),\n",
    "                'MAPE_cv_log': mean_absolute_percentage_error(np.log1p(cal[tgt]),np.log1p(y_cv)),\n",
    "                'CCC_cv_log': calc_ccc(np.log1p(cal[tgt]),np.log1p(y_cv)),\n",
    "                'R2_cv_log': r2_score(np.log1p(cal[tgt]),np.log1p(y_cv)),\n",
    "                'bias_cv_log': np.mean(np.log1p(y_cv) - np.log1p(cal[tgt])),\n",
    "            })\n",
    "        \n",
    "rsl = pd.DataFrame(rsl) \n",
    "rsl.to_csv('/home/opengeohub/xuemeng/work_xuemeng/soc/result_paper/metrics_tree.number.csv',index=False)"
   ]
  },
  {
   "cell_type": "code",
   "execution_count": 6,
   "id": "f55fcf40-3406-4889-a1af-7345ad7e0c02",
   "metadata": {},
   "outputs": [],
   "source": [
    "rsl = rsl.drop(columns='property')\n",
    "ave = rsl.groupby('tree number').mean().reset_index()"
   ]
  },
  {
   "cell_type": "code",
   "execution_count": 7,
   "id": "782f06e6-62b2-4bd9-9c9c-b8aa6416dbb1",
   "metadata": {},
   "outputs": [
    {
     "data": {
      "image/png": "[encoded data removed]",
      "text/plain": [
       "<Figure size 720x432 with 2 Axes>"
      ]
     },
     "metadata": {
      "needs_background": "light"
     },
     "output_type": "display_data"
    }
   ],
   "source": [
    "import pandas as pd\n",
    "import numpy as np\n",
    "import matplotlib.pyplot as plt\n",
    "\n",
    "warnings.filterwarnings('ignore')\n",
    "\n",
    "# rsl = pd.read_csv('/home/opengeohub/xuemeng/work_xuemeng/soc/result_paper/metrics_tree.number.csv',low_memory=False)\n",
    "\n",
    "# prop = 'ocd'\n",
    "# temp = rsl.loc[rsl['property']==prop]\n",
    "temp = ave\n",
    "temp['rank_MAE_cv_ori'] = temp['MAE_cv_ori'].rank(ascending=True) # Rank MAE and MAPE (smaller is better)\n",
    "# temp['rank_MAPE_cv_ori'] = temp['MAPE_cv_ori'].rank(ascending=True) \n",
    "temp['rank_CCC_cv_log'] = temp['CCC_cv_log'].rank(ascending=False) # Rank CCC and R2 (higher is better)\n",
    "temp['rank_R2_cv_log'] = temp['R2_cv_log'].rank(ascending=False)\n",
    "temp['combined_rank'] = temp[['rank_MAE_cv_ori', 'rank_R2_cv_log', 'rank_CCC_cv_log']].mean(axis=1) # Combine rankings\n",
    "\n",
    "# Select the best tree number based on the combined rank\n",
    "best_tree_index = temp['combined_rank'].idxmin()\n",
    "best_tree_number = temp.loc[best_tree_index, 'tree number']\n",
    "\n",
    "fig, ax1 = plt.subplots(figsize=(10, 6))  # Increase the figure size\n",
    "ax1.plot(temp['tree number'], temp['MAE_cv_ori'], 'b-', label='MAE')\n",
    "ax1.set_xlabel('Tree Number', fontsize=14)\n",
    "ax1.set_ylabel('MAE', color='b', fontsize=14)\n",
    "ax1.tick_params('y', colors='b', labelsize=14)\n",
    "\n",
    "ax2 = ax1.twinx()\n",
    "ax2.plot(temp['tree number'], temp['R2_cv_log'], 'r-', label='R2')\n",
    "ax2.plot(temp['tree number'], temp['CCC_cv_log'], 'g-', label='CCC')\n",
    "ax2.set_ylabel('R2 / CCC', color='black', fontsize=14)\n",
    "ax2.tick_params('y', colors='black', labelsize=14)\n",
    "\n",
    "plt.axvline(x=64, color='orange', linestyle='--', label='Tree Number = 64')\n",
    "lines, labels = ax1.get_legend_handles_labels()\n",
    "lines2, labels2 = ax2.get_legend_handles_labels()\n",
    "ax2.legend(lines + lines2, labels + labels2, loc='center right' , fontsize=14)\n",
    "\n",
    "plt.title(f'Soil Organic Carbon Density', fontsize=16) #\\nbest tree number: {best_tree_number}\n",
    "\n",
    "# # Save the figure with high resolution\n",
    "plt.savefig(f'/home/opengeohub/xuemeng/work_xuemeng/soc/result_paper/plot_tree.numbers_{prop}.pdf', dpi=300)\n",
    "plt.show()"
   ]
  },
  {
   "cell_type": "code",
   "execution_count": 8,
   "id": "9e212e62-d5d1-4704-82a8-3373747738af",
   "metadata": {},
   "outputs": [
    {
     "data": {
      "text/plain": [
       "24"
      ]
     },
     "execution_count": 8,
     "metadata": {},
     "output_type": "execute_result"
    }
   ],
   "source": [
    "from scipy.signal import find_peaks\n",
    "tree_numbers = ave['tree number']\n",
    "mae_values = ave['MAE_cv_ori']\n",
    "\n",
    "second_derivative = np.diff(mae_values, n=2)\n",
    "peaks, _ = find_peaks(-second_derivative)  # We use negative to find minima\n",
    "elbow_point_index = peaks[0] if len(peaks) > 0 else None\n",
    "elbow_tree_number = tree_numbers.iloc[elbow_point_index] if elbow_point_index is not None else None\n",
    "elbow_tree_number"
   ]
  },
  {
   "cell_type": "code",
   "execution_count": null,
   "id": "3140ed18-6252-4e5b-afd6-a0c9d563e12a",
   "metadata": {},
   "outputs": [],
   "source": []
  }
 ],
 "metadata": {
  "kernelspec": {
   "display_name": "Python 3 (ipykernel)",
   "language": "python",
   "name": "python3"
  },
  "language_info": {
   "codemirror_mode": {
    "name": "ipython",
    "version": 3
   },
   "file_extension": ".py",
   "mimetype": "text/x-python",
   "name": "python",
   "nbconvert_exporter": "python",
   "pygments_lexer": "ipython3",
   "version": "3.8.13"
  }
 },
 "nbformat": 4,
 "nbformat_minor": 5
}
