{
 "cells": [
  {
   "cell_type": "code",
   "execution_count": 3,
   "id": "6fb33a84-900c-4e5a-b348-f213f45b2ff0",
   "metadata": {
    "tags": []
   },
   "outputs": [],
   "source": [
    "import numpy as np\n",
    "import matplotlib.pyplot as plt\n",
    "import multiprocess as mp\n",
    "import glob\n",
    "import time\n",
    "from tqdm import tqdm\n",
    "import os\n",
    "import sys\n",
    "import pandas as pd\n",
    "from eumap.misc import find_files, ttprint\n",
    "from eumap.raster import read_rasters, save_rasters\n",
    "from eumap.mapper import SpaceOverlay\n",
    "import geopandas as gpd\n",
    "from pathlib import Path\n",
    "import rasterio\n",
    "import pyproj\n",
    "from shapely.geometry import Point\n",
    "from eumap.mapper import LandMapper\n",
    "from scipy.special import expit, logit\n",
    "\n",
    "import warnings\n",
    "\n",
    "import matplotlib\n",
    "import matplotlib.pyplot as plt\n",
    "\n",
    "from sklearn.experimental import enable_halving_search_cv\n",
    "from sklearn.model_selection import train_test_split, cross_val_score, HalvingGridSearchCV, KFold, GroupKFold, cross_val_predict\n",
    "from sklearn.metrics import mean_squared_error, r2_score, mean_absolute_error, mean_absolute_percentage_error, median_absolute_error, make_scorer\n",
    "from sklearn.ensemble import RandomForestRegressor\n",
    "from sklearn.linear_model import Ridge, LinearRegression\n",
    "from sklearn.pipeline import Pipeline\n",
    "from sklearn.neural_network import MLPRegressor\n",
    "from sklearn.ensemble import StackingRegressor\n",
    "\n",
    "import joblib\n",
    "import pickle\n",
    "\n",
    "from benchmark_pipeline import read_features, run_cumusort, parameter_fine_tuning, evaluate_model, calc_ccc, separate_data\n",
    "# covs_all = read_features(f'/home/opengeohub/xuemeng/work_xuemeng/soc/SOC-EU/features/001_covar_all.txt')\n",
    "ccc_scorer = make_scorer(calc_ccc, greater_is_better=True)\n",
    "\n",
    "# df = pd.read_csv('/home/opengeohub/xuemeng/work_xuemeng/soc/data/002.2_data_whole.csv')\n",
    "\n",
    "prop_list = ['ocd','oc','bulk_density'] \n",
    "space_list = ['log1p','log1p','normal'] # \n",
    "filt_list = [5,5,5] "
   ]
  },
  {
   "cell_type": "markdown",
   "id": "92f0ed91-4d45-472b-b378-5f46b4fec8ab",
   "metadata": {},
   "source": [
    "### Producing metrics for different covs"
   ]
  },
  {
   "cell_type": "code",
   "execution_count": 10,
   "id": "d7708223-60e2-4747-b808-1c8754ebc5b7",
   "metadata": {},
   "outputs": [
    {
     "name": "stdout",
     "output_type": "stream",
     "text": [
      "processing ocd\n",
      "[08:33:50] cross val predict ocd, in log1p space\n",
      "[08:33:53] cross val predict ocd, in log1p space\n"
     ]
    }
   ],
   "source": [
    "results = []\n",
    "for ii in [0]:#range(len(prop_list)):\n",
    "    print(f'processing {prop_list[ii]}')\n",
    "    prop = prop_list[ii]\n",
    "    space = space_list[ii]\n",
    "    output_folder = f'/home/opengeohub/xuemeng/work_xuemeng/soc/results_new/{prop}'\n",
    "    \n",
    "    if space=='log1p':\n",
    "        # df.loc[:,f'{prop}_log1p'] = np.log1p(df[prop])\n",
    "        tgt = f'{prop}_log1p'\n",
    "    else:\n",
    "        tgt = prop\n",
    "    \n",
    "    # features\n",
    "    covs_dyn = read_features(f'/home/opengeohub/xuemeng/work_xuemeng/soc/results_new/{prop}/benchmark_selected.covs_{prop}.txt')\n",
    "    covs_rfecv = read_features(f'/home/opengeohub/xuemeng/work_xuemeng/soc/results_new/{prop}/benchmark_selected.covs.rfecv_{prop}.txt')\n",
    "    covs_both = [covs_dyn, covs_rfecv]\n",
    "    \n",
    "    # # separate al, train and test data\n",
    "    cal = pd.read_csv(f'{output_folder}/benchmark_cal.pnts_{prop}.csv',low_memory=False)\n",
    "    cal = cal.dropna(subset=[tgt]+covs_dyn+covs_rfecv)\n",
    "    \n",
    "    # models, only test rf\n",
    "    rf = RandomForestRegressor(random_state=60, n_jobs=-1) # default\n",
    "\n",
    "    # evaluate\n",
    "    cv = GroupKFold(n_splits=5)\n",
    "    covs_name = ['dynamic','rfecv']\n",
    "    for icov in [0,1]:\n",
    "        covs = covs_both[icov]\n",
    "        name_cov = covs_name[icov]\n",
    "        \n",
    "        ttprint(f'cross val predict {prop}, in {space} space')\n",
    "        y_cv = cross_val_predict(rf, cal[covs], cal[tgt], cv=cv, groups=cal['tile_id'], n_jobs=90)\n",
    "\n",
    "        # ttprint(f'validation on test data for {prop}, in {space} space')\n",
    "        # rf.fit(train[covs], train[tgt])\n",
    "        # y_val = rf.predict(test[covs])\n",
    "        \n",
    "        # MAE is reported in original scale, while R2 and CCC are reported in log1p scale\n",
    "        results.append({\n",
    "            'property': prop,\n",
    "            'covs':name_cov,\n",
    "            'MAE_cv': mean_absolute_error(cal[prop],np.expm1(y_cv)),\n",
    "            'MedAE_cv': median_absolute_error(cal[prop],np.expm1(y_cv)),\n",
    "            # 'MAE_val': mean_absolute_error(test[prop],np.expm1(y_val)),\n",
    "            'MAPE_cv': mean_absolute_percentage_error(cal[prop],np.expm1(y_cv)),\n",
    "            # 'MAPE_val': mean_absolute_percentage_error(test[prop],np.expm1(y_val)),\n",
    "            'R2_cv': r2_score(cal[prop],np.expm1(y_cv)),\n",
    "            'R2_log': r2_score(cal[tgt],y_cv),\n",
    "            'CCC_cv': calc_ccc(cal[prop],np.expm1(y_cv)),\n",
    "            'CCC_log': calc_ccc(cal[tgt],y_cv),\n",
    "            'feat_num': len(covs)\n",
    "        })"
   ]
  },
  {
   "cell_type": "code",
   "execution_count": 11,
   "id": "a446fed7-a973-4d01-9020-2e0962739078",
   "metadata": {},
   "outputs": [
    {
     "data": {
      "text/html": [
       "<div>\n",
       "<style scoped>\n",
       "    .dataframe tbody tr th:only-of-type {\n",
       "        vertical-align: middle;\n",
       "    }\n",
       "\n",
       "    .dataframe tbody tr th {\n",
       "        vertical-align: top;\n",
       "    }\n",
       "\n",
       "    .dataframe thead th {\n",
       "        text-align: right;\n",
       "    }\n",
       "</style>\n",
       "<table border=\"1\" class=\"dataframe\">\n",
       "  <thead>\n",
       "    <tr style=\"text-align: right;\">\n",
       "      <th></th>\n",
       "      <th>property</th>\n",
       "      <th>covs</th>\n",
       "      <th>MAE_cv</th>\n",
       "      <th>MedAE_cv</th>\n",
       "      <th>MAPE_cv</th>\n",
       "      <th>R2_cv</th>\n",
       "      <th>R2_log</th>\n",
       "      <th>CCC_cv</th>\n",
       "      <th>CCC_log</th>\n",
       "      <th>feat_num</th>\n",
       "      <th>time (min)</th>\n",
       "    </tr>\n",
       "  </thead>\n",
       "  <tbody>\n",
       "    <tr>\n",
       "      <th>0</th>\n",
       "      <td>ocd</td>\n",
       "      <td>dynamic</td>\n",
       "      <td>8.618275</td>\n",
       "      <td>4.422062</td>\n",
       "      <td>0.547234</td>\n",
       "      <td>0.469658</td>\n",
       "      <td>0.707895</td>\n",
       "      <td>0.629172</td>\n",
       "      <td>0.825508</td>\n",
       "      <td>55</td>\n",
       "      <td>1.96</td>\n",
       "    </tr>\n",
       "    <tr>\n",
       "      <th>1</th>\n",
       "      <td>ocd</td>\n",
       "      <td>rfecv</td>\n",
       "      <td>8.612851</td>\n",
       "      <td>4.365939</td>\n",
       "      <td>0.552853</td>\n",
       "      <td>0.469047</td>\n",
       "      <td>0.704439</td>\n",
       "      <td>0.626245</td>\n",
       "      <td>0.822387</td>\n",
       "      <td>69</td>\n",
       "      <td>13.70</td>\n",
       "    </tr>\n",
       "  </tbody>\n",
       "</table>\n",
       "</div>"
      ],
      "text/plain": [
       "  property     covs    MAE_cv  MedAE_cv   MAPE_cv     R2_cv    R2_log  \\\n",
       "0      ocd  dynamic  8.618275  4.422062  0.547234  0.469658  0.707895   \n",
       "1      ocd    rfecv  8.612851  4.365939  0.552853  0.469047  0.704439   \n",
       "\n",
       "     CCC_cv   CCC_log  feat_num  time (min)  \n",
       "0  0.629172  0.825508        55        1.96  \n",
       "1  0.626245  0.822387        69       13.70  "
      ]
     },
     "execution_count": 11,
     "metadata": {},
     "output_type": "execute_result"
    }
   ],
   "source": [
    "results = pd.DataFrame(results)\n",
    "results['time (min)'] = [1.96, 13.70]\n",
    "results"
   ]
  },
  {
   "cell_type": "code",
   "execution_count": 52,
   "id": "afc5419e-4a3e-442f-bfbb-d09a9d98225f",
   "metadata": {},
   "outputs": [
    {
     "data": {
      "text/plain": [
       "['bioclim.var_chelsa.bio5_m_1km_s_19810101_20101231_eu_epsg.3035_v20230822.tif',\n",
       " 'bioclim.var_chelsa.bio18_m_1km_s_19810101_20101231_eu_epsg.3035_v20230822.tif',\n",
       " 'geomorphon.bareearth_ensemble_m_240m_s_20000101_20221231_eu_epsg.3035_v20240501.tif',\n",
       " 'bioclim.var_chelsa.bio8_m_1km_s_19810101_20101231_eu_epsg.3035_v20230822.tif',\n",
       " 'sfcWind.max_chelsa_m_1km_s_19810101_20101231_eu_epsg.3035_v20240531.tif',\n",
       " 'clt.range_chelsa_m_1km_s_19810101_20101231_eu_epsg.3035_v20240531.tif',\n",
       " 'lst_mod11a2.nighttime_p95_1km_s_{year}0701_{year}0731_eu_epsg.3035_v20240531.tif',\n",
       " 'lst_mod11a2.nighttime_p50_1km_s_{year}0801_{year}0831_eu_epsg.3035_v20240531.tif']"
      ]
     },
     "execution_count": 52,
     "metadata": {},
     "output_type": "execute_result"
    }
   ],
   "source": [
    "a = []\n",
    "for i in covs_dyn:\n",
    "    if i not in covs_rfecv:\n",
    "        a.append(i)\n",
    "        \n",
    "a"
   ]
  },
  {
   "cell_type": "code",
   "execution_count": 51,
   "id": "5f8056ef-aaef-423e-b2cc-0d3b3a9d2042",
   "metadata": {},
   "outputs": [
    {
     "data": {
      "text/plain": [
       "['wv_mcd19a2v061.seasconv_m_1km_s_{year}0201_{year}0228_eu_epsg.3035_v20230619.tif',\n",
       " 'nir_glad.landsat.ard2.seasconv.m.yearly_p25_30m_s_{year}0101_{year}1231_eu_epsg.3035_v20231127',\n",
       " 'accum.precipitation_chelsa.montlhy_m_1km_s_{year}0201_{year}0228_eu_epsg.3035_v20240531.tif',\n",
       " 'accum.precipitation_chelsa.montlhy_m_1km_s_{year}0901_{year}0930_eu_epsg.3035_v20240531.tif',\n",
       " 'accum.precipitation_chelsa.annual_m_1km_s_{year}0101_{year}1231_eu_epsg.3035_v20240531.tif',\n",
       " 'lst_mod11a2.nighttime_p95_1km_s_{year}0501_{year}0531_eu_epsg.3035_v20240531.tif',\n",
       " 'lst_mod11a2.nighttime_p95_1km_s_{year}1001_{year}1031_eu_epsg.3035_v20240531.tif',\n",
       " 'lst_mod11a2.daytime_sd_1km_s_{year}0101_{year}0131_eu_epsg.3035_v20240531.tif',\n",
       " 'lst_mod11a2.daytime_p95_1km_s_{year}0101_{year}0131_eu_epsg.3035_v20240531.tif',\n",
       " 'lst_mod11a2.daytime_p95_1km_s_{year}0501_{year}0531_eu_epsg.3035_v20240531.tif',\n",
       " 'lst_mod11a2.daytime_sd_1km_s_{year}0201_{year}0228_eu_epsg.3035_v20240531.tif',\n",
       " 'lst_mod11a2.daytime_p95_1km_s_{year}1001_{year}1031_eu_epsg.3035_v20240531.tif',\n",
       " 'lst_mod11a2.daytime_p05_1km_s_{year}1001_{year}1031_eu_epsg.3035_v20240531.tif',\n",
       " 'ndvi_glad.landsat.ard2.seasconv.yearly.m.theilslopes_m_30m_s_20000101_20221231_eu_epsg.3035_v20231218',\n",
       " 'slope.bareearth_ensemble_m_30m_s_20000101_20221231_eu_epsg.3035_v20240501',\n",
       " 'slope.bareearth_ensemble_m_960m_s_20000101_20221231_eu_epsg.3035_v20240501.tif',\n",
       " 'slope.bareearth_ensemble_m_240m_s_20000101_20221231_eu_epsg.3035_v20240501.tif',\n",
       " 'slope.bareearth_ensemble_m_120m_s_20000101_20221231_eu_epsg.3035_v20240501.tif',\n",
       " 'easterness.bareearth_ensemble_m_30m_s_20000101_20221231_eu_epsg.3035_v20240424',\n",
       " 'bioclim.var_chelsa.bio4_m_1km_s_19810101_20101231_eu_epsg.3035_v20230822.tif',\n",
       " 'twi.bareearth_ensemble_m_960m_s_20000101_20221231_eu_epsg.3035_v20240501.tif',\n",
       " 'bioclim.var_chelsa.bio17_m_1km_s_19810101_20101231_eu_epsg.3035_v20230822.tif',\n",
       " 'cmi.range_chelsa_m_1km_s_19810101_20101231_eu_epsg.3035_v20240531.tif',\n",
       " 'rsds.max_chelsa_m_1km_s_19810101_20101231_eu_epsg.3035_v20240531.tif']"
      ]
     },
     "execution_count": 51,
     "metadata": {},
     "output_type": "execute_result"
    }
   ],
   "source": [
    "a = []\n",
    "for i in covs_rfecv:\n",
    "    if i not in covs_dyn:\n",
    "        a.append(i)\n",
    "        \n",
    "a"
   ]
  },
  {
   "cell_type": "code",
   "execution_count": 12,
   "id": "a020a078-8539-4c18-8dec-95a251d3808b",
   "metadata": {},
   "outputs": [],
   "source": [
    "results.to_csv('/home/opengeohub/xuemeng/work_xuemeng/soc/result_paper/metrics_feature.selection_methods.compare.csv',index=False)"
   ]
  },
  {
   "cell_type": "markdown",
   "id": "bee18337-c70c-46b8-b073-890584e8edd4",
   "metadata": {},
   "source": [
    "### Feature selection with RFECV"
   ]
  },
  {
   "cell_type": "code",
   "execution_count": 2,
   "id": "e9811a15-c464-4824-9181-93179e074e56",
   "metadata": {},
   "outputs": [
    {
     "name": "stdout",
     "output_type": "stream",
     "text": [
      "processing ocd\n"
     ]
    },
    {
     "data": {
      "image/png": "[encoded data removed]",
      "text/plain": [
       "<Figure size 576x360 with 1 Axes>"
      ]
     },
     "metadata": {
      "needs_background": "light"
     },
     "output_type": "display_data"
    },
    {
     "name": "stdout",
     "output_type": "stream",
     "text": [
      "rfecv used 13.704781365394592 mins\n"
     ]
    }
   ],
   "source": [
    "# a function to determine optimal number of features\n",
    "from sklearn.model_selection import GroupKFold, KFold\n",
    "from sklearn.ensemble import RandomForestRegressor\n",
    "from sklearn.feature_selection import RFECV, RFE\n",
    "from scipy.signal import argrelmin, argrelmax\n",
    "import joblib\n",
    "import random\n",
    "import multiprocessing\n",
    "\n",
    "covs_all = read_features(f'/home/opengeohub/xuemeng/work_xuemeng/soc/SOC-EU/features/001_covar_all.txt')\n",
    "\n",
    "for ii in [0]:#range(len(prop_list)):\n",
    "    print(f'processing {prop_list[ii]}')\n",
    "    prop = prop_list[ii]\n",
    "    space = space_list[ii]\n",
    "    output_folder = f'/home/opengeohub/xuemeng/work_xuemeng/soc/results_new/{prop}'\n",
    "    \n",
    "    cv = GroupKFold(n_splits=5)\n",
    "    if space=='log1p':\n",
    "        # df.loc[:,f'{prop}_log1p'] = np.log1p(df[prop])\n",
    "        tgt = f'{prop}_log1p'\n",
    "    else:\n",
    "        tgt = prop\n",
    "    \n",
    "    # # separate al, train and test data\n",
    "    cal = pd.read_csv(f'{output_folder}/benchmark_cal.pnts_{prop}.csv',low_memory=False)\n",
    "    cal = cal.dropna(subset=[tgt]+covs_all, how='any')\n",
    "    rf = RandomForestRegressor(random_state=41, n_jobs=-1, n_estimators=100) # default\n",
    "    rfecv = RFECV(rf, cv=cv, step=10, min_features_to_select= 2, n_jobs=2, scoring=ccc_scorer, verbose=0)\n",
    "    start = time.time()\n",
    "    rfecv.fit(cal[covs_all], cal[tgt], groups=cal['tile_id'])\n",
    "    end = time.time()\n",
    "    time_rfecv = (end-start)/60\n",
    "    \n",
    "    # Plotting the RFECV results\n",
    "    num_features = np.arange(len(covs_all),2,-10)\n",
    "    num_features = num_features[::-1]\n",
    "    num_features = np.insert(num_features, 0, 2)\n",
    "    plt.figure(figsize=(8, 5))\n",
    "    plt.errorbar(\n",
    "        x=num_features,\n",
    "        y=rfecv.cv_results_['mean_test_score'],\n",
    "        yerr=rfecv.cv_results_[\"std_test_score\"],\n",
    "        fmt='-o'\n",
    "    )\n",
    "    # plt.axvline(x=rfecv.n_features_, color='red', linestyle='--')\n",
    "    a = np.argmax(rfecv.cv_results_['mean_test_score'])\n",
    "    plt.scatter(rfecv.n_features_, max(rfecv.cv_results_['mean_test_score']), color='red', s=30, zorder=5,label=f'Selected feature number: {rfecv.n_features_}')\n",
    "    plt.xlabel('Number of features', fontsize=14)\n",
    "    plt.ylabel('Score - CCC', fontsize=14)\n",
    "    plt.title('RFECV', fontsize=16)\n",
    "    plt.legend(loc='lower right',fontsize=14)\n",
    "    plt.xticks(fontsize=14)\n",
    "    plt.yticks(fontsize=14)\n",
    "    plt.savefig('/home/opengeohub/xuemeng/work_xuemeng/soc/results_new/ocd/plot_feature.elimination.rfecv_ocd.pdf', dpi=300, bbox_inches='tight')\n",
    "    plt.show()\n",
    "\n",
    "    # save features\n",
    "    selected_features = np.array(covs_all)[rfecv.support_]\n",
    "    with open(f'{output_folder}/benchmark_selected.covs.rfecv_{prop}.txt', 'w') as file:\n",
    "        for item in selected_features:\n",
    "            file.write(f\"{item}\\n\")\n",
    "\n",
    "    print(f'rfecv used {time_rfecv} mins')"
   ]
  },
  {
   "cell_type": "code",
   "execution_count": 59,
   "id": "a0f97c04-ce3d-4e52-b44b-0a70a5e85968",
   "metadata": {},
   "outputs": [
    {
     "data": {
      "text/plain": [
       "44"
      ]
     },
     "execution_count": 59,
     "metadata": {},
     "output_type": "execute_result"
    }
   ],
   "source": [
    "num_features[a]"
   ]
  },
  {
   "cell_type": "code",
   "execution_count": 47,
   "id": "e89b4b9e-65ed-4b64-af19-a226f03c748e",
   "metadata": {},
   "outputs": [],
   "source": []
  },
  {
   "cell_type": "code",
   "execution_count": 60,
   "id": "92a49303-00e8-4b43-a189-73c2a3dc7818",
   "metadata": {},
   "outputs": [
    {
     "data": {
      "text/plain": [
       "44"
      ]
     },
     "execution_count": 60,
     "metadata": {},
     "output_type": "execute_result"
    }
   ],
   "source": [
    "rfecv.n_features_"
   ]
  },
  {
   "cell_type": "code",
   "execution_count": 50,
   "id": "d66558c5-8f2a-4d9e-aa83-7edb418586c1",
   "metadata": {},
   "outputs": [
    {
     "data": {
      "text/plain": [
       "array([0.68586862, 0.74714609, 0.77520838, 0.78161008, 0.78561457,\n",
       "       0.78814567, 0.78658663, 0.78585493, 0.78675436, 0.78570395,\n",
       "       0.78529806, 0.78434957, 0.78411766, 0.78422785, 0.78521147,\n",
       "       0.78501827, 0.78544153, 0.78404355, 0.78407859, 0.7842215 ,\n",
       "       0.78338482, 0.78323601, 0.78273683, 0.78303717, 0.78302047,\n",
       "       0.78287813, 0.78366985, 0.78437453, 0.78347205, 0.78374523,\n",
       "       0.78376618, 0.78362378, 0.78346847, 0.78344539, 0.78443277,\n",
       "       0.78273135, 0.78344062, 0.78359821, 0.78405465, 0.7830628 ,\n",
       "       0.78434418, 0.78304503, 0.7831934 , 0.78358349, 0.78340229,\n",
       "       0.78338521, 0.78338548, 0.78359202, 0.78372514, 0.78380082,\n",
       "       0.78337593, 0.78312727, 0.78377075, 0.78333711, 0.78323361])"
      ]
     },
     "execution_count": 50,
     "metadata": {},
     "output_type": "execute_result"
    }
   ],
   "source": [
    "rfecv.cv_results_['mean_test_score']"
   ]
  },
  {
   "cell_type": "code",
   "execution_count": 9,
   "id": "b4377cc4-82ee-4a87-9879-637ad3821e62",
   "metadata": {},
   "outputs": [],
   "source": [
    "prop = 'ocd'\n",
    "dff = df.loc[df[prop].notna()]\n",
    "dff = dff.loc[dff[f'{prop}_qa']>5]"
   ]
  },
  {
   "cell_type": "code",
   "execution_count": 11,
   "id": "02d839b3-0ef9-4ca5-8522-c066a66afe27",
   "metadata": {},
   "outputs": [],
   "source": [
    "dff.to_csv('/home/opengeohub/xuemeng/work_xuemeng/soc/result_paper/data_ocd.feat.csv',index=False)"
   ]
  },
  {
   "cell_type": "code",
   "execution_count": null,
   "id": "eded0947-0b94-453c-81e8-3fdb0451d6c8",
   "metadata": {},
   "outputs": [],
   "source": [
    "dff = dff"
   ]
  },
  {
   "cell_type": "code",
   "execution_count": 13,
   "id": "d93a771a-4030-4bce-b295-614314b3f644",
   "metadata": {},
   "outputs": [],
   "source": [
    "dff = dff[['id', 'lat', 'lon', 'time', 'ref', 'nuts0','hzn_dep', 'texture1', 'texture2',\n",
    "       'texture1_qa', 'texture2_qa', 'ocd', 'ocd_qa']]\n",
    "dff.to_csv('/home/opengeohub/xuemeng/work_xuemeng/soc/result_paper/data_ocd.no.feat.csv',index=False)"
   ]
  },
  {
   "cell_type": "markdown",
   "id": "9e641c10-f48e-48b5-9c8c-790233d93a66",
   "metadata": {},
   "source": [
    "### plot of RSCFI"
   ]
  },
  {
   "cell_type": "code",
   "execution_count": 15,
   "id": "df369a2d-3161-44c4-bdcb-ebdf9ee2390b",
   "metadata": {},
   "outputs": [
    {
     "data": {
      "image/png": "[encoded data removed]",
      "text/plain": [
       "<Figure size 720x432 with 2 Axes>"
      ]
     },
     "metadata": {
      "needs_background": "light"
     },
     "output_type": "display_data"
    }
   ],
   "source": [
    "results_df = pd.read_csv('/home/opengeohub/xuemeng/work_xuemeng/soc/results_new/ocd/metrics.rank_feature.elimination_ocd.csv')\n",
    "    \n",
    "        \n",
    "results_df = results_df.sort_values(by='Threshold')\n",
    "# plot feature elimination analysis\n",
    "fig, ax1 = plt.subplots(figsize=(10, 6))\n",
    "color = 'tab:blue'\n",
    "ax1.set_xlabel('CFI Threshold', fontsize=16)\n",
    "ax1.set_ylabel('Number of Features', color=color, fontsize=16)\n",
    "line1 = ax1.plot(results_df['Threshold'], results_df['Num_Features'], color=color, marker='o', label='Num_Feat')\n",
    "ax1.tick_params(axis='y', labelcolor=color, labelsize=14)\n",
    "ax1.tick_params(axis='x', labelsize=14)\n",
    "\n",
    "ax2 = ax1.twinx()\n",
    "color = 'tab:red'\n",
    "ax2.set_ylabel('Performance Metrics', color=color, fontsize=16)\n",
    "line2 = ax2.plot(results_df['Threshold'], results_df['CCC'], color='tab:green', marker='x', linestyle='-', linewidth=2, label='CCC')\n",
    "line3 = ax2.plot(results_df['Threshold'], results_df['R2'], color='tab:red', marker='s', linestyle='-', linewidth=2, label='R2')\n",
    "line4 = ax2.plot(results_df['Threshold'], results_df['MAE']/10, color='tab:orange', marker='^', linestyle='-', linewidth=2, label='MAE (scaled by 0.1)')\n",
    "# line5 = ax2.plot(results_df['Threshold'], results_df['MAPE'], color='tab:purple', marker='d', linestyle='-', linewidth=2, label='MAPE')\n",
    "\n",
    "ax2.tick_params(axis='y', labelcolor=color, labelsize=14)\n",
    "\n",
    "fig.tight_layout(rect=[0, 0, 1, 0.95])  # Adjust layout to avoid cutting off the title\n",
    "\n",
    "# Combine legends\n",
    "lines = line1 + line2 + line3 + line4 #+ line5\n",
    "labels = [l.get_label() for l in lines]\n",
    "ax1.legend(lines, labels, loc='upper left', bbox_to_anchor=(0.15, 0.95), fontsize=14, framealpha=0.5)\n",
    "\n",
    "# Best combined rank\n",
    "best_combined_rank_index = results_df['Combined_Rank'].idxmin()\n",
    "best_threshold = results_df.loc[best_combined_rank_index, 'Threshold']\n",
    "best_num_features = results_df.loc[best_combined_rank_index, 'Num_Features']\n",
    "\n",
    "# Vertical line for the best and selected threshold\n",
    "ax1.axvline(x=best_threshold, color='grey', linestyle='--')\n",
    "# ax1.axvline(x=selected_threshold, color='cyan', linestyle='--', label='Selected Threshold')\n",
    "\n",
    "# Update the legend to include the vertical line label\n",
    "lines += [ax1.axvline(x=best_threshold, color='grey', linestyle='--')]\n",
    "labels += [f'Selected feature number: {best_num_features}']\n",
    "# lines += [ax1.axvline(x=selected_threshold, color='cyan', linestyle='--')]\n",
    "# labels += ['Selected Threshold']\n",
    "ax1.legend(lines, labels, bbox_to_anchor=(0.9,0.8), fontsize=14, framealpha=0.5)#, bbox_to_anchor=(0.15, 0.95)\n",
    "\n",
    "plt.title(f'RSCFI', fontsize=16)\n",
    "plt.savefig(f'{output_folder}/plot_feature.elimination_{prop}.pdf', dpi = 300)\n",
    "plt.show()"
   ]
  },
  {
   "cell_type": "code",
   "execution_count": null,
   "id": "ac6631ad-b41e-41a6-85b6-fee1128c2497",
   "metadata": {},
   "outputs": [],
   "source": []
  }
 ],
 "metadata": {
  "kernelspec": {
   "display_name": "Python 3 (ipykernel)",
   "language": "python",
   "name": "python3"
  },
  "language_info": {
   "codemirror_mode": {
    "name": "ipython",
    "version": 3
   },
   "file_extension": ".py",
   "mimetype": "text/x-python",
   "name": "python",
   "nbconvert_exporter": "python",
   "pygments_lexer": "ipython3",
   "version": "3.8.13"
  }
 },
 "nbformat": 4,
 "nbformat_minor": 5
}
