{
 "cells": [
  {
   "cell_type": "code",
   "execution_count": 1,
   "id": "2988945e-f5be-4fff-991c-90c3ea6103ad",
   "metadata": {
    "tags": []
   },
   "outputs": [],
   "source": [
    "import numpy as np\n",
    "import matplotlib\n",
    "import matplotlib.pyplot as plt\n",
    "import pandas as pd\n",
    "from eumap.misc import find_files, ttprint, nan_percentile, GoogleSheet\n",
    "from eumap.raster import read_rasters, save_rasters\n",
    "import warnings\n",
    "import multiprocess as mp\n",
    "import time\n",
    "from scipy.special import expit, logit\n",
    "import warnings\n",
    "from sklearn.experimental import enable_halving_search_cv\n",
    "from sklearn.model_selection import train_test_split, cross_val_score, HalvingGridSearchCV, KFold, GroupKFold, cross_val_predict\n",
    "from sklearn.metrics import mean_squared_error, r2_score, mean_absolute_error, mean_absolute_percentage_error\n",
    "from sklearn.ensemble import RandomForestRegressor\n",
    "from sklearn.pipeline import Pipeline\n",
    "from sklearn.neural_network import MLPRegressor\n",
    "import joblib\n",
    "import pickle\n",
    "from sklearn.metrics import r2_score, mean_squared_error, make_scorer#, root_mean_squared_error\n",
    "from scipy.stats import pearsonr\n",
    "from sklearn.preprocessing import StandardScaler\n",
    "# from cubist import Cubist\n",
    "from sklearn.base import BaseEstimator, TransformerMixin\n",
    "from pathlib import Path\n",
    "from benchmark_pipeline import read_features, run_cumusort, parameter_fine_tuning, evaluate_model, calc_ccc, separate_data\n",
    "### input\n",
    "folder = 'http://192.168.1.30:8333/ai4sh-landmasked/model_benchmark'\n",
    "from log_back_transform_rf import TreesRandomForestRegressor\n",
    "\n",
    "prop_list = ['ocd','oc','bulk_density', 'ph_cacl2','ph_h2o','N','caco3','K','EC','P','CEC','texture1','texture2'] # unitl N everything has lightGBM models\n",
    "# space_list = ['boxcox','log1p','normal', 'normal','normal','log1p','log1p','log1p','log1p','log1p','log1p','log1p','log1p'] # \n",
    "space_list = ['log1p','log1p','normal', 'normal','normal','log1p','log1p','log1p','log1p','log1p','log1p','log1p','log1p'] # \n",
    "filt_list = [5,5,5,5,5,5,5,5,5,5,5,5,5,5,5,5] #5,5,5,5,\n"
   ]
  },
  {
   "cell_type": "code",
   "execution_count": 4,
   "id": "f2151707-1539-4d09-9f91-5605d583911e",
   "metadata": {},
   "outputs": [
    {
     "data": {
      "text/plain": [
       "13"
      ]
     },
     "execution_count": 4,
     "metadata": {},
     "output_type": "execute_result"
    }
   ],
   "source": [
    "len(prop_list)"
   ]
  },
  {
   "cell_type": "markdown",
   "id": "c6879b8a-ad5a-47b9-9bba-97c7008bc832",
   "metadata": {},
   "source": [
    "### run the pipeline in modules"
   ]
  },
  {
   "cell_type": "code",
   "execution_count": 2,
   "id": "6cfcdeb6-1a2c-4306-a233-ca0b4b4e586a",
   "metadata": {},
   "outputs": [],
   "source": [
    "# df = pd.read_csv('/home/opengeohub/xuemeng/work_xuemeng/soc/data/002.2_data_whole.csv', low_memory=False)"
   ]
  },
  {
   "cell_type": "code",
   "execution_count": 3,
   "id": "1a866a2d-1489-4f21-aeb6-10b49d76a9ce",
   "metadata": {
    "scrolled": true,
    "tags": []
   },
   "outputs": [
    {
     "name": "stdout",
     "output_type": "stream",
     "text": [
      "processing ocd_log1p\n",
      "[17:04:47] ----------------------weighted rf------------------------\n",
      "n_iterations: 6\n",
      "n_required_iterations: 6\n",
      "n_possible_iterations: 6\n",
      "min_resources_: 15\n",
      "max_resources_: 3672\n",
      "aggressive_elimination: False\n",
      "factor: 3\n",
      "----------\n",
      "iter: 0\n",
      "n_candidates: 540\n",
      "n_resources: 15\n",
      "Fitting 5 folds for each of 540 candidates, totalling 2700 fits\n",
      "----------\n",
      "iter: 1\n",
      "n_candidates: 180\n",
      "n_resources: 45\n",
      "Fitting 5 folds for each of 180 candidates, totalling 900 fits\n",
      "----------\n",
      "iter: 2\n",
      "n_candidates: 60\n",
      "n_resources: 135\n",
      "Fitting 5 folds for each of 60 candidates, totalling 300 fits\n",
      "----------\n",
      "iter: 3\n",
      "n_candidates: 20\n",
      "n_resources: 405\n",
      "Fitting 5 folds for each of 20 candidates, totalling 100 fits\n",
      "----------\n",
      "iter: 4\n",
      "n_candidates: 7\n",
      "n_resources: 1215\n",
      "Fitting 5 folds for each of 7 candidates, totalling 35 fits\n",
      "----------\n",
      "iter: 5\n",
      "n_candidates: 3\n",
      "n_resources: 3645\n",
      "Fitting 5 folds for each of 3 candidates, totalling 15 fits\n",
      "ocd_log1p, 64 trees\n",
      "---------------------------------------------------------\n"
     ]
    }
   ],
   "source": [
    "import warnings\n",
    "warnings.filterwarnings('ignore')\n",
    "import os\n",
    "from benchmark_pipeline import run_benchmark\n",
    "from scipy.stats import boxcox\n",
    "from scipy.special import inv_boxcox\n",
    "\n",
    "for ii in [0]:#range(len(prop_list)):\n",
    "    \n",
    "    prop = prop_list[ii]\n",
    "    space = space_list[ii]\n",
    "    filt = filt_list[ii]\n",
    "    output_folder = f'/home/opengeohub/xuemeng/work_xuemeng/soc/results_new/{prop}'\n",
    "    os.makedirs(output_folder, exist_ok=True)\n",
    "    \n",
    "    # get cal, train and test data\n",
    "    # cal, train, test = separate_data(prop, filt, space, output_folder, df)\n",
    "    cal = pd.read_csv(f'{output_folder}/benchmark_cal.pnts_{prop}.csv',low_memory=False)\n",
    "    \n",
    "    if space=='log1p':\n",
    "        # df.loc[:,f'{prop}_log1p'] = np.log1p(df[prop])\n",
    "        tgt = f'{prop}_log1p'\n",
    "    elif space=='boxcox':\n",
    "        # df.loc[:,f'{prop}_log1p'] = np.log1p(df[prop])\n",
    "        tgt = f'{prop}_boxcox'\n",
    "    else:\n",
    "        tgt = prop\n",
    "    \n",
    "    print(f'processing {tgt}')\n",
    "    \n",
    "    # cal[f'{prop}_boxcox'], fitted_lambda = boxcox(cal['ocd'], lmbda=None)\n",
    "\n",
    "    # # features\n",
    "    # start = time.time()\n",
    "    # covs = run_cumusort(cal, tgt, prop, space, output_folder, threshold_step=0.0005) #, weights_feature=None, threshold_step=0.001\n",
    "    # end = time.time()\n",
    "    # time_used = (end-start)/60\n",
    "    # print(f'rscfi used {time_used} mins')\n",
    "    covs = read_features(f'/home/opengeohub/xuemeng/work_xuemeng/soc/results_new/{prop}/benchmark_selected.covs_{prop}.txt')\n",
    "    \n",
    "    # parameter fine-tuning\n",
    "    models, model_names = parameter_fine_tuning(cal, covs, tgt, prop, output_folder)\n",
    "    n_trees = len(models[0].estimators_)\n",
    "    print(f'{tgt}, {n_trees} trees')\n",
    "    \n",
    "#     # models\n",
    "#     model_list = find_files(f'/home/opengeohub/xuemeng/work_xuemeng/soc/results_new/{prop}/','*model*joblib')\n",
    "#     model_list = [str(i) for i in model_list]\n",
    "#     model_names = []\n",
    "#     models = []\n",
    "#     for iii in range(len(model_list)):\n",
    "#         models.append(joblib.load(model_list[iii]))\n",
    "#         model_names.append(model_list[iii].split('/')[-1][6:-7])\n",
    "    \n",
    "#     # # print(model_names)\n",
    "#     # train = pd.read_csv(f'{output_folder}/benchmark_train.pnts_{prop}.csv',low_memory=False)\n",
    "#     # test = pd.read_csv(f'{output_folder}/benchmark_test.pnts_{prop}.csv',low_memory=False)\n",
    "#     evaluate_model(models,model_names,cal,covs,prop,space,output_folder,test=None)\n",
    "    \n",
    "# #     # # run the pipeline like a whole\n",
    "# #     # run_benchmark(folder=folder,\n",
    "# #     #               output_folder=output_folder,\n",
    "# #     #               space=space_list[ii],\n",
    "# #     #               prop=prop,\n",
    "# #     #               filt=filt_list[ii])\n",
    "    print('---------------------------------------------------------')"
   ]
  },
  {
   "cell_type": "markdown",
   "id": "d8104673-f392-4511-8430-58db01428880",
   "metadata": {},
   "source": [
    "### check"
   ]
  },
  {
   "cell_type": "code",
   "execution_count": 5,
   "id": "9fb7e4de-c4ff-4497-9213-2b2349a4ff65",
   "metadata": {},
   "outputs": [
    {
     "name": "stdout",
     "output_type": "stream",
     "text": [
      "feature number of ocd: 55 , hzn_dep is in the covariates list\n",
      "feature number of oc: 62 , hzn_dep is in the covariates list\n",
      "feature number of bulk_density: 59 , hzn_dep is in the covariates list\n",
      "feature number of ph_cacl2: 56 , hzn_dep is in the covariates list\n",
      "feature number of ph_h2o: 61 , hzn_dep is in the covariates list\n",
      "feature number of N: 65 , hzn_dep is in the covariates list\n",
      "feature number of caco3: 55 , hzn_dep is in the covariates list\n",
      "feature number of K: 56 , hzn_dep is in the covariates list\n",
      "feature number of EC: 74 , hzn_dep is in the covariates list\n",
      "feature number of P: 54 , hzn_dep is in the covariates list\n",
      "feature number of CEC: 84 , hzn_dep is in the covariates list\n",
      "feature number of texture1: 34 , hzn_dep is in the covariates list\n",
      "feature number of texture2: 81 , hzn_dep is in the covariates list\n"
     ]
    }
   ],
   "source": [
    "for prop in prop_list:\n",
    "    covsl = f'/home/opengeohub/xuemeng/work_xuemeng/soc/results_new/{prop}/benchmark_selected.covs_{prop}.txt'\n",
    "    # covariates\n",
    "    covs = read_features(covsl)\n",
    "    if 'hzn_dep' in covs:\n",
    "        iss = 'is'\n",
    "    else:\n",
    "        iss = 'is not'\n",
    "    print(f'feature number of {prop}:', len(covs), f', hzn_dep {iss} in the covariates list')"
   ]
  },
  {
   "cell_type": "code",
   "execution_count": 8,
   "id": "50fee5c2-71e9-412d-944e-cc5cc0ba3600",
   "metadata": {},
   "outputs": [
    {
     "name": "stdout",
     "output_type": "stream",
     "text": [
      "in total, we used 261 covariates\n"
     ]
    },
    {
     "data": {
      "text/plain": [
       "['lithology.94.lithology_egdi.1m_c_250m_s_20000101_20221231_eu_epsg.3035_v20240530.tif',\n",
       " 'lithology.61.lithology_egdi.1m_c_250m_s_20000101_20221231_eu_epsg.3035_v20240530.tif',\n",
       " 'lithology.103.lithology_egdi.1m_c_250m_s_20000101_20221231_eu_epsg.3035_v20240530.tif',\n",
       " 'lithology.57.lithology_egdi.1m_c_250m_s_20000101_20221231_eu_epsg.3035_v20240530.tif',\n",
       " 'lithology.23.lithology_egdi.1m_c_250m_s_20000101_20221231_eu_epsg.3035_v20240530.tif',\n",
       " 'lithology.28.lithology_egdi.1m_c_250m_s_20000101_20221231_eu_epsg.3035_v20240530.tif',\n",
       " 'lithology.46.lithology_egdi.1m_c_250m_s_20000101_20221231_eu_epsg.3035_v20240530.tif',\n",
       " 'lithology.78.lithology_egdi.1m_c_250m_s_20000101_20221231_eu_epsg.3035_v20240530.tif',\n",
       " 'lithology.82.lithology_egdi.1m_c_250m_s_20000101_20221231_eu_epsg.3035_v20240530.tif']"
      ]
     },
     "execution_count": 8,
     "metadata": {},
     "output_type": "execute_result"
    }
   ],
   "source": [
    "# check all the features used\n",
    "ll = find_files('/home/opengeohub/xuemeng/work_xuemeng/soc/results_new/production_model/','*.txt')\n",
    "ll = [str(i) for i in ll if 'checkpoint' not in str(i)]\n",
    "ln = []\n",
    "for ii in ll:\n",
    "    ln.extend(read_features(ii))\n",
    "    \n",
    "ln = list(set(ln))\n",
    "litho = [ii for ii in ln if 'lithology' in ii]\n",
    "\n",
    "print(f'in total, we used {len(ln)} covariates')\n",
    "\n",
    "litho\n"
   ]
  },
  {
   "cell_type": "markdown",
   "id": "89e4ba54-1984-405f-9dee-36b9aeaad524",
   "metadata": {},
   "source": [
    "### production model"
   ]
  },
  {
   "cell_type": "code",
   "execution_count": 10,
   "id": "6f996e8e-5b88-435b-9fc8-a3793a705411",
   "metadata": {},
   "outputs": [
    {
     "name": "stdout",
     "output_type": "stream",
     "text": [
      "ocd_log1p, 64 trees\n",
      "Updated n_jobs to 90 for model propduction.model_rf.ocd_ccc.joblib.\n",
      "fitting production model for ocd, target variable ocd_log1p\n",
      "size 22401\n",
      "\n",
      "oc_log1p, 64 trees\n",
      "Updated n_jobs to 90 for model propduction.model_rf.oc_ccc.joblib.\n",
      "fitting production model for oc, target variable oc_log1p\n",
      "size 105586\n",
      "\n",
      "bulk_density, 64 trees\n",
      "Updated n_jobs to 90 for model propduction.model_rf.bulk_density_ccc.joblib.\n",
      "fitting production model for bulk_density, target variable bulk_density\n",
      "size 24421\n",
      "\n",
      "ph_cacl2, 64 trees\n",
      "Updated n_jobs to 90 for model propduction.model_rf.ph_cacl2_ccc.joblib.\n",
      "fitting production model for ph_cacl2, target variable ph_cacl2\n",
      "size 86162\n",
      "\n",
      "ph_h2o, 64 trees\n",
      "Updated n_jobs to 90 for model propduction.model_rf.ph_h2o_ccc.joblib.\n",
      "fitting production model for ph_h2o, target variable ph_h2o\n",
      "size 85071\n",
      "\n",
      "N_log1p, 64 trees\n",
      "Updated n_jobs to 90 for model propduction.model_rf.N_ccc.joblib.\n",
      "fitting production model for N, target variable N_log1p\n",
      "size 86475\n",
      "\n",
      "caco3_log1p, 64 trees\n",
      "Updated n_jobs to 90 for model propduction.model_rf.caco3_ccc.joblib.\n",
      "fitting production model for caco3, target variable caco3_log1p\n",
      "size 59657\n",
      "\n",
      "K_log1p, 64 trees\n",
      "Updated n_jobs to 90 for model propduction.model_rf.K_ccc.joblib.\n",
      "fitting production model for K, target variable K_log1p\n",
      "size 72312\n",
      "\n",
      "EC_log1p, 64 trees\n",
      "Updated n_jobs to 90 for model propduction.model_rf.EC_ccc.joblib.\n",
      "fitting production model for EC, target variable EC_log1p\n",
      "size 57368\n",
      "\n",
      "P_log1p, 64 trees\n",
      "Updated n_jobs to 90 for model propduction.model_rf.P_ccc.joblib.\n",
      "fitting production model for P, target variable P_log1p\n",
      "size 86536\n",
      "\n",
      "CEC_log1p, 64 trees\n",
      "Updated n_jobs to 90 for model propduction.model_rf.CEC_ccc.joblib.\n",
      "fitting production model for CEC, target variable CEC_log1p\n",
      "size 27607\n",
      "\n",
      "texture1_log1p, 64 trees\n",
      "Updated n_jobs to 90 for model propduction.model_rf.texture1_ccc.joblib.\n",
      "fitting production model for texture1, target variable texture1_log1p\n",
      "size 36771\n",
      "\n",
      "texture2_log1p, 64 trees\n",
      "Updated n_jobs to 90 for model propduction.model_rf.texture2_ccc.joblib.\n",
      "fitting production model for texture2, target variable texture2_log1p\n",
      "size 35912\n",
      "\n"
     ]
    }
   ],
   "source": [
    "import shutil\n",
    "n_jobs=90\n",
    "for ii in range(len(prop_list)):\n",
    "    space = space_list[ii]\n",
    "    \n",
    "    # target property\n",
    "    prop = prop_list[ii]\n",
    "    if space=='log1p':\n",
    "        df.loc[:,f'{prop}_log1p'] = np.log1p(df[prop])\n",
    "        tgt = f'{prop}_log1p'\n",
    "    else:\n",
    "        tgt = prop\n",
    "        \n",
    "    output_folder = f'/home/opengeohub/xuemeng/work_xuemeng/soc/results_new/{prop}'\n",
    "    \n",
    "    # model\n",
    "    pathm = f'/home/opengeohub/xuemeng/work_xuemeng/soc/results_new/{prop}/model_rf.{prop}_ccc.joblib'\n",
    "    model = joblib.load(pathm)\n",
    "    # model.estimators_ = 64\n",
    "    n_trees = len(model.estimators_)\n",
    "    print(f'{tgt}, {n_trees} trees')\n",
    "    \n",
    "    # covariates\n",
    "    pathc = f'/home/opengeohub/xuemeng/work_xuemeng/soc/results_new/{prop}/benchmark_selected.covs_{prop}.txt'\n",
    "    covs = read_features(pathc)  \n",
    "        \n",
    "    namef = 'propduction.' + pathm.split('/')[-1]\n",
    "    # update model's n_jobs\n",
    "    if hasattr(model, 'steps'):  # Check if it's a Pipeline\n",
    "        for name, estimator in model.steps:\n",
    "            if hasattr(estimator, 'n_jobs'):\n",
    "                estimator.n_jobs = n_jobs\n",
    "                print(f\"Updated n_jobs to {n_jobs} for '{name}' in the pipeline.\")\n",
    "    elif hasattr(model, 'n_jobs'):  # Check if it's a model with n_jobs\n",
    "        model.n_jobs = n_jobs\n",
    "        print(f\"Updated n_jobs to {n_jobs} for model {namef}.\")\n",
    "    else:\n",
    "        print(\"This object does not support the 'n_jobs' parameter.\")\n",
    "        \n",
    "    print(f'fitting production model for {prop_list[ii]}, target variable {tgt}')\n",
    "    \n",
    "    # all the data\n",
    "    dff = df.loc[df[f'{prop}_qa']>5]\n",
    "    dff = dff.dropna(subset=covs+[tgt],how='any')\n",
    "    print(f'size {len(dff)}')\n",
    "    print()\n",
    "    \n",
    "    \n",
    "    # fit the model\n",
    "    # model.predict(dff.iloc[0:2][covs])\n",
    "    model.fit(dff[covs],dff[tgt])\n",
    "    os.makedirs('/home/opengeohub/xuemeng/work_xuemeng/soc/results_new/production_model', exist_ok=True)\n",
    "    joblib.dump(model,f'/home/opengeohub/xuemeng/work_xuemeng/soc/results_new/production_model/{namef}')\n",
    "    shutil.copy(pathc, pathc.replace(f'results_new/{prop}','results_new/production_model'))"
   ]
  },
  {
   "cell_type": "code",
   "execution_count": null,
   "id": "bb90da0e-a49d-46b9-b57b-70052eb5a3cd",
   "metadata": {},
   "outputs": [],
   "source": []
  }
 ],
 "metadata": {
  "kernelspec": {
   "display_name": "Python 3 (ipykernel)",
   "language": "python",
   "name": "python3"
  },
  "language_info": {
   "codemirror_mode": {
    "name": "ipython",
    "version": 3
   },
   "file_extension": ".py",
   "mimetype": "text/x-python",
   "name": "python",
   "nbconvert_exporter": "python",
   "pygments_lexer": "ipython3",
   "version": "3.8.13"
  }
 },
 "nbformat": 4,
 "nbformat_minor": 5
}
