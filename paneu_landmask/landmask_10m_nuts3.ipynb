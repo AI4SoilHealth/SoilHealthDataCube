{
 "cells": [
  {
   "cell_type": "code",
   "execution_count": 1,
   "id": "798cea6b-44b0-472d-a346-f2363e8cecc7",
   "metadata": {},
   "outputs": [],
   "source": [
    "from eumap.misc import find_files, nan_percentile\n",
    "from eumap.raster import read_rasters, save_rasters, write_new_raster\n",
    "from eumap.parallel import TilingProcessing\n",
    "\n",
    "import time as tm\n",
    "import numpy as np\n",
    "import os\n",
    "# import ee\n",
    "# import geemap\n",
    "import multiprocessing\n",
    "from eumap.raster import read_rasters\n",
    "import rasterio\n",
    "from rasterio import features\n",
    "import geopandas as gpd\n",
    "from osgeo import ogr, gdal\n",
    "from multiprocessing import Pool\n",
    "import warnings\n",
    "from os.path import exists\n",
    "import pandas as pd\n",
    "from rasterio.features import rasterize\n",
    "\n",
    "# Suppress all warnings\n",
    "warnings.filterwarnings(\"ignore\")"
   ]
  },
  {
   "cell_type": "code",
   "execution_count": 2,
   "id": "69999858-989c-40c3-ae16-cf9a1f63e053",
   "metadata": {},
   "outputs": [],
   "source": [
    "nut = gpd.read_file('/mnt/inca/EU_landmask/nut.shp')\n",
    "nut = nut.loc[nut['LEVL_CODE']==3]\n",
    "nut.reset_index(inplace=True)\n",
    "nut['index']=nut.index\n",
    "shapes = [(geometry, index) for geometry, index in zip(nut.geometry, nut.index)]\n",
    "\n",
    "code = pd.read_csv('/mnt/inca/EU_landmask/iso_3366_1_country_code.csv')\n",
    "code.loc[code['alpha-2']=='GR','alpha-2']='EL'\n",
    "code.loc[code['alpha-2']=='GB','alpha-2']='UK'\n",
    "\n",
    "input_files = find_files('/mnt/inca/EU_landmask/landmask2','*.tif')\n",
    "input_files = [str(i) for i in input_files]\n",
    "files = [(shapes,i) for i in input_files]"
   ]
  },
  {
   "cell_type": "code",
   "execution_count": 3,
   "id": "931d93db-efa5-4a5e-b3c9-57597da0a3d6",
   "metadata": {},
   "outputs": [],
   "source": [
    "def worker_nut(shapes,ref):\n",
    "    mask_ds = rasterio.open(ref)\n",
    "    mask = np.zeros(mask_ds.shape)\n",
    "    out_f = '/mnt/inca/EU_landmask/landmask_nuts/nutmask_EU' + ref[43::]\n",
    "    \n",
    "    rasterize(shapes, out=mask, transform=mask_ds.transform)\n",
    "    save_rasters(ref, [out_f], mask, dtype='float32' ,n_jobs=30)\n",
    "    return"
   ]
  },
  {
   "cell_type": "code",
   "execution_count": 4,
   "id": "d96019ab-6c1b-41b9-9bb6-1b5ab6219239",
   "metadata": {},
   "outputs": [],
   "source": [
    "# def worker_nut(nut,code,f):\n",
    "#     mask_ds = rasterio.open(f)\n",
    "#     out_f = '/mnt/inca/EU_landmask/landmask_nuts/nutmask_EU' + f[43::]\n",
    "#     if exists(out_f):\n",
    "#         return None\n",
    "    \n",
    "#     # Create raster\n",
    "#     mask = np.zeros(mask_ds.shape)\n",
    "    \n",
    "#     for i in range(len(nut)):\n",
    "#         print(i)\n",
    "#         value = nut.iloc[i]['index']\n",
    "#         isnut = features.geometry_mask([nut.iloc[i]['geometry']], out_shape=np.squeeze(mask).shape, transform=mask_ds.transform)\n",
    "#         isnut = ~isnut\n",
    "#         if np.any(isnut):\n",
    "#             mask[isnut] = value\n",
    "        \n",
    "# #     if ~np.any(is_inland):\n",
    "# #         a = f.split('_')[-2]\n",
    "# #         print(f'{a} out of scope')\n",
    "# #         return a\n",
    "# #     out_t = '/mnt/inca/EU_landmask/landmask/test_inland' + f[55::]\n",
    "# #     save_rasters(f, [out_t], is_inland, n_jobs=30)\n",
    "# #     print(np.unique(mask))\n",
    "#     save_rasters(f, [out_f], mask, dtype='float32' ,n_jobs=30)\n",
    "#     return None"
   ]
  },
  {
   "cell_type": "code",
   "execution_count": 5,
   "id": "e63a64dd-d1f6-47a4-a35b-7823bd168946",
   "metadata": {},
   "outputs": [],
   "source": [
    "# test = ['/mnt/inca/EU_landmask/landmask2/landmask_EU_10m_2021_v200_N54E006_Map.tif'] #'/mnt/inca/EU_landmask/landmask2/landmask_EU_10m_2021_v200_N51E006_Map.tif','/mnt/inca/EU_landmask/landmask2/landmask_EU_10m_2021_v200_N48E000_Map.tif'\n",
    "\n",
    "# for i in test:\n",
    "#     result = worker_nut(nut,code,i)\n",
    "\n",
    "with Pool(12) as p:\n",
    "    result = p.starmap(worker_nut, files)"
   ]
  },
  {
   "cell_type": "code",
   "execution_count": 2,
   "id": "cbea6cd8-a7f1-4e9c-a6e5-45aaeb3b4066",
   "metadata": {},
   "outputs": [],
   "source": [
    "vrt_file = '/mnt/inca/EU_landmask/landmask_nuts/nuts_landmask.vrt'\n",
    "# input_files = find_files('/mnt/inca/EU_landmask/landmask_nuts/','*.tif')\n",
    "# input_files = [str(i) for i in input_files]\n",
    "# vrt_dataset = gdal.BuildVRT(vrt_file, input_files)\n",
    "# vrt_dataset.FlushCache()"
   ]
  },
  {
   "cell_type": "code",
   "execution_count": null,
   "id": "0eb7db00-d394-400d-97af-da3dfa69404c",
   "metadata": {},
   "outputs": [],
   "source": [
    "tif_file = '/mnt/inca/EU_landmask/nuts_10m_landmask.tif'\n",
    "ref_file = '/mnt/inca/EU_landmask/U2018_CHA1218_12_V2020_20u1.tif'\n",
    "with rasterio.open(ref_file) as src:\n",
    "    projection = src.crs\n",
    "    transform = src.bounds\n",
    "    \n",
    "options = [\n",
    "    f'BLOCKSIZE=1024',\n",
    "    f'BIGTIFF=YES',\n",
    "    f'COMPRESS=DEFLATE',\n",
    "    f'NUM_THREADS=8',\n",
    "    f'LEVEL=9',\n",
    "    f'FORMAT=COG'\n",
    "]\n",
    "# gdal.SetConfigOption('CHECK_DISK_FREE_SPACE', 'FALSE')\n",
    "gdal.Warp(tif_file, vrt_file, format='GTiff', outputBounds=transform, dstSRS=projection, xRes=10, yRes=-10, options=options)"
   ]
  },
  {
   "cell_type": "raw",
   "id": "341bc94f-7017-46f6-9924-d15b2436e9b7",
   "metadata": {},
   "source": [
    "gdalwarp /mnt/inca/EU_landmask/landmask_euroworld/euroworld_landmask.vrt /mnt/inca/EU_landmask/country.code_iso.3166_c_10m_s_20210101_20211231_eu_epsg.3035_v1.0.tif -t_srs 'EPSG:3035' -te 900000 900000 5500000 7400000 -tr 10 10 --config GDAL_CACHEMAX 2048 -co BLOCKSIZE=1024 -co BIGTIFF=YES -co COMPRESS=DEFLATE -co NUM_THREADS=8 -co LEVEL=9 -of COG"
   ]
  }
 ],
 "metadata": {
  "kernelspec": {
   "display_name": "Python 3 (ipykernel)",
   "language": "python",
   "name": "python3"
  },
  "language_info": {
   "codemirror_mode": {
    "name": "ipython",
    "version": 3
   },
   "file_extension": ".py",
   "mimetype": "text/x-python",
   "name": "python",
   "nbconvert_exporter": "python",
   "pygments_lexer": "ipython3",
   "version": "3.8.10"
  }
 },
 "nbformat": 4,
 "nbformat_minor": 5
}
